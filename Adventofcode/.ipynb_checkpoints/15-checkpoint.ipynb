{
 "cells": [
  {
   "cell_type": "code",
   "execution_count": null,
   "metadata": {},
   "outputs": [],
   "source": [
    "a = astart\n",
    "b = bstart\n",
    "\n",
    "match = 0\n",
    "for i in range(1, 5):\n",
    "    \n",
    "    while True:\n",
    "        a = (a * am) % divider\n",
    "        if a % 4 == 0:\n",
    "            break\n",
    "            \n",
    "    while True:\n",
    "        b = (b * bm) % divider\n",
    "        if b % 8 == 0:\n",
    "            break\n",
    "    \n",
    "    print (\"{} {}\".format(a,b))\n",
    "    if i % 1000000 == 0:\n",
    "        print (i)\n",
    "        \n",
    "    stra = a % (2**16)\n",
    "    strb = b % (2**16)\n",
    "    \n",
    "    if stra == strb:\n",
    "        match += 1\n",
    "    \n",
    "print(a)\n",
    "print(b)\n",
    "print (match)"
   ]
  }
 ],
 "metadata": {
  "kernelspec": {
   "display_name": "Python 3",
   "language": "python",
   "name": "python3"
  },
  "language_info": {
   "codemirror_mode": {
    "name": "ipython",
    "version": 3
   },
   "file_extension": ".py",
   "mimetype": "text/x-python",
   "name": "python",
   "nbconvert_exporter": "python",
   "pygments_lexer": "ipython3",
   "version": "3.6.2"
  }
 },
 "nbformat": 4,
 "nbformat_minor": 2
}
