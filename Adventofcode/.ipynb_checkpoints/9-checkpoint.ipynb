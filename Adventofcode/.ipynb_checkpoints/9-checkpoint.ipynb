{
 "cells": [
  {
   "cell_type": "code",
   "execution_count": 28,
   "metadata": {},
   "outputs": [],
   "source": [
    "inp = [\n",
    "    '{{<ab>},{<ab>},{<ab>},{<ab>}}',\n",
    "    '{{{}}}',\n",
    "    '{{<a>},{<a>},{<a>},{<a>}}',\n",
    "    '{{},{}}',\n",
    "    '{{{},{},{{}}}}',\n",
    "    '{<a>,<a>,<a>,<a>}',\n",
    "    '{{<ab>},{<ab>},{<ab>},{<ab>}}',\n",
    "    '{{<!!>},{<!!>},{<!!>},{<!!>}}',\n",
    "    '{{<a!>},{<a!>},{<a!>},{<ab>}}'\n",
    "]"
   ]
  },
  {
   "cell_type": "code",
   "execution_count": 34,
   "metadata": {},
   "outputs": [],
   "source": [
    "from io import StringIO"
   ]
  },
  {
   "cell_type": "code",
   "execution_count": 39,
   "metadata": {},
   "outputs": [],
   "source": [
    "inp_file = open('9.inp')\n",
    "\n",
    "inp = ''\n",
    "for instr in inp_file.readlines():\n",
    "    inp = inp + instr\n",
    "    \n",
    "    \n",
    "inp = [inp]\n",
    "    "
   ]
  },
  {
   "cell_type": "code",
   "execution_count": 42,
   "metadata": {
    "scrolled": false
   },
   "outputs": [
    {
     "name": "stdout",
     "output_type": "stream",
     "text": [
      "16689\n"
     ]
    }
   ],
   "source": [
    "\n",
    "for s in inp:\n",
    "    stack = 0\n",
    "    score = 0\n",
    "    tot_score = 0\n",
    "    skip = False\n",
    "    garbage = False\n",
    "    \n",
    "    garbage_count = 0\n",
    "    \n",
    "    for c in s:\n",
    "\n",
    "        if skip:\n",
    "            skip = False\n",
    "            continue\n",
    "            \n",
    "        if c == '!':\n",
    "            skip = True\n",
    "            continue\n",
    "\n",
    "        if c == '>':\n",
    "            garbage = False\n",
    "            pass\n",
    "\n",
    "        if garbage:\n",
    "            garbage_count += 1\n",
    "            continue\n",
    "\n",
    "        if c == '{':\n",
    "            score += 1\n",
    "            stack.append(score)\n",
    "            pass\n",
    "        elif c == '}':\n",
    "            tot_score = tot_score + stack.pop()\n",
    "            score -= 1\n",
    "            pass\n",
    "        if c == '<':\n",
    "            garbage = True\n",
    "            pass\n",
    "        else:\n",
    "            continue\n",
    "\n",
    "\n",
    "    print (tot_score)"
   ]
  },
  {
   "cell_type": "code",
   "execution_count": 43,
   "metadata": {},
   "outputs": [
    {
     "name": "stdout",
     "output_type": "stream",
     "text": [
      "7982\n"
     ]
    }
   ],
   "source": [
    "print(garbage_count)"
   ]
  },
  {
   "cell_type": "code",
   "execution_count": null,
   "metadata": {},
   "outputs": [],
   "source": [
    "print (tot_score)"
   ]
  }
 ],
 "metadata": {
  "kernelspec": {
   "display_name": "Python 3",
   "language": "python",
   "name": "python3"
  },
  "language_info": {
   "codemirror_mode": {
    "name": "ipython",
    "version": 3
   },
   "file_extension": ".py",
   "mimetype": "text/x-python",
   "name": "python",
   "nbconvert_exporter": "python",
   "pygments_lexer": "ipython3",
   "version": "3.6.2"
  }
 },
 "nbformat": 4,
 "nbformat_minor": 2
}
