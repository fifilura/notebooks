{
 "cells": [
  {
   "cell_type": "code",
   "execution_count": 134,
   "metadata": {},
   "outputs": [
    {
     "data": {
      "text/plain": [
       "[97, 167, 54, 178, 2, 11, 209, 174, 119, 248, 254, 0, 255, 1, 64, 190]"
      ]
     },
     "execution_count": 134,
     "metadata": {},
     "output_type": "execute_result"
    }
   ],
   "source": [
    "inp = '97,167,54,178,2,11,209,174,119,248,254,0,255,1,64,190'.split(',')\n",
    "inp = [int(x) for x in inp]\n",
    "inp"
   ]
  },
  {
   "cell_type": "code",
   "execution_count": 116,
   "metadata": {},
   "outputs": [
    {
     "data": {
      "text/plain": [
       "[3, 4, 1, 5]"
      ]
     },
     "execution_count": 116,
     "metadata": {},
     "output_type": "execute_result"
    }
   ],
   "source": [
    "l = list(range(0,5))\n",
    "lengths = '3, 4, 1, 5'.split(',')\n",
    "lengths = [int(x) for x in lenghts]\n",
    "lengths"
   ]
  },
  {
   "cell_type": "code",
   "execution_count": 22,
   "metadata": {},
   "outputs": [
    {
     "name": "stdout",
     "output_type": "stream",
     "text": [
      "(0, 3)\n",
      "(1, 4)\n",
      "(2, 0)\n",
      "(3, 1)\n",
      "(4, 2)\n"
     ]
    }
   ],
   "source": [
    "for i in zip(l, l[offs[0]:] + l[:offs[0]]):\n",
    "    print (i)"
   ]
  },
  {
   "cell_type": "code",
   "execution_count": 175,
   "metadata": {},
   "outputs": [],
   "source": [
    "class circular:\n",
    "    the_list = []\n",
    "    \n",
    "    def __init__(self, length):\n",
    "        self.the_list = list(range(0,length))\n",
    "        \n",
    "    def print_the_list(self):\n",
    "        print (self.the_list)\n",
    "        \n",
    "    def circular_reverse_part(self, position, length):\n",
    "        \n",
    "        list_len = len(self.the_list)\n",
    "        position = position % list_len\n",
    "        if position + length < list_len:\n",
    "            sub_list = self.the_list[position: position + length]\n",
    "            sub_list_reverse = sub_list[::-1]\n",
    "            for i in range(0, length):\n",
    "                self.the_list[position + i] = sub_list_reverse[i]\n",
    "        else:\n",
    "            sub_list = self.the_list[position:] + self.the_list[:length - list_len + position]\n",
    "            sub_list_reverse = sub_list[::-1]\n",
    "            \n",
    "            for i in range(0, list_len - position):\n",
    "                self.the_list[i + position] = sub_list_reverse[i]\n",
    "                \n",
    "            for i in range(list_len - position,length):\n",
    "                self.the_list[i + position - list_len] = sub_list_reverse[i]\n",
    "\n",
    "        #print(sub_list_reverse)\n",
    "        #print(self.the_list)\n",
    "        \n",
    "    def print_check_hash(self):\n",
    "        print (self.the_list[0]* self.the_list[1])\n",
    "     \n",
    "    \n",
    "    def sparse_hash(num):\n",
    "        res = num[0]\n",
    "        for i in num[1:]:\n",
    "            res = res ^ i\n",
    "        return str(hex(res)[2:])\n",
    "\n",
    "    def get_dense_hash(self):\n",
    "        hx = ''\n",
    "        for i in range(0,256, 16):\n",
    "            hx += sparse_hash(self.the_list[i:i+16])\n",
    "        return hx\n",
    "        \n",
    "\n",
    "    \n",
    "    "
   ]
  },
  {
   "cell_type": "code",
   "execution_count": 146,
   "metadata": {},
   "outputs": [
    {
     "name": "stdout",
     "output_type": "stream",
     "text": [
      "3\n",
      "[2, 1, 0, 3, 4]\n",
      "4\n",
      "[4, 3, 0, 1, 2]\n",
      "1\n",
      "[4, 3, 0, 1, 2]\n",
      "5\n",
      "[3, 4, 2, 1, 0]\n",
      "[3, 4, 2, 1, 0]\n",
      "12\n"
     ]
    }
   ],
   "source": [
    "\n",
    "list_len = 5\n",
    "c = circular(list_len)\n",
    "\n",
    "\n",
    "skip = 0\n",
    "curr_pos = 0\n",
    "for length in lengths:\n",
    "    print (length)\n",
    "    c.circular_reverse_part(curr_pos, length)\n",
    "    curr_pos = curr_pos + skip  + length % list_len\n",
    "    skip = skip + 1\n",
    "    c.print_the_list()\n",
    "    \n",
    "\n",
    "c.print_the_list()\n",
    "c.print_check_hash()\n",
    "        \n",
    "\n",
    "#c.print_the_list()\n",
    "#c.circular_reverse_part(0,3)\n",
    "#c.circular_reverse_part(3,4)\n",
    "#c.circular_reverse_part(1,5)"
   ]
  },
  {
   "cell_type": "code",
   "execution_count": 148,
   "metadata": {
    "scrolled": false
   },
   "outputs": [
    {
     "name": "stdout",
     "output_type": "stream",
     "text": [
      "[0, 1, 2, 3, 4, 5, 6, 7, 8, 9, 10, 11, 12, 13, 14, 15, 16, 17, 18, 19, 20, 21, 22, 23, 24, 25, 26, 27, 28, 29, 30, 31, 32, 33, 34, 35, 36, 37, 38, 39, 40, 41, 42, 43, 44, 45, 46, 47, 48, 49, 50, 51, 52, 53, 54, 55, 56, 57, 58, 59, 60, 61, 62, 63, 64, 65, 66, 67, 68, 69, 70, 71, 72, 73, 74, 75, 76, 77, 78, 79, 80, 81, 82, 83, 84, 85, 86, 87, 88, 89, 90, 91, 92, 93, 94, 95, 96, 97, 98, 99, 100, 101, 102, 103, 104, 105, 106, 107, 108, 109, 110, 111, 112, 113, 114, 115, 116, 117, 118, 119, 120, 121, 122, 123, 124, 125, 126, 127, 128, 129, 130, 131, 132, 133, 134, 135, 136, 137, 138, 139, 140, 141, 142, 143, 144, 145, 146, 147, 148, 149, 150, 151, 152, 153, 154, 155, 156, 157, 158, 159, 160, 161, 162, 163, 164, 165, 166, 167, 168, 169, 170, 171, 172, 173, 174, 175, 176, 177, 178, 179, 180, 181, 182, 183, 184, 185, 186, 187, 188, 189, 190, 191, 192, 193, 194, 195, 196, 197, 198, 199, 200, 201, 202, 203, 204, 205, 206, 207, 208, 209, 210, 211, 212, 213, 214, 215, 216, 217, 218, 219, 220, 221, 222, 223, 224, 225, 226, 227, 228, 229, 230, 231, 232, 233, 234, 235, 236, 237, 238, 239, 240, 241, 242, 243, 244, 245, 246, 247, 248, 249, 250, 251, 252, 253, 254, 255]\n",
      "97\n",
      "167\n",
      "54\n",
      "178\n",
      "2\n",
      "11\n",
      "209\n",
      "174\n",
      "119\n",
      "248\n",
      "254\n",
      "0\n",
      "255\n",
      "1\n",
      "64\n",
      "190\n",
      "[88, 97, 108, 107, 106, 105, 104, 103, 102, 101, 100, 99, 98, 109, 110, 111, 112, 114, 113, 115, 116, 117, 31, 30, 29, 28, 27, 26, 25, 24, 23, 22, 21, 20, 19, 18, 17, 16, 140, 139, 138, 137, 136, 135, 134, 184, 183, 182, 181, 180, 179, 178, 177, 176, 175, 174, 173, 172, 171, 170, 169, 168, 167, 166, 165, 164, 163, 162, 161, 160, 159, 158, 157, 156, 155, 154, 153, 152, 151, 150, 48, 49, 50, 51, 52, 53, 54, 55, 56, 57, 58, 59, 60, 61, 62, 63, 64, 65, 66, 67, 68, 69, 70, 71, 72, 73, 74, 75, 76, 77, 78, 79, 80, 81, 82, 83, 84, 85, 86, 87, 33, 32, 118, 119, 120, 121, 122, 123, 124, 125, 126, 127, 11, 12, 13, 14, 15, 141, 142, 143, 144, 145, 146, 147, 148, 149, 47, 46, 45, 44, 43, 42, 41, 40, 39, 38, 37, 10, 128, 129, 130, 131, 132, 192, 133, 191, 190, 189, 188, 187, 186, 185, 193, 194, 195, 196, 197, 198, 199, 200, 201, 202, 203, 204, 205, 206, 207, 208, 209, 210, 211, 212, 213, 214, 215, 216, 217, 218, 219, 220, 221, 222, 223, 224, 225, 226, 227, 228, 229, 230, 231, 232, 233, 234, 235, 236, 237, 238, 239, 240, 241, 242, 243, 244, 245, 246, 247, 248, 249, 250, 251, 252, 253, 254, 255, 96, 95, 94, 93, 92, 91, 90, 89, 0, 1, 2, 3, 4, 5, 6, 7, 8, 9, 36, 35, 34]\n",
      "8536\n"
     ]
    }
   ],
   "source": [
    "list_len = 256\n",
    "c = circular(list_len)\n",
    "\n",
    "c.print_the_list()\n",
    "\n",
    "skip = 0\n",
    "curr_pos = 0\n",
    "for length in inp:\n",
    "    print (length)\n",
    "    c.circular_reverse_part(curr_pos, length)\n",
    "    curr_pos = curr_pos + skip  + length % list_len\n",
    "    skip = skip + 1\n",
    "    #c.print_the_list()\n",
    "    \n",
    "c.print_the_list()\n",
    "c.print_check_hash()\n",
    "    "
   ]
  },
  {
   "cell_type": "code",
   "execution_count": null,
   "metadata": {},
   "outputs": [],
   "source": []
  },
  {
   "cell_type": "code",
   "execution_count": 182,
   "metadata": {},
   "outputs": [
    {
     "data": {
      "text/plain": [
       "[57,\n",
       " 55,\n",
       " 44,\n",
       " 49,\n",
       " 54,\n",
       " 55,\n",
       " 44,\n",
       " 53,\n",
       " 52,\n",
       " 44,\n",
       " 49,\n",
       " 55,\n",
       " 56,\n",
       " 44,\n",
       " 50,\n",
       " 44,\n",
       " 49,\n",
       " 49,\n",
       " 44,\n",
       " 50,\n",
       " 48,\n",
       " 57,\n",
       " 44,\n",
       " 49,\n",
       " 55,\n",
       " 52,\n",
       " 44,\n",
       " 49,\n",
       " 49,\n",
       " 57,\n",
       " 44,\n",
       " 50,\n",
       " 52,\n",
       " 56,\n",
       " 44,\n",
       " 50,\n",
       " 53,\n",
       " 52,\n",
       " 44,\n",
       " 48,\n",
       " 44,\n",
       " 50,\n",
       " 53,\n",
       " 53,\n",
       " 44,\n",
       " 49,\n",
       " 44,\n",
       " 54,\n",
       " 52,\n",
       " 44,\n",
       " 49,\n",
       " 57,\n",
       " 48,\n",
       " 17,\n",
       " 31,\n",
       " 73,\n",
       " 47,\n",
       " 23]"
      ]
     },
     "execution_count": 182,
     "metadata": {},
     "output_type": "execute_result"
    }
   ],
   "source": [
    "s = '97,167,54,178,2,11,209,174,119,248,254,0,255,1,64,190'\n",
    "inp = [ord(c) for c in s] + [17, 31, 73, 47, 23]\n",
    "inp\n"
   ]
  },
  {
   "cell_type": "code",
   "execution_count": 165,
   "metadata": {},
   "outputs": [],
   "source": [
    "def sparse_hash(num):\n",
    "    res = num[0]\n",
    "    for i in num[1:]:\n",
    "        res = res ^ i\n",
    "    return str(hex(res)[2:])"
   ]
  },
  {
   "cell_type": "code",
   "execution_count": 166,
   "metadata": {},
   "outputs": [
    {
     "name": "stdout",
     "output_type": "stream",
     "text": [
      "40\n"
     ]
    }
   ],
   "source": [
    "s = sparse_hash([65, 27, 9, 1, 4 , 3, 40, 50, 91, 7, 6,  0,  2,  5, 68, 22])\n",
    "print(s)"
   ]
  },
  {
   "cell_type": "code",
   "execution_count": 183,
   "metadata": {},
   "outputs": [
    {
     "name": "stdout",
     "output_type": "stream",
     "text": [
      "[128, 8, 0, 225, 59, 13, 127, 253, 100, 224, 188, 218, 153, 239, 58, 220, 159, 163, 111, 2, 23, 237, 54, 182, 228, 56, 50, 61, 75, 99, 34, 7, 76, 168, 53, 192, 216, 57, 176, 204, 105, 21, 52, 132, 198, 244, 62, 223, 19, 90, 67, 136, 174, 33, 246, 72, 141, 139, 249, 133, 179, 121, 35, 89, 155, 4, 241, 3, 181, 187, 146, 254, 27, 173, 236, 81, 66, 71, 135, 255, 217, 91, 211, 191, 30, 183, 193, 154, 202, 87, 138, 80, 250, 114, 15, 85, 64, 206, 190, 203, 208, 120, 170, 109, 164, 129, 26, 107, 98, 110, 102, 124, 77, 25, 9, 147, 51, 166, 86, 240, 39, 45, 185, 160, 92, 189, 74, 32, 145, 143, 126, 200, 55, 222, 73, 36, 63, 10, 103, 214, 245, 95, 226, 212, 178, 49, 83, 231, 151, 65, 169, 12, 161, 196, 162, 101, 156, 149, 41, 88, 180, 195, 96, 20, 78, 140, 118, 108, 199, 122, 205, 31, 5, 201, 68, 194, 37, 233, 40, 157, 116, 172, 43, 113, 123, 106, 79, 115, 6, 84, 232, 125, 221, 148, 235, 29, 213, 119, 18, 234, 134, 44, 242, 177, 17, 215, 16, 97, 150, 243, 70, 167, 171, 48, 14, 130, 112, 117, 165, 94, 142, 209, 158, 227, 38, 131, 144, 238, 230, 42, 252, 11, 104, 47, 248, 210, 69, 219, 82, 152, 207, 28, 251, 93, 186, 184, 22, 60, 137, 229, 1, 247, 24, 175, 46, 197]\n",
      "1024\n"
     ]
    },
    {
     "data": {
      "text/plain": [
       "'aff593797989d665349efe11bb4fd99b'"
      ]
     },
     "execution_count": 183,
     "metadata": {},
     "output_type": "execute_result"
    }
   ],
   "source": [
    "list_len = 256\n",
    "c = circular(list_len)\n",
    "\n",
    "\n",
    "skip = 0\n",
    "curr_pos = 0\n",
    "for iter in range(64):\n",
    "    for length in inp:\n",
    "        #print (length)\n",
    "        c.circular_reverse_part(curr_pos, length)\n",
    "        curr_pos = curr_pos + skip  + length % list_len\n",
    "        skip = skip + 1\n",
    "        #c.print_the_list()\n",
    "\n",
    "\n",
    "c.print_the_list()\n",
    "c.print_check_hash()\n",
    "c.get_dense_hash()\n",
    "       "
   ]
  },
  {
   "cell_type": "code",
   "execution_count": 174,
   "metadata": {},
   "outputs": [
    {
     "name": "stdout",
     "output_type": "stream",
     "text": [
      "0\n",
      "16\n",
      "32\n",
      "48\n",
      "64\n",
      "80\n",
      "96\n",
      "112\n",
      "128\n",
      "144\n",
      "160\n",
      "176\n",
      "192\n",
      "208\n",
      "224\n",
      "240\n"
     ]
    }
   ],
   "source": [
    "for i in range(0,256, 16):\n",
    "    print (i)"
   ]
  }
 ],
 "metadata": {
  "kernelspec": {
   "display_name": "Python 3",
   "language": "python",
   "name": "python3"
  },
  "language_info": {
   "codemirror_mode": {
    "name": "ipython",
    "version": 3
   },
   "file_extension": ".py",
   "mimetype": "text/x-python",
   "name": "python",
   "nbconvert_exporter": "python",
   "pygments_lexer": "ipython3",
   "version": "3.6.2"
  }
 },
 "nbformat": 4,
 "nbformat_minor": 2
}
