{
 "cells": [
  {
   "cell_type": "code",
   "execution_count": 1,
   "metadata": {},
   "outputs": [],
   "source": [
    "inp1 = 'ne,ne,ne'.split(',')\n",
    "inp2 = 'ne,ne,sw,sw'.split(',')\n",
    "inp3 = 'ne,ne,s,s'.split(',')\n",
    "inp4 = 'se,sw,se,sw,sw'.split(',') "
   ]
  },
  {
   "cell_type": "code",
   "execution_count": 2,
   "metadata": {},
   "outputs": [
    {
     "data": {
      "text/plain": [
       "[['ne', 'ne', 'ne'],\n",
       " ['ne', 'ne', 'sw', 'sw'],\n",
       " ['ne', 'ne', 's', 's'],\n",
       " ['se', 'sw', 'se', 'sw', 'sw']]"
      ]
     },
     "execution_count": 2,
     "metadata": {},
     "output_type": "execute_result"
    }
   ],
   "source": [
    "inpl = [inp1, inp2, inp3, inp4]\n",
    "inpl"
   ]
  },
  {
   "cell_type": "code",
   "execution_count": 3,
   "metadata": {},
   "outputs": [],
   "source": [
    "inpf = open('11.inp')\n",
    "inp = []\n",
    "for i in inpf.readlines():\n",
    "    inp = inp + i.strip().split(',')\n"
   ]
  },
  {
   "cell_type": "code",
   "execution_count": 4,
   "metadata": {},
   "outputs": [
    {
     "name": "stdout",
     "output_type": "stream",
     "text": [
      "n: 308 nw: -99 ne: 374\n",
      "473\n",
      "209\n",
      "682\n"
     ]
    }
   ],
   "source": [
    "def calc_move(li):\n",
    "    #s = 0\n",
    "    n = 0\n",
    "    nw = 0\n",
    "    #sw = 0\n",
    "    #nw = 0\n",
    "    ne = 0\n",
    "    \n",
    "    for i in li:\n",
    "        if 'ne' in i:\n",
    "            ne += 1\n",
    "        elif 'nw' in i:\n",
    "            nw += 1\n",
    "        elif 'n' in i:\n",
    "            n += 1\n",
    "        elif 'se' in i:\n",
    "            nw -= 1\n",
    "        elif 'sw' in i:\n",
    "            ne -= 1\n",
    "        elif 's' in i:\n",
    "            n -= 1\n",
    "    \n",
    "    return calc_range({'n':n, 'nw':nw, 'ne':ne})\n",
    "\n",
    "def calc_range(d):\n",
    "    n = d['n']\n",
    "    nw = d['nw']\n",
    "    ne = d['ne']\n",
    "    print('n: {} nw: {} ne: {}'.format(n,nw ,ne))\n",
    "    \n",
    "    \n",
    "    #calculate how many total east\n",
    "    east = ne - nw\n",
    "    \n",
    "    print (east)\n",
    "    \n",
    "    n = n + nw\n",
    "    print (n)\n",
    "    \n",
    "    tot = n + east\n",
    "    print (tot)\n",
    "    #calculate the total amount of north\n",
    "    \n",
    "    \n",
    "    # one se cancels out one sw and moves s down\n",
    "calc_move(inp)    "
   ]
  },
  {
   "cell_type": "code",
   "execution_count": null,
   "metadata": {},
   "outputs": [],
   "source": []
  },
  {
   "cell_type": "code",
   "execution_count": 5,
   "metadata": {},
   "outputs": [
    {
     "data": {
      "text/plain": [
       "473"
      ]
     },
     "execution_count": 5,
     "metadata": {},
     "output_type": "execute_result"
    }
   ],
   "source": [
    "374 + 99"
   ]
  },
  {
   "cell_type": "code",
   "execution_count": 6,
   "metadata": {},
   "outputs": [
    {
     "data": {
      "text/plain": [
       "209"
      ]
     },
     "execution_count": 6,
     "metadata": {},
     "output_type": "execute_result"
    }
   ],
   "source": [
    "308 - 99"
   ]
  },
  {
   "cell_type": "code",
   "execution_count": 7,
   "metadata": {},
   "outputs": [
    {
     "data": {
      "text/plain": [
       "682"
      ]
     },
     "execution_count": 7,
     "metadata": {},
     "output_type": "execute_result"
    }
   ],
   "source": [
    "473 + 209"
   ]
  },
  {
   "cell_type": "code",
   "execution_count": null,
   "metadata": {},
   "outputs": [],
   "source": []
  }
 ],
 "metadata": {
  "kernelspec": {
   "display_name": "Python 3",
   "language": "python",
   "name": "python3"
  },
  "language_info": {
   "codemirror_mode": {
    "name": "ipython",
    "version": 3
   },
   "file_extension": ".py",
   "mimetype": "text/x-python",
   "name": "python",
   "nbconvert_exporter": "python",
   "pygments_lexer": "ipython3",
   "version": "3.6.2"
  }
 },
 "nbformat": 4,
 "nbformat_minor": 2
}
