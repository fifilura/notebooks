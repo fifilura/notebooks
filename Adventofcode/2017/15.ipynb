{
 "cells": [
  {
   "cell_type": "code",
   "execution_count": 72,
   "metadata": {},
   "outputs": [],
   "source": [
    "astart = 65\n",
    "bstart = 8921\n",
    "divider = 2147483647\n",
    "astart = 634\n",
    "bstart = 301"
   ]
  },
  {
   "cell_type": "code",
   "execution_count": 69,
   "metadata": {},
   "outputs": [
    {
     "name": "stdout",
     "output_type": "stream",
     "text": [
      "1609981099\n",
      "257663485\n",
      "588\n"
     ]
    }
   ],
   "source": [
    "a = astart\n",
    "b = bstart\n",
    "\n",
    "match = 0\n",
    "for i in range(1, 40000000):\n",
    "    \n",
    "    a = (a * am) % divider\n",
    "    b = (b * bm) % divider\n",
    "        \n",
    "    stra = a % (2**16)\n",
    "    strb = b % (2**16)\n",
    "    \n",
    "    if stra == strb:\n",
    "        match += 1\n",
    "    \n",
    "print(a)\n",
    "print(b)\n",
    "print (match)"
   ]
  },
  {
   "cell_type": "code",
   "execution_count": 73,
   "metadata": {},
   "outputs": [
    {
     "name": "stdout",
     "output_type": "stream",
     "text": [
      "1280024300\n",
      "1240559896\n",
      "294\n"
     ]
    }
   ],
   "source": [
    "a = astart\n",
    "b = bstart\n",
    "\n",
    "match = 0\n",
    "for i in range(1, 5000000):\n",
    "    \n",
    "    while True:\n",
    "        a = (a * am) % divider\n",
    "        if a % 4 == 0:\n",
    "            break\n",
    "            \n",
    "    while True:\n",
    "        b = (b * bm) % divider\n",
    "        if b % 8 == 0:\n",
    "            break\n",
    "\n",
    "        \n",
    "    stra = a % (2**16)\n",
    "    strb = b % (2**16)\n",
    "    \n",
    "    if stra == strb:\n",
    "        match += 1\n",
    "    \n",
    "print(a)\n",
    "print(b)\n",
    "print (match)"
   ]
  },
  {
   "cell_type": "code",
   "execution_count": null,
   "metadata": {},
   "outputs": [],
   "source": []
  }
 ],
 "metadata": {
  "kernelspec": {
   "display_name": "Python 3",
   "language": "python",
   "name": "python3"
  },
  "language_info": {
   "codemirror_mode": {
    "name": "ipython",
    "version": 3
   },
   "file_extension": ".py",
   "mimetype": "text/x-python",
   "name": "python",
   "nbconvert_exporter": "python",
   "pygments_lexer": "ipython3",
   "version": "3.6.2"
  }
 },
 "nbformat": 4,
 "nbformat_minor": 2
}
