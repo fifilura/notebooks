{
 "cells": [
  {
   "cell_type": "code",
   "execution_count": 164,
   "metadata": {},
   "outputs": [
    {
     "name": "stdout",
     "output_type": "stream",
     "text": [
      "['x3/4', 'pm/e', 'x15/7', 'pp/l', 'x5/8', 's15', 'x2/6', 's9', 'x0/4', 's7']\n"
     ]
    },
    {
     "data": {
      "text/plain": [
       "[{'command': 'x', 'from': 3, 'to': 4},\n",
       " {'command': 'p', 'from': 'm', 'to': 'e'},\n",
       " {'command': 'x', 'from': 15, 'to': 7},\n",
       " {'command': 'p', 'from': 'p', 'to': 'l'},\n",
       " {'command': 'x', 'from': 5, 'to': 8},\n",
       " {'command': 's', 'spin': 15},\n",
       " {'command': 'x', 'from': 2, 'to': 6},\n",
       " {'command': 's', 'spin': 9},\n",
       " {'command': 'x', 'from': 0, 'to': 4},\n",
       " {'command': 's', 'spin': 7}]"
      ]
     },
     "execution_count": 164,
     "metadata": {},
     "output_type": "execute_result"
    }
   ],
   "source": [
    "inp = []\n",
    "\n",
    "with open('16.inp') as f:\n",
    "    for i in f.readlines():\n",
    "        inp += i.split(',')\n",
    "\n",
    "print (inp[0:10])\n",
    "\n",
    "#inp = ['s1','x3/4','pe/b']\n",
    "instr = []\n",
    "for s in inp:\n",
    "    i = {}\n",
    "    i['command'] = s[0]\n",
    "    if i['command'] == 's':\n",
    "        i['spin'] = int(s[1:])\n",
    "    elif i['command'] == 'x':\n",
    "        l = s[1:].split('/')\n",
    "        i['from'] = int(l[0])\n",
    "        i['to'] = int(l[1])\n",
    "    elif i['command'] == 'p':\n",
    "        l = s[1:].split('/')\n",
    "        i['from'] = l[0]\n",
    "        i['to'] = l[1]\n",
    "        \n",
    "    instr = instr + [i]\n",
    "    \n",
    "instr[0:10]"
   ]
  },
  {
   "cell_type": "code",
   "execution_count": 145,
   "metadata": {},
   "outputs": [
    {
     "data": {
      "text/plain": [
       "{0: 'A', 1: 'B', 2: 'C', 3: 'D'}"
      ]
     },
     "execution_count": 145,
     "metadata": {},
     "output_type": "execute_result"
    }
   ],
   "source": [
    "{i : chr(65+i) for i in range(4)}"
   ]
  },
  {
   "cell_type": "code",
   "execution_count": null,
   "metadata": {},
   "outputs": [],
   "source": []
  },
  {
   "cell_type": "code",
   "execution_count": null,
   "metadata": {},
   "outputs": [],
   "source": []
  },
  {
   "cell_type": "code",
   "execution_count": 151,
   "metadata": {
    "scrolled": false
   },
   "outputs": [
    {
     "name": "stdout",
     "output_type": "stream",
     "text": [
      "16\n"
     ]
    },
    {
     "data": {
      "text/plain": [
       "[{'command': 'x', 'from': 3, 'to': 4},\n",
       " {'command': 'p', 'from': 'm', 'to': 'e'},\n",
       " {'command': 'x', 'from': 15, 'to': 7},\n",
       " {'command': 'p', 'from': 'p', 'to': 'l'},\n",
       " {'command': 'x', 'from': 5, 'to': 8},\n",
       " {'command': 's', 'spin': 15},\n",
       " {'command': 'x', 'from': 2, 'to': 6},\n",
       " {'command': 's', 'spin': 9},\n",
       " {'command': 'x', 'from': 0, 'to': 4},\n",
       " {'command': 's', 'spin': 7}]"
      ]
     },
     "execution_count": 151,
     "metadata": {},
     "output_type": "execute_result"
    }
   ],
   "source": [
    "prog = list('abcdefghijklmnop')\n",
    "prog_orig = list('abcdefghijklmnop')\n",
    "prog_len = len(prog)\n",
    "print(prog_len)\n",
    "\n",
    "\n",
    "def find_pos(c):\n",
    "    for i in range(prog_len):\n",
    "        if prog[i] == c:\n",
    "            return i\n",
    "        \n",
    "for i in instr:\n",
    "    \n",
    "    if i['command'] == 's':\n",
    "        spin = i['spin']\n",
    "        prog = prog[prog_len - spin:] + prog[:prog_len - spin]\n",
    "    elif i['command'] == 'p':\n",
    "        fr = find_pos(i['from'])\n",
    "        to = find_pos(i['to'])\n",
    "        prog[fr], prog[to] = prog[to], prog[fr]\n",
    "    elif i['command'] == 'x':\n",
    "        fr = i['from']\n",
    "        to = i['to']\n",
    "        prog[fr], prog[to] = prog[to], prog[fr]\n",
    "\n",
    "instr[0:10]"
   ]
  },
  {
   "cell_type": "code",
   "execution_count": 120,
   "metadata": {},
   "outputs": [
    {
     "data": {
      "text/plain": [
       "'lkcnmfgoijahpedb'"
      ]
     },
     "execution_count": 120,
     "metadata": {},
     "output_type": "execute_result"
    }
   ],
   "source": [
    "''.join(prog)"
   ]
  },
  {
   "cell_type": "code",
   "execution_count": 118,
   "metadata": {},
   "outputs": [
    {
     "data": {
      "text/plain": [
       "1000000000"
      ]
     },
     "execution_count": 118,
     "metadata": {},
     "output_type": "execute_result"
    }
   ],
   "source": [
    "1000000000"
   ]
  },
  {
   "cell_type": "code",
   "execution_count": 163,
   "metadata": {},
   "outputs": [
    {
     "name": "stdout",
     "output_type": "stream",
     "text": [
      "-10\n",
      "-14\n",
      "-3\n",
      "-11\n",
      "-9\n",
      "-4\n",
      "0\n",
      "-4\n",
      "6\n",
      "1\n",
      "9\n",
      "11\n",
      "8\n",
      "10\n",
      "7\n",
      "3\n"
     ]
    },
    {
     "data": {
      "text/plain": [
       "[11, 9, 6, 10, 8, -3, 0, 7, 1, -4, -10, -4, 3, -9, -11, -14]"
      ]
     },
     "execution_count": 163,
     "metadata": {},
     "output_type": "execute_result"
    }
   ],
   "source": [
    "prog\n",
    "d = [ord(x) - ord('a') for x in prog]\n",
    "d = [x - d[x] for x in range(len(d))]\n",
    "\n",
    "delta = [0 for x in range(16)]\n",
    "for i in range(len(d)):\n",
    "    print (d[i])\n",
    "    ix = ord(prog[i]) - ord('a')\n",
    "    delta[ix] = d[i]\n",
    "    \n",
    "delta"
   ]
  },
  {
   "cell_type": "code",
   "execution_count": null,
   "metadata": {},
   "outputs": [],
   "source": []
  },
  {
   "cell_type": "code",
   "execution_count": null,
   "metadata": {},
   "outputs": [],
   "source": []
  }
 ],
 "metadata": {
  "kernelspec": {
   "display_name": "Python 3",
   "language": "python",
   "name": "python3"
  },
  "language_info": {
   "codemirror_mode": {
    "name": "ipython",
    "version": 3
   },
   "file_extension": ".py",
   "mimetype": "text/x-python",
   "name": "python",
   "nbconvert_exporter": "python",
   "pygments_lexer": "ipython3",
   "version": "3.6.2"
  }
 },
 "nbformat": 4,
 "nbformat_minor": 2
}
