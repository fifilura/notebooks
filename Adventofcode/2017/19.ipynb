{
 "cells": [
  {
   "cell_type": "code",
   "execution_count": 20,
   "metadata": {},
   "outputs": [],
   "source": [
    "inp = open(\"19.inp\")\n",
    "lines = []\n",
    "for instr in inp.readlines():\n",
    "    instr = instr.replace('\\n','')\n",
    "    lines += [instr]"
   ]
  },
  {
   "cell_type": "code",
   "execution_count": 18,
   "metadata": {},
   "outputs": [],
   "source": [
    "direction = 3"
   ]
  },
  {
   "cell_type": "code",
   "execution_count": 26,
   "metadata": {},
   "outputs": [
    {
     "data": {
      "text/plain": [
       "39"
      ]
     },
     "execution_count": 26,
     "metadata": {},
     "output_type": "execute_result"
    }
   ],
   "source": [
    "start = 0\n",
    "for c in range(0,len(lines[0])):\n",
    "    if lines[0][c] == '|':\n",
    "        start = c\n",
    "        break\n",
    "\n",
    "start"
   ]
  },
  {
   "cell_type": "code",
   "execution_count": 39,
   "metadata": {
    "scrolled": false
   },
   "outputs": [
    {
     "name": "stdout",
     "output_type": "stream",
     "text": [
      "A\n",
      "AY\n",
      "AYR\n",
      "AYRP\n",
      "AYRPV\n",
      "AYRPVM\n",
      "AYRPVME\n",
      "AYRPVMEG\n",
      "AYRPVMEGQ\n"
     ]
    }
   ],
   "source": [
    "x = start\n",
    "y = 0\n",
    "\n",
    "#direction (x, y)\n",
    "direction = [0,1]\n",
    "\n",
    "\n",
    "string = \"\"\n",
    "step = 0\n",
    "while True:\n",
    "    \n",
    "    if lines[y+direction[1]][x+direction[0]] == ' ':\n",
    "        break\n",
    "    step += 1   \n",
    "    y = y + direction[1]\n",
    "    x = x + direction[0]\n",
    "\n",
    "    if lines[y][x].isalpha():\n",
    "        string += lines[y][x]\n",
    "        print (string)\n",
    "        \n",
    "    if lines[y][x] == '+':\n",
    "        #find the proper direction but not the current direction\n",
    "        if direction[1] != 0:\n",
    "            if lines[y][x-1] == \"-\":\n",
    "                direction = [-1,0]\n",
    "            if lines[y][x+1] == \"-\":\n",
    "                direction = [1,0]\n",
    "        elif direction[0] != 0:\n",
    "            if lines[y-1][x] == '|':\n",
    "                direction = [0,-1]\n",
    "            if lines[y+1][x] == '|':\n",
    "                direction = [0,1]\n",
    "    \n",
    "    "
   ]
  },
  {
   "cell_type": "code",
   "execution_count": 38,
   "metadata": {},
   "outputs": [
    {
     "data": {
      "text/plain": [
       "'AYRPVMEGQ'"
      ]
     },
     "execution_count": 38,
     "metadata": {},
     "output_type": "execute_result"
    }
   ],
   "source": [
    "string"
   ]
  },
  {
   "cell_type": "code",
   "execution_count": 40,
   "metadata": {},
   "outputs": [
    {
     "data": {
      "text/plain": [
       "16407"
      ]
     },
     "execution_count": 40,
     "metadata": {},
     "output_type": "execute_result"
    }
   ],
   "source": [
    "step"
   ]
  },
  {
   "cell_type": "code",
   "execution_count": null,
   "metadata": {},
   "outputs": [],
   "source": []
  },
  {
   "cell_type": "code",
   "execution_count": null,
   "metadata": {},
   "outputs": [],
   "source": []
  },
  {
   "cell_type": "code",
   "execution_count": null,
   "metadata": {},
   "outputs": [],
   "source": []
  },
  {
   "cell_type": "code",
   "execution_count": null,
   "metadata": {},
   "outputs": [],
   "source": []
  }
 ],
 "metadata": {
  "kernelspec": {
   "display_name": "Python 3",
   "language": "python",
   "name": "python3"
  },
  "language_info": {
   "codemirror_mode": {
    "name": "ipython",
    "version": 3
   },
   "file_extension": ".py",
   "mimetype": "text/x-python",
   "name": "python",
   "nbconvert_exporter": "python",
   "pygments_lexer": "ipython3",
   "version": "3.6.2"
  }
 },
 "nbformat": 4,
 "nbformat_minor": 2
}
