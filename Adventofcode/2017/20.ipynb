{
 "cells": [
  {
   "cell_type": "code",
   "execution_count": 115,
   "metadata": {},
   "outputs": [],
   "source": [
    "from io import StringIO"
   ]
  },
  {
   "cell_type": "code",
   "execution_count": null,
   "metadata": {},
   "outputs": [],
   "source": []
  },
  {
   "cell_type": "code",
   "execution_count": 116,
   "metadata": {},
   "outputs": [],
   "source": [
    "import re"
   ]
  },
  {
   "cell_type": "code",
   "execution_count": 117,
   "metadata": {
    "scrolled": false
   },
   "outputs": [],
   "source": [
    "test = StringIO('''p=< 3,0,0>, v=< 2,0,0>, a=<-1,0,0>\n",
    "p=< 4,0,0>, v=< 0,0,0>, a=<-2,0,0>\n",
    "''')\n",
    "\n",
    "test = open('20.inp')\n",
    "\n",
    "particles = []\n",
    "\n",
    "for line in test.readlines():\n",
    "    m = re.match( r'^p=<\\s?(-?\\d+),(-?\\d+),(-?\\d+)>,\\sv=<\\s?(-?\\d+),(-?\\d+),(-?\\d+)>,\\sa=<\\s?(-?\\d+),(-?\\d+),(-?\\d+)>', line)\n",
    "    assert(m is not None)\n",
    "    particle = {}\n",
    "    particle['p'] = [int(m.group(1)), int(m.group(2)), int(m.group(3))]\n",
    "    particle['v'] = [int(m.group(4)), int(m.group(5)), int(m.group(6))]\n",
    "    particle['a'] = [int(m.group(7)), int(m.group(8)), int(m.group(9))]\n",
    "    particle['min_distance'] = 100000000\n",
    "    particles = particles + [particle]\n"
   ]
  },
  {
   "cell_type": "code",
   "execution_count": 118,
   "metadata": {},
   "outputs": [],
   "source": [
    "def calc_distance(pos):\n",
    "    distance = abs(pos[0]) + abs(pos[1]) + abs(pos[2])\n",
    "    return distance\n",
    "\n",
    "def update_min_distance(ps):\n",
    "    for p in ps:\n",
    "        dist = calc_distance(p['p'])\n",
    "        if dist < p['min_distance']:\n",
    "            p['min_distance'] = dist\n",
    "\n",
    "            \n",
    "def update_velocity(ps):\n",
    "    for p in ps:\n",
    "        p['v'][0] += p['a'][0]\n",
    "        p['v'][1] += p['a'][1]\n",
    "        p['v'][2] += p['a'][2]\n",
    "        \n",
    "\n",
    "def update_pos(ps):\n",
    "    for p in ps:\n",
    "        p['p'][0] += p['v'][0]\n",
    "        p['p'][1] += p['v'][1]\n",
    "        p['p'][2] += p['v'][2]\n",
    "        \n",
    "update_min_distance(particles) \n",
    "\n",
    "for i in range(0,10000):\n",
    "    update_min_distance(particles)\n",
    "    update_velocity(particles)\n",
    "    update_pos(particles)"
   ]
  },
  {
   "cell_type": "code",
   "execution_count": 119,
   "metadata": {},
   "outputs": [
    {
     "data": {
      "text/plain": [
       "(15, 264)"
      ]
     },
     "execution_count": 119,
     "metadata": {},
     "output_type": "execute_result"
    }
   ],
   "source": [
    "def find_min(ps):\n",
    "    m = 1000000000\n",
    "    pos = 0\n",
    "    for i in range(0,len(particles)):\n",
    "        if ps[i]['min_distance'] < m:\n",
    "            pos = i\n",
    "            m = ps[i]['min_distance']\n",
    "    return (m, pos)\n",
    "            \n",
    "find_min(particles)"
   ]
  },
  {
   "cell_type": "code",
   "execution_count": 120,
   "metadata": {},
   "outputs": [],
   "source": [
    "def find_min_acc(ps):\n",
    "    m = 1000000000\n",
    "    pos = 0\n",
    "    for i in range(0,len(particles)):\n",
    "        dist = calc_distance(ps[pos]['a'])\n",
    "        if dist < m:\n",
    "            pos = i\n",
    "            m = dist\n",
    "    return (m, pos)"
   ]
  },
  {
   "cell_type": "code",
   "execution_count": 121,
   "metadata": {},
   "outputs": [
    {
     "data": {
      "text/plain": [
       "(23, 0)"
      ]
     },
     "execution_count": 121,
     "metadata": {},
     "output_type": "execute_result"
    }
   ],
   "source": [
    "find_min_acc(particles)"
   ]
  },
  {
   "cell_type": "code",
   "execution_count": null,
   "metadata": {},
   "outputs": [],
   "source": []
  },
  {
   "cell_type": "code",
   "execution_count": null,
   "metadata": {},
   "outputs": [],
   "source": []
  }
 ],
 "metadata": {
  "kernelspec": {
   "display_name": "Python 3",
   "language": "python",
   "name": "python3"
  },
  "language_info": {
   "codemirror_mode": {
    "name": "ipython",
    "version": 3
   },
   "file_extension": ".py",
   "mimetype": "text/x-python",
   "name": "python",
   "nbconvert_exporter": "python",
   "pygments_lexer": "ipython3",
   "version": "3.6.2"
  }
 },
 "nbformat": 4,
 "nbformat_minor": 2
}
