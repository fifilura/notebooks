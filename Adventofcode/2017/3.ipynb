{
 "cells": [
  {
   "cell_type": "code",
   "execution_count": 2,
   "metadata": {},
   "outputs": [],
   "source": [
    "orig_i = 325489"
   ]
  },
  {
   "cell_type": "code",
   "execution_count": 8,
   "metadata": {},
   "outputs": [
    {
     "data": {
      "text/plain": [
       "(1, 8, 16, 24)"
      ]
     },
     "execution_count": 8,
     "metadata": {},
     "output_type": "execute_result"
    }
   ],
   "source": [
    "1,8,16,24"
   ]
  },
  {
   "cell_type": "code",
   "execution_count": 90,
   "metadata": {},
   "outputs": [
    {
     "name": "stdout",
     "output_type": "stream",
     "text": [
      "[325489, -267, -285, 285]\n",
      "552\n"
     ]
    },
    {
     "data": {
      "text/plain": [
       "[325489, -267, -285, 285]"
      ]
     },
     "execution_count": 90,
     "metadata": {},
     "output_type": "execute_result"
    }
   ],
   "source": [
    "res = [[1,0,0,0]]\n",
    "\n",
    "radius = 1\n",
    "\n",
    "x = 1\n",
    "y = 0\n",
    "\n",
    "def manhattan_distance(x,y):\n",
    "    return abs(x) + abs(y)\n",
    "\n",
    "for i in range(2,325490):\n",
    "    res = [i, x, y, radius]\n",
    "    if x == radius and y == -radius:\n",
    "        radius += 1\n",
    "        x +=1\n",
    "    elif x == radius and y < radius:\n",
    "        y = y + 1\n",
    "    elif y == radius and x > -radius:\n",
    "        x = x - 1\n",
    "    elif y > -radius:\n",
    "        y = y - 1\n",
    "\n",
    "    else:\n",
    "        x = x + 1\n",
    "    \n",
    "print (\"{}\".format(res))\n",
    "\n",
    "print (manhattan_distance(res[1],res[2]))\n",
    "res"
   ]
  },
  {
   "cell_type": "code",
   "execution_count": 89,
   "metadata": {},
   "outputs": [
    {
     "name": "stdout",
     "output_type": "stream",
     "text": [
      "This is the first val: 330785\n"
     ]
    }
   ],
   "source": [
    "res = [[1,0,0,0, 1]]\n",
    "\n",
    "radius = 1\n",
    "\n",
    "x = 1\n",
    "y = 0\n",
    "\n",
    "def manhattan_distance(x,y):\n",
    "    return abs(x) + abs(y)\n",
    "\n",
    "for i in range(2,325490):\n",
    "    val = 0\n",
    "    for l in res:\n",
    "        if abs(x - l[1]) <= 1 and abs(y - l[2]) <= 1:\n",
    "            val += l[4]\n",
    "    if val > 325489:\n",
    "        print (\"This is the first val: {}\".format(val))\n",
    "        break\n",
    "            \n",
    "    res += [[i, x, y, radius, val]]\n",
    "    \n",
    "    if x == radius and y == -radius:\n",
    "        radius += 1\n",
    "        x += 1\n",
    "    elif x == radius and y < radius:\n",
    "        y +=  1\n",
    "    elif y == radius and x > -radius:\n",
    "        x -= 1\n",
    "    elif y > -radius:\n",
    "        y -=1\n",
    "    else:\n",
    "        x += 1\n",
    "    \n",
    "#print (\"{}\".format(res))\n",
    "\n",
    "#print (manhattan_distance(res[1],res[2]))\n",
    "#res"
   ]
  },
  {
   "cell_type": "code",
   "execution_count": 85,
   "metadata": {},
   "outputs": [
    {
     "data": {
      "text/plain": [
       "[325489, -267, -285, 285]"
      ]
     },
     "execution_count": 85,
     "metadata": {},
     "output_type": "execute_result"
    }
   ],
   "source": [
    "res"
   ]
  },
  {
   "cell_type": "code",
   "execution_count": null,
   "metadata": {},
   "outputs": [],
   "source": []
  }
 ],
 "metadata": {
  "kernelspec": {
   "display_name": "Python 3",
   "language": "python",
   "name": "python3"
  },
  "language_info": {
   "codemirror_mode": {
    "name": "ipython",
    "version": 3
   },
   "file_extension": ".py",
   "mimetype": "text/x-python",
   "name": "python",
   "nbconvert_exporter": "python",
   "pygments_lexer": "ipython3",
   "version": "3.6.2"
  }
 },
 "nbformat": 4,
 "nbformat_minor": 2
}
