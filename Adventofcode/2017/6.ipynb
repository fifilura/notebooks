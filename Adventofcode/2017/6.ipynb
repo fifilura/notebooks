{
 "cells": [
  {
   "cell_type": "code",
   "execution_count": 1,
   "metadata": {},
   "outputs": [],
   "source": [
    "from io import StringIO"
   ]
  },
  {
   "cell_type": "code",
   "execution_count": 25,
   "metadata": {},
   "outputs": [
    {
     "data": {
      "text/plain": [
       "[0, 2, 7, 0]"
      ]
     },
     "execution_count": 25,
     "metadata": {},
     "output_type": "execute_result"
    }
   ],
   "source": [
    "banks_raw = [int(x) for x in '0 2 7 0'.split()]\n",
    "banks_raw"
   ]
  },
  {
   "cell_type": "code",
   "execution_count": 41,
   "metadata": {},
   "outputs": [
    {
     "name": "stdout",
     "output_type": "stream",
     "text": [
      "[0, 5, 10, 0, 11, 14, 13, 4, 11, 8, 8, 7, 1, 4, 12, 11]\n",
      "9559\n",
      "1695\n"
     ]
    }
   ],
   "source": [
    "banks_raw = [int(x) for x in '0\t5\t10\t0\t11\t14\t13\t4\t11\t8\t8\t7\t1\t4\t12\t11'.split()]\n",
    "print(banks_raw)\n",
    "\n",
    "banks = banks_raw\n",
    "\n",
    "def find_max(banks):\n",
    "    m = 0\n",
    "    for i in range(0, len(banks)):\n",
    "        if banks[i] > banks[m]:\n",
    "            m = i\n",
    "    return m\n",
    "    \n",
    "\n",
    "seen = []\n",
    "count = 0\n",
    "count_loop = 0\n",
    "entered_loop = False\n",
    "\n",
    "while True:\n",
    "    seen += [hash(tuple(banks))]\n",
    "    b = find_max(banks)\n",
    "    redistribute = banks[b]\n",
    "    banks[b] = 0\n",
    "    while redistribute > 0:\n",
    "        b = b + 1\n",
    "        banks[b % len(banks)] += 1\n",
    "        redistribute -= 1\n",
    "    \n",
    "    count = count + 1\n",
    "    count_loop = count_loop + 1\n",
    "    \n",
    "    if hash(tuple(banks)) in seen:\n",
    "        if entered_loop == True:\n",
    "            break\n",
    "        else:\n",
    "            count_loop = 0\n",
    "            seen = []\n",
    "            entered_loop = True\n",
    "            \n",
    "      \n",
    "     \n",
    "print (count)\n",
    "print(count_loop)"
   ]
  },
  {
   "cell_type": "code",
   "execution_count": null,
   "metadata": {},
   "outputs": [],
   "source": []
  },
  {
   "cell_type": "code",
   "execution_count": null,
   "metadata": {},
   "outputs": [],
   "source": []
  },
  {
   "cell_type": "code",
   "execution_count": null,
   "metadata": {},
   "outputs": [],
   "source": []
  },
  {
   "cell_type": "code",
   "execution_count": null,
   "metadata": {},
   "outputs": [],
   "source": []
  },
  {
   "cell_type": "code",
   "execution_count": null,
   "metadata": {},
   "outputs": [],
   "source": []
  },
  {
   "cell_type": "code",
   "execution_count": null,
   "metadata": {},
   "outputs": [],
   "source": []
  },
  {
   "cell_type": "code",
   "execution_count": null,
   "metadata": {},
   "outputs": [],
   "source": []
  }
 ],
 "metadata": {
  "kernelspec": {
   "display_name": "Python 3",
   "language": "python",
   "name": "python3"
  },
  "language_info": {
   "codemirror_mode": {
    "name": "ipython",
    "version": 3
   },
   "file_extension": ".py",
   "mimetype": "text/x-python",
   "name": "python",
   "nbconvert_exporter": "python",
   "pygments_lexer": "ipython3",
   "version": "3.6.2"
  }
 },
 "nbformat": 4,
 "nbformat_minor": 2
}
