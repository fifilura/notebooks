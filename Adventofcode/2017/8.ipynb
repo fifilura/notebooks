{
 "cells": [
  {
   "cell_type": "code",
   "execution_count": 75,
   "metadata": {},
   "outputs": [],
   "source": [
    "from io import StringIO"
   ]
  },
  {
   "cell_type": "code",
   "execution_count": 76,
   "metadata": {},
   "outputs": [
    {
     "data": {
      "text/plain": [
       "[['b', 'inc', '5', 'a', '>', '1'],\n",
       " ['a', 'inc', '1', 'b', '<', '5'],\n",
       " ['c', 'dec', '-10', 'a', '>=', '1'],\n",
       " ['c', 'inc', '-20', 'c', '==', '10']]"
      ]
     },
     "execution_count": 76,
     "metadata": {},
     "output_type": "execute_result"
    }
   ],
   "source": [
    "inp = StringIO('''b inc 5 if a > 1\n",
    "a inc 1 if b < 5\n",
    "c dec -10 if a >= 1\n",
    "c inc -20 if c == 10''')\n",
    "\n",
    "instructions = []\n",
    "for instr in inp.readlines():\n",
    "    s = instr.strip().split()\n",
    "    instructions = instructions + [[s[0], s[1], s[2], s[4], s[5], s[6]]]\n",
    "    \n",
    "instructions"
   ]
  },
  {
   "cell_type": "code",
   "execution_count": 77,
   "metadata": {},
   "outputs": [],
   "source": [
    "inp = open('8.inp')\n",
    "\n",
    "instructions = []\n",
    "for instr in inp.readlines():\n",
    "    s = instr.strip().split()\n",
    "    instructions = instructions + [[s[0], s[1], s[2], s[4], s[5], s[6]]]\n",
    "    "
   ]
  },
  {
   "cell_type": "code",
   "execution_count": 78,
   "metadata": {},
   "outputs": [
    {
     "data": {
      "text/plain": [
       "4832"
      ]
     },
     "execution_count": 78,
     "metadata": {},
     "output_type": "execute_result"
    }
   ],
   "source": [
    "register = {}\n",
    "\n",
    "max_val_running = -99999\n",
    "\n",
    "for instr in instructions:\n",
    "    if not instr[0] in register:\n",
    "        register[instr[0]] = {'value':0}\n",
    "    if not instr[3] in register:\n",
    "        register[instr[3]] = {'value':0}\n",
    "        \n",
    "    \n",
    "    result = {\n",
    "        '>': lambda x, y: True if register[x]['value'] > y else False,\n",
    "        '<': lambda x, y: True if register[x]['value'] < y else False,\n",
    "        '>=': lambda x, y: True if register[x]['value'] >= y else False,\n",
    "        '<=': lambda x, y: True if register[x]['value'] <= y else False,\n",
    "        '!=': lambda x, y: True if register[x]['value'] != y else False,\n",
    "        '==': lambda x, y: True if register[x]['value'] == y else False,\n",
    "    }[instr[4]](instr[3], int(instr[5]))\n",
    "    \n",
    "    if result:\n",
    "        if instr[1] == 'inc':\n",
    "            register[instr[0]]['value'] += int(instr[2])\n",
    "        elif instr[1] == 'dec':\n",
    "            register[instr[0]]['value'] -= int(instr[2])\n",
    "    \n",
    "    for i in register:\n",
    "        val = register[i]['value']\n",
    "        if val > max_val_running:\n",
    "            max_val_running = val\n",
    "        \n",
    "\n",
    "max_val = -99999999\n",
    "for i in register:\n",
    "    val = register[i]['value']\n",
    "    if val > max_val:\n",
    "        max_val = val\n",
    "max_val"
   ]
  },
  {
   "cell_type": "code",
   "execution_count": 73,
   "metadata": {},
   "outputs": [
    {
     "data": {
      "text/plain": [
       "5443"
      ]
     },
     "execution_count": 73,
     "metadata": {},
     "output_type": "execute_result"
    }
   ],
   "source": [
    "max_val_running"
   ]
  },
  {
   "cell_type": "code",
   "execution_count": null,
   "metadata": {},
   "outputs": [],
   "source": []
  },
  {
   "cell_type": "code",
   "execution_count": null,
   "metadata": {},
   "outputs": [],
   "source": []
  }
 ],
 "metadata": {
  "kernelspec": {
   "display_name": "Python 3",
   "language": "python",
   "name": "python3"
  },
  "language_info": {
   "codemirror_mode": {
    "name": "ipython",
    "version": 3
   },
   "file_extension": ".py",
   "mimetype": "text/x-python",
   "name": "python",
   "nbconvert_exporter": "python",
   "pygments_lexer": "ipython3",
   "version": "3.6.2"
  }
 },
 "nbformat": 4,
 "nbformat_minor": 2
}
