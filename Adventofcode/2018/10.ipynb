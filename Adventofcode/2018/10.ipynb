{
 "cells": [
  {
   "cell_type": "code",
   "execution_count": 152,
   "metadata": {
    "scrolled": true
   },
   "outputs": [],
   "source": [
    "inpf = open('10.txt')\n",
    "inp = []\n",
    "for i in inpf.readlines():\n",
    "    inp = inp + [i.strip()]"
   ]
  },
  {
   "cell_type": "code",
   "execution_count": 151,
   "metadata": {},
   "outputs": [
    {
     "name": "stdout",
     "output_type": "stream",
     "text": [
      "10011\n",
      "(10, 62)\n",
      "#       #####    ####   #####   #####   #    #  ######  ######\n",
      "#       #    #  #    #  #    #  #    #  #    #  #            #\n",
      "#       #    #  #       #    #  #    #  #    #  #            #\n",
      "#       #    #  #       #    #  #    #  #    #  #           # \n",
      "#       #####   #       #####   #####   ######  #####      #  \n",
      "#       #  #    #  ###  #       #    #  #    #  #         #   \n",
      "#       #   #   #    #  #       #    #  #    #  #        #    \n",
      "#       #   #   #    #  #       #    #  #    #  #       #     \n",
      "#       #    #  #   ##  #       #    #  #    #  #       #     \n",
      "######  #    #   ### #  #       #####   #    #  ######  ######\n"
     ]
    }
   ],
   "source": [
    "from collections import defaultdict\n",
    "import scipy.signal\n",
    "import numpy as np\n",
    "import re\n",
    "points = []\n",
    "\n",
    "p = re.compile('^position=<\\s*([-+]?\\d+),\\s*([-+]?\\d+)> velocity=<\\s*([-+]?\\d+),\\s*([-+]?\\d+)>')\n",
    "\n",
    "\n",
    "for i in inp:\n",
    "    res = p.findall(i)[0]\n",
    "    point = defaultdict(int)\n",
    "    \n",
    "    point['x'] = int(res[0])\n",
    "    point['y'] = int(res[1])\n",
    "    \n",
    "    point['velx'] = int(res[2])\n",
    "    point['vely'] = int(res[3])\n",
    "    \n",
    "    points.append(point)\n",
    "\n",
    "\n",
    "def update(p):\n",
    "    minx = 999999\n",
    "    miny = 999999\n",
    "    maxx = -999999\n",
    "    maxy = -999999\n",
    "    \n",
    "    for point in p:\n",
    "        point['x'] += point['velx']\n",
    "        point['y'] += point['vely']\n",
    "        \n",
    "        minx = min(minx, point['x'])\n",
    "        miny = min(miny, point['y'])\n",
    "        \n",
    "        maxx = max(maxx, point['x'])\n",
    "        maxy = max(maxy, point['y'])\n",
    "        \n",
    "    return ((minx, miny), (maxx, maxy))\n",
    "\n",
    "\n",
    "def create_array(p, sizeinfo):\n",
    "    width = np.abs(sizeinfo[0][0] - sizeinfo[1][0])\n",
    "    height = np.abs(sizeinfo[0][1] - sizeinfo[1][1])\n",
    "    \n",
    "    if width > 1000 or height > 1000:\n",
    "        return np.zeros((1,1))\n",
    "    \n",
    "    arr = np.zeros((height + 1, width + 1))\n",
    "    origin = sizeinfo[0]\n",
    "    \n",
    "    for point in p:\n",
    "        arr[point['y'] - origin[1], point['x'] - origin[0]] = 1\n",
    "        \n",
    "    return arr\n",
    "\n",
    "\n",
    "def is_text(arr):\n",
    "    if (arr == 0).all():\n",
    "        return False\n",
    "    # check if there is at least of the points that have no neigbours at all\n",
    "    res = scipy.signal.convolve2d(arr, np.ones((3,3)), mode = 'same') * arr\n",
    "    ok = not (res == 1).any()\n",
    "    return ok\n",
    "\n",
    "def prettyprint(arr, i):\n",
    "    print(i)\n",
    "    print(arr.shape)\n",
    "    for row in range(arr.shape[0]):\n",
    "        s = ''\n",
    "        for col in range(arr.shape[1]):\n",
    "            s += '#' if arr[row, col] == 1 else ' '\n",
    "        print(s)\n",
    "\n",
    "for i in range(1, 1000000):\n",
    "    sizeinfo = update(points)\n",
    "    arr = create_array(points, sizeinfo)\n",
    "    if is_text(arr):\n",
    "        prettyprint(arr, i)\n",
    "        break"
   ]
  },
  {
   "cell_type": "code",
   "execution_count": 113,
   "metadata": {},
   "outputs": [
    {
     "name": "stdout",
     "output_type": "stream",
     "text": [
      "(35, 37)\n"
     ]
    }
   ],
   "source": [
    "print(arr.shape)"
   ]
  },
  {
   "cell_type": "code",
   "execution_count": null,
   "metadata": {},
   "outputs": [],
   "source": []
  }
 ],
 "metadata": {
  "kernelspec": {
   "display_name": "Python 3",
   "language": "python",
   "name": "python3"
  },
  "language_info": {
   "codemirror_mode": {
    "name": "ipython",
    "version": 3
   },
   "file_extension": ".py",
   "mimetype": "text/x-python",
   "name": "python",
   "nbconvert_exporter": "python",
   "pygments_lexer": "ipython3",
   "version": "3.6.2"
  }
 },
 "nbformat": 4,
 "nbformat_minor": 2
}
