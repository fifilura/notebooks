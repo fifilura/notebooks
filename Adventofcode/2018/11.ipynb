{
 "cells": [
  {
   "cell_type": "code",
   "execution_count": 1,
   "metadata": {},
   "outputs": [],
   "source": [
    "from scipy.signal import convolve2d\n",
    "import numpy as np\n",
    "\n",
    "def pl(x, y, sn):\n",
    "    rackid = 10 + x\n",
    "    powerlevel = rackid * y\n",
    "    powerlevel += sn\n",
    "    powerlevel *= rackid\n",
    "    powerlevel = (powerlevel // 100) % 10\n",
    "    powerlevel -= 5\n",
    "    return powerlevel\n",
    "\n",
    "def calc_array(serial, sum_size = 3):\n",
    "    \n",
    "    arr = np.zeros((300,300))\n",
    "    \n",
    "    for y in range(300):\n",
    "        for x in range(300):\n",
    "            # remember zero indexed!\n",
    "            arr[y, x] = pl(x + 1, y + 1, serial)\n",
    "            \n",
    "    arr = convolve2d(arr, np.ones((sum_size,sum_size)), mode = 'valid')\n",
    "    \n",
    "    highest_cell = np.unravel_index(np.argmax(arr, axis=None), arr.shape)\n",
    "    \n",
    "    mv = arr[highest_cell[0],highest_cell[1]]\n",
    "    x = highest_cell[1] + 1\n",
    "    y = highest_cell[0] + 1\n",
    "    \n",
    "    return mv, x, y\n"
   ]
  },
  {
   "cell_type": "markdown",
   "metadata": {},
   "source": [
    "# Question 1"
   ]
  },
  {
   "cell_type": "code",
   "execution_count": 2,
   "metadata": {},
   "outputs": [
    {
     "name": "stdout",
     "output_type": "stream",
     "text": [
      "max power: 31.0\n",
      "output: 243,34\n"
     ]
    }
   ],
   "source": [
    "res = calc_array(1718, sum_size = 3)\n",
    "print(\"max power: {}\".format(res[0]))\n",
    "print(\"output: {},{}\".format(res[1], res[2]))"
   ]
  },
  {
   "cell_type": "markdown",
   "metadata": {},
   "source": [
    "# Question 2"
   ]
  },
  {
   "cell_type": "code",
   "execution_count": 3,
   "metadata": {},
   "outputs": [
    {
     "name": "stdout",
     "output_type": "stream",
     "text": [
      "max power: 85.0\n",
      "output: 90,214,15\n"
     ]
    }
   ],
   "source": [
    "max_power = 0\n",
    "max_i = 0\n",
    "max_x = 0\n",
    "max_y = 0\n",
    "\n",
    "serial = 1718\n",
    "\n",
    "for i in range(300):\n",
    "    res = calc_array(serial, sum_size = i)\n",
    "    if res[0] > max_power:\n",
    "        max_power = res[0]\n",
    "        max_i = i\n",
    "        max_x = res[1]\n",
    "        max_y = res[2]\n",
    "        \n",
    "print(\"max power: {}\".format(max_power))\n",
    "print(\"output: {},{},{}\".format(int(max_x), int(max_y),max_i))"
   ]
  },
  {
   "cell_type": "code",
   "execution_count": null,
   "metadata": {},
   "outputs": [],
   "source": []
  },
  {
   "cell_type": "code",
   "execution_count": null,
   "metadata": {},
   "outputs": [],
   "source": []
  }
 ],
 "metadata": {
  "kernelspec": {
   "display_name": "Python 3",
   "language": "python",
   "name": "python3"
  },
  "language_info": {
   "codemirror_mode": {
    "name": "ipython",
    "version": 3
   },
   "file_extension": ".py",
   "mimetype": "text/x-python",
   "name": "python",
   "nbconvert_exporter": "python",
   "pygments_lexer": "ipython3",
   "version": "3.6.2"
  }
 },
 "nbformat": 4,
 "nbformat_minor": 2
}
