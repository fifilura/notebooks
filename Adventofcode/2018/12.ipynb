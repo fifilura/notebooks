{
 "cells": [
  {
   "cell_type": "code",
   "execution_count": 1,
   "metadata": {},
   "outputs": [
    {
     "data": {
      "text/plain": [
       "'##.......#.######.##..#...#.#.#..#...#..####..#.##...#....#...##..#..#.##.##.###.##.#.......###....#'"
      ]
     },
     "execution_count": 1,
     "metadata": {},
     "output_type": "execute_result"
    }
   ],
   "source": [
    "inpf = open('12.txt')\n",
    "\n",
    "inp = []\n",
    "initial = ''\n",
    "\n",
    "for i, c in enumerate(inpf.readlines()):\n",
    "    if i == 0:\n",
    "        initial = c[15:].strip()\n",
    "    elif i == 1:\n",
    "        continue\n",
    "    else:\n",
    "        inp = inp + [c.strip()]\n",
    "\n",
    "initial"
   ]
  },
  {
   "cell_type": "code",
   "execution_count": 2,
   "metadata": {},
   "outputs": [
    {
     "data": {
      "text/plain": [
       "{'#####': '#',\n",
       " '####.': '.',\n",
       " '###.#': '.',\n",
       " '###..': '.',\n",
       " '##.##': '#',\n",
       " '##.#.': '#',\n",
       " '##..#': '#',\n",
       " '##...': '#',\n",
       " '#.###': '.',\n",
       " '#.##.': '#',\n",
       " '#.#.#': '.',\n",
       " '#.#..': '.',\n",
       " '#..##': '.',\n",
       " '#..#.': '#',\n",
       " '#...#': '#',\n",
       " '#....': '.',\n",
       " '.####': '.',\n",
       " '.###.': '.',\n",
       " '.##.#': '#',\n",
       " '.##..': '.',\n",
       " '.#.##': '.',\n",
       " '.#.#.': '.',\n",
       " '.#..#': '#',\n",
       " '.#...': '#',\n",
       " '..###': '#',\n",
       " '..##.': '.',\n",
       " '..#.#': '.',\n",
       " '..#..': '.',\n",
       " '...##': '#',\n",
       " '...#.': '.',\n",
       " '....#': '.',\n",
       " '.....': '.'}"
      ]
     },
     "execution_count": 2,
     "metadata": {},
     "output_type": "execute_result"
    }
   ],
   "source": [
    "rules = {}\n",
    "for i in inp:\n",
    "    rule = i[0:5]\n",
    "    res = i[9]\n",
    "    rules[rule] = res\n",
    "rules"
   ]
  },
  {
   "cell_type": "code",
   "execution_count": 3,
   "metadata": {},
   "outputs": [],
   "source": [
    "import numpy as np\n",
    "\n",
    "initial\n",
    "left_padding = 5\n",
    "right_padding = 5000\n",
    "\n",
    "ini = '.' * left_padding + initial + '.' * right_padding\n",
    "\n",
    "state = ini\n",
    "\n",
    "rep = []\n",
    "for i in range(500):\n",
    "    next_state = ['.' for i in range(len(state))]\n",
    "\n",
    "    for i in range(3, len(ini) - 2):\n",
    "        this_rule = state[i-2:i+3]\n",
    "        if this_rule in rules:\n",
    "            next_state[i] = rules[this_rule]\n",
    "    state = ''.join(next_state)\n",
    "    out = 0\n",
    "    for i, v in enumerate(state):\n",
    "        if v == '#':\n",
    "            loc = i - left_padding\n",
    "            out += loc\n",
    "    rep += [out]\n",
    "\n",
    "\n",
    "\n",
    "res = ''.join(next_state)\n"
   ]
  },
  {
   "cell_type": "markdown",
   "metadata": {},
   "source": [
    "# Answer 1"
   ]
  },
  {
   "cell_type": "code",
   "execution_count": 4,
   "metadata": {},
   "outputs": [
    {
     "data": {
      "text/plain": [
       "2840"
      ]
     },
     "execution_count": 4,
     "metadata": {},
     "output_type": "execute_result"
    }
   ],
   "source": [
    "rep[19]"
   ]
  },
  {
   "cell_type": "markdown",
   "metadata": {},
   "source": [
    "# Answer 2"
   ]
  },
  {
   "cell_type": "code",
   "execution_count": 5,
   "metadata": {},
   "outputs": [
    {
     "data": {
      "text/plain": [
       "[<matplotlib.lines.Line2D at 0x7f73a92f6b00>]"
      ]
     },
     "execution_count": 5,
     "metadata": {},
     "output_type": "execute_result"
    },
    {
     "data": {
      "image/png": "[encoded data removed]",
      "text/plain": [
       "<matplotlib.figure.Figure at 0x7f73ab605908>"
      ]
     },
     "metadata": {},
     "output_type": "display_data"
    }
   ],
   "source": [
    "%matplotlib inline\n",
    "import matplotlib.pyplot as plt\n",
    "plt.plot(rep)"
   ]
  },
  {
   "cell_type": "code",
   "execution_count": 6,
   "metadata": {},
   "outputs": [
    {
     "data": {
      "text/plain": [
       "[20924,\n",
       " 20964,\n",
       " 21004,\n",
       " 21044,\n",
       " 21084,\n",
       " 21124,\n",
       " 21164,\n",
       " 21204,\n",
       " 21244,\n",
       " 21284,\n",
       " 21324,\n",
       " 21364,\n",
       " 21404,\n",
       " 21444,\n",
       " 21484,\n",
       " 21524,\n",
       " 21564,\n",
       " 21604,\n",
       " 21644,\n",
       " 21684]"
      ]
     },
     "execution_count": 6,
     "metadata": {},
     "output_type": "execute_result"
    }
   ],
   "source": [
    "rep[-20:]"
   ]
  },
  {
   "cell_type": "code",
   "execution_count": 7,
   "metadata": {},
   "outputs": [
    {
     "data": {
      "text/plain": [
       "2000000001684"
      ]
     },
     "execution_count": 7,
     "metadata": {},
     "output_type": "execute_result"
    }
   ],
   "source": [
    "rep[499] + 40*(50000000000 - 500)"
   ]
  }
 ],
 "metadata": {
  "kernelspec": {
   "display_name": "Python 3",
   "language": "python",
   "name": "python3"
  },
  "language_info": {
   "codemirror_mode": {
    "name": "ipython",
    "version": 3
   },
   "file_extension": ".py",
   "mimetype": "text/x-python",
   "name": "python",
   "nbconvert_exporter": "python",
   "pygments_lexer": "ipython3",
   "version": "3.6.2"
  }
 },
 "nbformat": 4,
 "nbformat_minor": 2
}
