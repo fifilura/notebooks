{
 "cells": [
  {
   "cell_type": "code",
   "execution_count": 1,
   "metadata": {},
   "outputs": [
    {
     "data": {
      "text/plain": [
       "array([[' ', ' ', ' ', ..., '\\\\', ' ', ' '],\n",
       "       [' ', ' ', ' ', ..., '|', ' ', ' '],\n",
       "       [' ', ' ', ' ', ..., '|', ' ', ' '],\n",
       "       ...,\n",
       "       [' ', ' ', ' ', ..., ' ', ' ', ' '],\n",
       "       [' ', ' ', ' ', ..., ' ', ' ', ' '],\n",
       "       [' ', ' ', ' ', ..., ' ', ' ', ' ']], dtype='<U1')"
      ]
     },
     "execution_count": 1,
     "metadata": {},
     "output_type": "execute_result"
    }
   ],
   "source": [
    "import numpy as np\n",
    "from operator import itemgetter\n",
    "\n",
    "inpf = open('13.txt')\n",
    "inp = []\n",
    "max_len = 0\n",
    "for c in inpf.readlines():\n",
    "        \n",
    "        l = list(c.replace('\\n',''))\n",
    "        max_len = max(len(l), max_len)\n",
    "        inp = inp + [l]\n",
    "        \n",
    "inp2 = []\n",
    "for i in inp:\n",
    "    inp2 += [i + list(' ' * (max_len - len(i)))]\n",
    "    \n",
    "    \n",
    "inp2\n",
    "arr = np.array(inp2)\n",
    "arr"
   ]
  },
  {
   "cell_type": "code",
   "execution_count": 2,
   "metadata": {},
   "outputs": [
    {
     "data": {
      "text/plain": [
       "92"
      ]
     },
     "execution_count": 2,
     "metadata": {},
     "output_type": "execute_result"
    }
   ],
   "source": [
    "moving_right = ord('>')\n",
    "moving_down = ord('v')\n",
    "moving_left = ord('<')\n",
    "moving_up = ord('^')\n",
    "\n",
    "horizontal = ord('-')\n",
    "vertical = ord('|')\n",
    "forward_corner = ord('/')\n",
    "backward_corner = ord('\\\\')\n",
    "backward_corner\n",
    "                    "
   ]
  },
  {
   "cell_type": "code",
   "execution_count": 3,
   "metadata": {},
   "outputs": [
    {
     "data": {
      "text/plain": [
       "'\\\\'"
      ]
     },
     "execution_count": 3,
     "metadata": {},
     "output_type": "execute_result"
    }
   ],
   "source": [
    "chr(92)"
   ]
  },
  {
   "cell_type": "code",
   "execution_count": 4,
   "metadata": {},
   "outputs": [
    {
     "name": "stdout",
     "output_type": "stream",
     "text": [
      "24 77\n",
      "51 24\n",
      "66 125\n",
      "68 77\n",
      "72 125\n",
      "78 51\n",
      "33 133\n",
      "111 83\n",
      "13 26\n",
      "84 89\n",
      "141 34\n",
      "70 109\n",
      "84 148\n",
      "91 116\n",
      "102 15\n",
      "104 141\n",
      "120 14\n"
     ]
    },
    {
     "data": {
      "text/plain": [
       "[{'dir': 'left', 'next_turn': 'left', 'x': 77, 'y': 24},\n",
       " {'dir': 'left', 'next_turn': 'left', 'x': 24, 'y': 51},\n",
       " {'dir': 'left', 'next_turn': 'left', 'x': 125, 'y': 66},\n",
       " {'dir': 'left', 'next_turn': 'left', 'x': 77, 'y': 68},\n",
       " {'dir': 'left', 'next_turn': 'left', 'x': 125, 'y': 72},\n",
       " {'dir': 'left', 'next_turn': 'left', 'x': 51, 'y': 78},\n",
       " {'dir': 'right', 'next_turn': 'left', 'x': 133, 'y': 33},\n",
       " {'dir': 'right', 'next_turn': 'left', 'x': 83, 'y': 111},\n",
       " {'dir': 'down', 'next_turn': 'left', 'x': 26, 'y': 13},\n",
       " {'dir': 'down', 'next_turn': 'left', 'x': 89, 'y': 84},\n",
       " {'dir': 'down', 'next_turn': 'left', 'x': 34, 'y': 141},\n",
       " {'dir': 'up', 'next_turn': 'left', 'x': 109, 'y': 70},\n",
       " {'dir': 'up', 'next_turn': 'left', 'x': 148, 'y': 84},\n",
       " {'dir': 'up', 'next_turn': 'left', 'x': 116, 'y': 91},\n",
       " {'dir': 'up', 'next_turn': 'left', 'x': 15, 'y': 102},\n",
       " {'dir': 'up', 'next_turn': 'left', 'x': 141, 'y': 104},\n",
       " {'dir': 'up', 'next_turn': 'left', 'x': 14, 'y': 120}]"
      ]
     },
     "execution_count": 4,
     "metadata": {},
     "output_type": "execute_result"
    }
   ],
   "source": [
    "up = 0\n",
    "right = 1\n",
    "down = 2\n",
    "left = 3\n",
    "\n",
    "\n",
    "def parse_carts(arr):\n",
    "    res = []\n",
    "    left = np.where(arr == '<')\n",
    "    up = np.where(arr == '^')\n",
    "    down = np.where(arr == 'v')\n",
    "    right = np.where(arr == '>')\n",
    "    \n",
    "    for i in range(len(left[0])):\n",
    "        print(left[0][i], left[1][i])\n",
    "        d = {}\n",
    "        d['x'] = left[1][i]\n",
    "        d['y'] = left[0][i]\n",
    "        d['dir'] = 'left'\n",
    "        d['next_turn'] = 'left'\n",
    "        res += [d]\n",
    "        \n",
    "    for i in range(len(right[0])):\n",
    "        print(right[0][i], right[1][i])\n",
    "        d = {}\n",
    "        d['x'] = right[1][i]\n",
    "        d['y'] = right[0][i]\n",
    "        d['dir'] = 'right'\n",
    "        d['next_turn'] = 'left'\n",
    "        res += [d]\n",
    "        \n",
    "    for i in range(len(down[0])):\n",
    "        print(down[0][i], down[1][i])\n",
    "        d = {}\n",
    "        d['x'] = down[1][i]\n",
    "        d['y'] = down[0][i]\n",
    "        d['dir'] = 'down'\n",
    "        d['next_turn'] = 'left'\n",
    "        res += [d]\n",
    "        \n",
    "    for i in range(len(up[0])):\n",
    "        print(up[0][i], up[1][i])\n",
    "        d = {}\n",
    "        d['x'] = up[1][i]\n",
    "        d['y'] = up[0][i]\n",
    "        d['dir'] = 'up'\n",
    "        d['next_turn'] = 'left'\n",
    "        res += [d]\n",
    "        \n",
    "    return res\n",
    "    \n",
    "    \n",
    "    \n",
    "carts = parse_carts(arr)\n",
    "\n",
    "for c in carts:\n",
    "    if c['dir'] == 'left' or c['dir'] == 'right':\n",
    "        arr[c['y'], c['x']] = '-'\n",
    "    else:\n",
    "        arr[c['y'], c['x']] = '|'\n",
    "\n",
    "carts"
   ]
  },
  {
   "cell_type": "code",
   "execution_count": 5,
   "metadata": {
    "scrolled": false
   },
   "outputs": [
    {
     "name": "stdout",
     "output_type": "stream",
     "text": [
      "collision! x: 46 y: 18\n",
      "collision! x: 34 y: 118\n",
      "collision! x: 80 y: 61\n",
      "collision! x: 29 y: 51\n",
      "collision! x: 121 y: 98\n",
      "collision! x: 27 y: 20\n",
      "collision! x: 118 y: 73\n",
      "collision! x: 17 y: 47\n",
      "[{'x': 124, 'y': 105, 'dir': 'up', 'next_turn': 'straight'}]\n",
      "0\n",
      "0\n"
     ]
    }
   ],
   "source": [
    "def get_next_turn(t):\n",
    "    if t == 'left':\n",
    "        return 'straight'\n",
    "    elif t == 'straight':\n",
    "        return 'right'\n",
    "    else:\n",
    "        return 'left'\n",
    "\n",
    "def get_next_dir(c):\n",
    "    if c['next_turn'] == 'straight':\n",
    "        return c['dir']\n",
    "    \n",
    "    if c['dir'] == 'up':\n",
    "        return c['next_turn']\n",
    "    \n",
    "    if c['dir'] == 'down':\n",
    "        if c['next_turn'] == 'left':\n",
    "            return 'right'\n",
    "        return 'left'\n",
    "    \n",
    "    if c['dir'] == 'right':\n",
    "        if c['next_turn'] == 'left':\n",
    "            return 'up'\n",
    "        return 'down'\n",
    "\n",
    "    if c['dir'] == 'left':\n",
    "        if c['next_turn'] == 'left':\n",
    "            return 'down'\n",
    "        return 'up'\n",
    "            \n",
    "def check_collision():\n",
    "    # check if any of the carts have same x and y\n",
    "    s = set()\n",
    "    for c in carts:\n",
    "        if (c['x'], c['y']) in s:\n",
    "            print(\"collision! x: {} y: {}\".format(c['x'], c['y']))\n",
    "            return True, c['x'], c['y']\n",
    "        s.add((c['x'], c['y']))\n",
    "    return False, 0, 0\n",
    " \n",
    "def removecarts(x, y):\n",
    "    #print(\"will remove\")\n",
    "    #print(carts)\n",
    "    to_remove = []\n",
    "    for i, c in enumerate(carts):\n",
    "        if c['x'] == x and c['y'] == y:\n",
    "            to_remove += [i]\n",
    "    \n",
    "    to_remove = sorted(to_remove, reverse = True)\n",
    "    for i in to_remove:\n",
    "        carts.pop(i)\n",
    "    if len(carts) == 1:\n",
    "        print(carts)\n",
    "    #print(\"end remove\")\n",
    "    #print(carts)\n",
    "def iterate():\n",
    "    \n",
    "    carts.sort(key=itemgetter('y')) \n",
    "    carts.sort(key=itemgetter('x'))\n",
    "    \n",
    "    for c in carts:\n",
    "        if c['dir'] == 'right':\n",
    "            c['x'] += 1\n",
    "            next_char = arr[c['y'], c['x']]\n",
    "            if next_char == '\\\\':\n",
    "                c['dir'] = 'down'\n",
    "            elif next_char == '/':\n",
    "                c['dir'] = 'up'\n",
    "            elif next_char == '+':\n",
    "                c['dir'] = get_next_dir(c)\n",
    "                c['next_turn'] = get_next_turn(c['next_turn'])\n",
    "            else:\n",
    "                assert(next_char == '-')\n",
    "        elif c['dir'] == 'left':\n",
    "            c['x'] -= 1\n",
    "            next_char = arr[c['y'], c['x']]\n",
    "            if next_char == '\\\\':\n",
    "                c['dir'] = 'up'\n",
    "            elif next_char == '/':\n",
    "                c['dir'] = 'down'\n",
    "            elif next_char == '+':\n",
    "                c['dir'] = get_next_dir(c)\n",
    "                c['next_turn'] = get_next_turn(c['next_turn'])\n",
    "            else:\n",
    "                assert(next_char == '-')\n",
    "        elif c['dir'] == 'up':\n",
    "            c['y'] -= 1\n",
    "            next_char = arr[c['y'], c['x']]\n",
    "            if next_char == '\\\\':\n",
    "                c['dir'] = 'left'\n",
    "            elif next_char == '/':\n",
    "                c['dir'] = 'right'\n",
    "            elif next_char == '+':\n",
    "                c['dir'] = get_next_dir(c)\n",
    "                c['next_turn'] = get_next_turn(c['next_turn'])\n",
    "            else:\n",
    "                assert(next_char == '|')\n",
    "        else:\n",
    "            assert(c['dir'] == 'down')\n",
    "            c['y'] += 1\n",
    "            next_char = arr[c['y'], c['x']]\n",
    "            if next_char == '\\\\':\n",
    "                c['dir'] = 'right'\n",
    "            elif next_char == '/':\n",
    "                c['dir'] = 'left'\n",
    "            elif next_char == '+':\n",
    "                c['dir'] = get_next_dir(c)\n",
    "                c['next_turn'] = get_next_turn(c['next_turn'])\n",
    "            else:\n",
    "                assert(next_char == '|')\n",
    "                \n",
    "        e, x, y = check_collision()\n",
    "        if e:\n",
    "            removecarts(x, y)\n",
    "            \n",
    "    if len(carts) == 1:\n",
    "        return False, 0, 0\n",
    "            \n",
    "        \n",
    "    return True, 0, 0\n",
    "            \n",
    "def get_char(y, x):\n",
    "    for c in carts:\n",
    "        if c['y'] == y and c['x'] == x:\n",
    "            if c['dir'] == 'up':\n",
    "                return '^'\n",
    "            elif c['dir'] == 'right':\n",
    "                return '>'\n",
    "            elif c['dir'] == 'down':\n",
    "                return 'v'\n",
    "            else:\n",
    "                return '<'\n",
    "    return arr[y, x]\n",
    "\n",
    "def print_arr():\n",
    "    sh = arr.shape\n",
    "    for y in range(sh[0]):\n",
    "        row = ''\n",
    "        for x in range(sh[1]):\n",
    "            row += get_char(y, x)\n",
    "        print(row)\n",
    "            \n",
    "res = True\n",
    "crash_x = -1\n",
    "crash_y = -1\n",
    "while res: \n",
    "    #print_arr()\n",
    "    res, crash_x, crash_y = iterate()\n",
    "\n",
    "print(crash_x)\n",
    "print(crash_y)"
   ]
  },
  {
   "cell_type": "code",
   "execution_count": 12,
   "metadata": {},
   "outputs": [
    {
     "data": {
      "text/plain": [
       "[{'dir': 'up', 'next_turn': 'straight', 'x': 124, 'y': 105}]"
      ]
     },
     "execution_count": 12,
     "metadata": {},
     "output_type": "execute_result"
    }
   ],
   "source": [
    "carts"
   ]
  },
  {
   "cell_type": "code",
   "execution_count": 7,
   "metadata": {},
   "outputs": [],
   "source": [
    "carts.sort(key=itemgetter('x'))\n",
    "carts.sort(key=itemgetter('y')) \n"
   ]
  },
  {
   "cell_type": "code",
   "execution_count": 13,
   "metadata": {},
   "outputs": [
    {
     "data": {
      "text/plain": [
       "'|'"
      ]
     },
     "execution_count": 13,
     "metadata": {},
     "output_type": "execute_result"
    }
   ],
   "source": [
    "arr[103,124]"
   ]
  },
  {
   "cell_type": "code",
   "execution_count": 9,
   "metadata": {},
   "outputs": [
    {
     "data": {
      "text/plain": [
       "(False, 0, 0)"
      ]
     },
     "execution_count": 9,
     "metadata": {},
     "output_type": "execute_result"
    }
   ],
   "source": [
    "124,103"
   ]
  }
 ],
 "metadata": {
  "kernelspec": {
   "display_name": "Python 3",
   "language": "python",
   "name": "python3"
  },
  "language_info": {
   "codemirror_mode": {
    "name": "ipython",
    "version": 3
   },
   "file_extension": ".py",
   "mimetype": "text/x-python",
   "name": "python",
   "nbconvert_exporter": "python",
   "pygments_lexer": "ipython3",
   "version": "3.6.2"
  }
 },
 "nbformat": 4,
 "nbformat_minor": 2
}
