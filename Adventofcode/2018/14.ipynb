{
 "cells": [
  {
   "cell_type": "code",
   "execution_count": 16,
   "metadata": {},
   "outputs": [],
   "source": [
    "inp = 30000000"
   ]
  },
  {
   "cell_type": "code",
   "execution_count": 17,
   "metadata": {},
   "outputs": [],
   "source": [
    "class Node:\n",
    "    def __init__(self, value):\n",
    "        self.pred = None\n",
    "        self.suc = None\n",
    "        self.value = value\n",
    "    \n",
    "    def removeme(self):\n",
    "        if self.pred:\n",
    "            self.pred.suc = self.suc\n",
    "        if self.suc:\n",
    "            self.suc.pred = self.pred\n",
    "    \n",
    "    def insertafter(self, n):\n",
    "        self.suc.pred = n\n",
    "        n.suc = self.suc\n",
    "        self.suc = n\n",
    "        n.pred = self"
   ]
  },
  {
   "cell_type": "code",
   "execution_count": 18,
   "metadata": {},
   "outputs": [
    {
     "name": "stdout",
     "output_type": "stream",
     "text": [
      "0\n",
      "1000000\n",
      "2000000\n",
      "3000000\n",
      "4000000\n",
      "5000000\n",
      "6000000\n",
      "7000000\n",
      "8000000\n",
      "9000000\n",
      "10000000\n",
      "11000000\n",
      "12000000\n",
      "13000000\n",
      "14000000\n",
      "15000000\n",
      "16000000\n",
      "17000000\n",
      "18000000\n",
      "19000000\n",
      "20000000\n",
      "21000000\n",
      "22000000\n",
      "23000000\n",
      "24000000\n",
      "25000000\n",
      "26000000\n",
      "27000000\n",
      "28000000\n",
      "29000000\n",
      "5158916779\n"
     ]
    }
   ],
   "source": [
    "node1 = Node(3)\n",
    "node1.pred = node1\n",
    "node1.suc = node1\n",
    "node2 = Node(7)\n",
    "node1.insertafter(node2)\n",
    "start = node1\n",
    "elf1 = node1\n",
    "elf2 = node2\n",
    "\n",
    "def print_nodes(val):\n",
    "    s = \"[{}] \".format(val)\n",
    "    s += \"{} \".format(start.value)\n",
    "    node = start.suc\n",
    "    while node != start:\n",
    "        if node == elf1:\n",
    "            s += \"({}) \".format(node.value)\n",
    "        elif node == elf2:\n",
    "            s += \"[{}] \".format(node.value)\n",
    "        else:\n",
    "            s += \"{} \".format(node.value)\n",
    "        node = node.suc\n",
    "    print(s)\n",
    "\n",
    "    \n",
    "def get_ten_after(val):\n",
    "    node = start\n",
    "    res = ''\n",
    "    for i in range(val):\n",
    "        node = node.suc \n",
    "    for i in range(10):\n",
    "        res += str(node.value)\n",
    "        node = node.suc\n",
    "    return res\n",
    "        \n",
    "for i in range(inp):\n",
    "    \n",
    "    res = elf1.value + elf2.value\n",
    "\n",
    "    if res >= 10:\n",
    "        start.pred.insertafter(Node(1))\n",
    "    start.pred.insertafter(Node(res % 10))\n",
    "        \n",
    "    i1 = elf1.value\n",
    "    for c in range(i1 + 1):\n",
    "        elf1 = elf1.suc\n",
    "        \n",
    "    i2 = elf2.value\n",
    "    for c in range(i2 + 1):\n",
    "        elf2 = elf2.suc\n",
    "    #print_nodes(i)\n",
    "    if i % 1000000 == 0:\n",
    "        print(i)\n",
    "        \n",
    "    \n",
    "    \n",
    "\n",
    "print(get_ten_after(9))"
   ]
  },
  {
   "cell_type": "code",
   "execution_count": 19,
   "metadata": {},
   "outputs": [
    {
     "name": "stdout",
     "output_type": "stream",
     "text": [
      "1631191756\n"
     ]
    }
   ],
   "source": [
    "print(get_ten_after(409551))"
   ]
  },
  {
   "cell_type": "code",
   "execution_count": 20,
   "metadata": {},
   "outputs": [],
   "source": [
    "def find_str(txt):\n",
    "    strl = len(txt)\n",
    "    node = start\n",
    "    res = ''\n",
    "    for i in range(inp*10):\n",
    "        if res == txt:\n",
    "            return i - strl\n",
    "        res += str(node.value)\n",
    "        #print(res)\n",
    "        res = res[-strl:]\n",
    "        \n",
    "        node = node.suc\n",
    "        \n",
    "        \n"
   ]
  },
  {
   "cell_type": "code",
   "execution_count": null,
   "metadata": {},
   "outputs": [],
   "source": [
    "find_str(\"409551\")"
   ]
  },
  {
   "cell_type": "code",
   "execution_count": 8,
   "metadata": {},
   "outputs": [
    {
     "ename": "NameError",
     "evalue": "name 'look' is not defined",
     "output_type": "error",
     "traceback": [
      "\u001b[0;31m\u001b[0m",
      "\u001b[0;31mNameError\u001b[0mTraceback (most recent call last)",
      "\u001b[0;32m<ipython-input-8-9f916d17679f>\u001b[0m in \u001b[0;36m<module>\u001b[0;34m()\u001b[0m\n\u001b[1;32m     50\u001b[0m \u001b[0;34m\u001b[0m\u001b[0m\n\u001b[1;32m     51\u001b[0m \u001b[0;31m#print(part_1([3, 7], 84601))\u001b[0m\u001b[0;34m\u001b[0m\u001b[0;34m\u001b[0m\u001b[0m\n\u001b[0;32m---> 52\u001b[0;31m \u001b[0mprint\u001b[0m\u001b[0;34m(\u001b[0m\u001b[0mpart_2\u001b[0m\u001b[0;34m(\u001b[0m\u001b[0;34m[\u001b[0m\u001b[0;36m3\u001b[0m\u001b[0;34m,\u001b[0m \u001b[0;36m7\u001b[0m\u001b[0;34m]\u001b[0m\u001b[0;34m,\u001b[0m \u001b[0;34m\"084601\"\u001b[0m\u001b[0;34m)\u001b[0m\u001b[0;34m)\u001b[0m\u001b[0;34m\u001b[0m\u001b[0m\n\u001b[0m",
      "\u001b[0;32m<ipython-input-8-9f916d17679f>\u001b[0m in \u001b[0;36mpart_2\u001b[0;34m(input, search)\u001b[0m\n\u001b[1;32m     46\u001b[0m       \u001b[0mfound\u001b[0m \u001b[0;34m=\u001b[0m \u001b[0;32mTrue\u001b[0m\u001b[0;34m\u001b[0m\u001b[0m\n\u001b[1;32m     47\u001b[0m \u001b[0;34m\u001b[0m\u001b[0m\n\u001b[0;32m---> 48\u001b[0;31m   \u001b[0;32mreturn\u001b[0m \u001b[0mlen\u001b[0m\u001b[0;34m(\u001b[0m\u001b[0moutput\u001b[0m\u001b[0;34m)\u001b[0m \u001b[0;34m+\u001b[0m \u001b[0mtest_str\u001b[0m\u001b[0;34m.\u001b[0m\u001b[0mindex\u001b[0m\u001b[0;34m(\u001b[0m\u001b[0mlook\u001b[0m\u001b[0;34m)\u001b[0m \u001b[0;34m-\u001b[0m \u001b[0;36m7\u001b[0m\u001b[0;34m\u001b[0m\u001b[0m\n\u001b[0m\u001b[1;32m     49\u001b[0m \u001b[0;34m\u001b[0m\u001b[0m\n\u001b[1;32m     50\u001b[0m \u001b[0;34m\u001b[0m\u001b[0m\n",
      "\u001b[0;31mNameError\u001b[0m: name 'look' is not defined"
     ]
    }
   ],
   "source": [
    "from functools import reduce\n",
    "\n",
    "\n",
    "def part_1(input, iters):\n",
    "  elf1 = 0\n",
    "  elf2 = 1\n",
    "  output = input\n",
    "\n",
    "  for _ in range(iters + 6):\n",
    "    score = output[elf1] + output[elf2]\n",
    "\n",
    "    if score >= 10:\n",
    "      output.append(int(score / 10))\n",
    "      output.append(score % 10)\n",
    "    else:\n",
    "      output.append(score)\n",
    "\n",
    "    elf1 = (elf1 + 1 + output[elf1]) % len(output)\n",
    "    elf2 = (elf2 + 1 + output[elf2]) % len(output)\n",
    "\n",
    "  return reduce(lambda x, y: str(x) + str(y), output[iters:iters + 10])\n",
    "  \n",
    "\n",
    "def part_2(input, search):\n",
    "  elf1 = 0\n",
    "  elf2 = 1\n",
    "  output = input\n",
    "  found = False\n",
    "  test_str = \"\"\n",
    "\n",
    "  while not found:\n",
    "    score = output[elf1] + output[elf2]\n",
    "\n",
    "    if score >= 10:\n",
    "      output.append(int(score / 10))\n",
    "      output.append(score % 10)\n",
    "    else:\n",
    "      output.append(score)\n",
    "    test_str = test_str + str(score)\n",
    "\n",
    "    elf1 = (elf1 + 1 + output[elf1]) % len(output)\n",
    "    elf2 = (elf2 + 1 + output[elf2]) % len(output)\n",
    "\n",
    "    test_str =  test_str[-7:]\n",
    "    if search in test_str:\n",
    "      found = True\n",
    "\n",
    "  return len(output) + test_str.index(look) - 7\n",
    "\n",
    "\n",
    "#print(part_1([3, 7], 84601))\n",
    "print(part_2([3, 7], \"084601\"))"
   ]
  },
  {
   "cell_type": "code",
   "execution_count": 12,
   "metadata": {},
   "outputs": [
    {
     "name": "stdout",
     "output_type": "stream",
     "text": [
      "Next 10 recipe scores: 1631191756\n",
      "Number of recipes to the left of '409551': 20219475\n"
     ]
    }
   ],
   "source": [
    "import fileinput\n",
    "\n",
    "def main():\n",
    "    instr = \"409551\"\n",
    "\n",
    "    # solve part one\n",
    "    recipes = [3, 7]\n",
    "    a = 0\n",
    "    b = 1\n",
    "    while len(recipes) < int(instr) + 10:\n",
    "        new = recipes[a] + recipes[b]\n",
    "        if new >= 10:\n",
    "            recipes.extend([new // 10, new % 10])\n",
    "        else:\n",
    "            recipes.append(new)\n",
    "        a = (a + 1 + recipes[a]) % len(recipes)\n",
    "        b = (b + 1 + recipes[b]) % len(recipes)\n",
    "    print('Next 10 recipe scores:', ''.join(map(str, recipes[-10:])))\n",
    "\n",
    "    # solve part two\n",
    "    recipes = [3, 7]\n",
    "    a = 0\n",
    "    b = 1\n",
    "    inchr = [int(c) for c in instr]\n",
    "    inlen = len(inchr)\n",
    "    while True:\n",
    "        new = recipes[a] + recipes[b]\n",
    "        if new >= 10:\n",
    "            recipes.extend([new // 10, new % 10])\n",
    "        else:\n",
    "            recipes.append(new)\n",
    "        a = (a + 1 + recipes[a]) % len(recipes)\n",
    "        b = (b + 1 + recipes[b]) % len(recipes)\n",
    "        if recipes[-inlen:] == inchr or recipes[-inlen-1:-1] == inchr:\n",
    "            # check last two groups because 1 or 2 recipes can be added\n",
    "            # during each loop\n",
    "            break\n",
    "    print(f\"Number of recipes to the left of '{instr}':\", ''.join(map(str, recipes)).index(instr))\n",
    "\n",
    "\n",
    "if __name__ == '__main__':\n",
    "    main()"
   ]
  }
 ],
 "metadata": {
  "kernelspec": {
   "display_name": "Python 3",
   "language": "python",
   "name": "python3"
  },
  "language_info": {
   "codemirror_mode": {
    "name": "ipython",
    "version": 3
   },
   "file_extension": ".py",
   "mimetype": "text/x-python",
   "name": "python",
   "nbconvert_exporter": "python",
   "pygments_lexer": "ipython3",
   "version": "3.6.2"
  }
 },
 "nbformat": 4,
 "nbformat_minor": 2
}
