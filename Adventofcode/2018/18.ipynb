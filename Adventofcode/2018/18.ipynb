{
 "cells": [
  {
   "cell_type": "code",
   "execution_count": 156,
   "metadata": {},
   "outputs": [],
   "source": [
    "inpf = open('18.txt')\n",
    "inp = []\n",
    "for i in inpf.readlines():\n",
    "    inp = inp + [i.strip()]"
   ]
  },
  {
   "cell_type": "code",
   "execution_count": 157,
   "metadata": {},
   "outputs": [],
   "source": [
    "import numpy as np\n",
    "rows = len(inp)\n",
    "cols = len(inp[0])\n",
    "arr = np.zeros((rows+2, cols+2,2))\n",
    "\n",
    "num_map = {'.':0,'|':1,\"#\":2}\n",
    "num_map_rev = {0:'.',1:'|',2:'#'}\n",
    "\n",
    "for i,r in enumerate(inp):\n",
    "    arr[i+1,:,0] = [0] + [num_map[x] for x in r] + [0]\n"
   ]
  },
  {
   "cell_type": "code",
   "execution_count": 158,
   "metadata": {},
   "outputs": [
    {
     "name": "stdout",
     "output_type": "stream",
     "text": [
      "After 0 iter, trees = 510 lumber = 484 answer = 246840\n",
      "After 10 iter, trees = 740 lumber = 533 answer = 394420\n",
      "After 100 iter, trees = 391 lumber = 306 answer = 119646\n",
      "After 200 iter, trees = 547 lumber = 326 answer = 178322\n",
      "After 300 iter, trees = 565 lumber = 308 answer = 174020\n",
      "After 400 iter, trees = 589 lumber = 332 answer = 195548\n",
      "After 500 iter, trees = 601 lumber = 317 answer = 190517\n",
      "After 600 iter, trees = 571 lumber = 362 answer = 206702\n",
      "After 700 iter, trees = 644 lumber = 346 answer = 222824\n",
      "After 800 iter, trees = 548 lumber = 310 answer = 169880\n",
      "After 900 iter, trees = 644 lumber = 369 answer = 237636\n",
      "After 1000 iter, trees = 570 lumber = 306 answer = 174420\n",
      "After 1100 iter, trees = 638 lumber = 364 answer = 232232\n",
      "After 1200 iter, trees = 612 lumber = 321 answer = 196452\n",
      "After 1300 iter, trees = 571 lumber = 362 answer = 206702\n",
      "After 1400 iter, trees = 644 lumber = 346 answer = 222824\n",
      "After 1500 iter, trees = 548 lumber = 310 answer = 169880\n",
      "After 1600 iter, trees = 644 lumber = 369 answer = 237636\n",
      "After 1700 iter, trees = 570 lumber = 306 answer = 174420\n",
      "After 1800 iter, trees = 638 lumber = 364 answer = 232232\n",
      "After 1900 iter, trees = 612 lumber = 321 answer = 196452\n",
      "After 2000 iter, trees = 571 lumber = 362 answer = 206702\n",
      "After 2100 iter, trees = 644 lumber = 346 answer = 222824\n",
      "After 2200 iter, trees = 548 lumber = 310 answer = 169880\n",
      "After 2300 iter, trees = 644 lumber = 369 answer = 237636\n",
      "After 2400 iter, trees = 570 lumber = 306 answer = 174420\n",
      "After 2500 iter, trees = 638 lumber = 364 answer = 232232\n",
      "After 2600 iter, trees = 612 lumber = 321 answer = 196452\n",
      "After 2700 iter, trees = 571 lumber = 362 answer = 206702\n",
      "After 2800 iter, trees = 644 lumber = 346 answer = 222824\n",
      "After 2900 iter, trees = 548 lumber = 310 answer = 169880\n",
      "After 3000 iter, trees = 644 lumber = 369 answer = 237636\n",
      "After 3100 iter, trees = 570 lumber = 306 answer = 174420\n",
      "After 3200 iter, trees = 638 lumber = 364 answer = 232232\n",
      "After 3300 iter, trees = 612 lumber = 321 answer = 196452\n",
      "After 3400 iter, trees = 571 lumber = 362 answer = 206702\n",
      "After 3500 iter, trees = 644 lumber = 346 answer = 222824\n",
      "After 3600 iter, trees = 548 lumber = 310 answer = 169880\n",
      "After 3700 iter, trees = 644 lumber = 369 answer = 237636\n",
      "After 3800 iter, trees = 570 lumber = 306 answer = 174420\n",
      "After 3900 iter, trees = 638 lumber = 364 answer = 232232\n",
      "After 4000 iter, trees = 612 lumber = 321 answer = 196452\n"
     ]
    }
   ],
   "source": [
    "height = arr.shape[0]\n",
    "width = arr.shape[1]\n",
    "\n",
    "num_iter = 4000\n",
    "\n",
    "def print_arr(arr,it):\n",
    "    level = i % 2\n",
    "    height = arr.shape[0]\n",
    "    width = arr.shape[1]\n",
    "    for row in range(1, height - 1):\n",
    "        s = ''\n",
    "        for col in range(1, width - 1):\n",
    "            s += num_map_rev[arr[row, col, level]]\n",
    "        print(s)\n",
    "        \n",
    "\n",
    "def calc_val(arr, it):\n",
    "    a = arr[:,:, it % 2]\n",
    "    trees = (a == 1).sum()\n",
    "    lumber = (a == 2).sum()\n",
    "    return trees, lumber\n",
    "        \n",
    "def get_val(a):\n",
    "    this_val = a[1,1]\n",
    "    array = a * np.array([[1,1,1], [1,0,1], [1,1,1]])\n",
    "    trees = (array == 1).sum()\n",
    "    lumber = (array == 2).sum()\n",
    "    if this_val == 0:\n",
    "        if trees >= 3:\n",
    "            return 1\n",
    "        return 0\n",
    "    if this_val == 1:\n",
    "        if  lumber >= 3:\n",
    "            return 2\n",
    "        return 1\n",
    "    if this_val == 2:\n",
    "        if trees >= 1 and lumber >= 1:\n",
    "            return 2\n",
    "        return 0\n",
    "    assert(0)\n",
    "    return 0\n",
    "\n",
    "    \n",
    "    \n",
    "\n",
    "for i in range(num_iter + 1):\n",
    "    this_layer = i % 2\n",
    "    next_layer = (i + 1) % 2\n",
    "\n",
    "    for row in range(1, height - 1):\n",
    "        for col in range(1, width - 1):\n",
    "            arr[row, col,next_layer] = get_val(arr[row-1:row+2,col-1:col+2,this_layer])\n",
    "            \n",
    "    if i == 10 or i % 100 == 0:\n",
    "        trees, lumber = calc_val(arr, i)\n",
    "        print(\"After {} iter, trees = {} lumber = {} answer = {}\".format(i, trees, lumber, trees*lumber))\n",
    "    \n",
    "\n",
    "    "
   ]
  },
  {
   "cell_type": "code",
   "execution_count": 163,
   "metadata": {},
   "outputs": [
    {
     "data": {
      "text/plain": [
       "0.0"
      ]
     },
     "execution_count": 163,
     "metadata": {},
     "output_type": "execute_result"
    }
   ],
   "source": [
    "def calc_trees(x):\n",
    "    return ((x - 1000) / 100) % 7\n",
    "\n",
    "calc_trees(1000000000)"
   ]
  },
  {
   "cell_type": "code",
   "execution_count": 162,
   "metadata": {},
   "outputs": [],
   "source": [
    "# periodicity is 7\n",
    "# offset from 1000 is 0, so pick trees = 570 lumber = 306 answer = 174420"
   ]
  }
 ],
 "metadata": {
  "kernelspec": {
   "display_name": "Python 3",
   "language": "python",
   "name": "python3"
  },
  "language_info": {
   "codemirror_mode": {
    "name": "ipython",
    "version": 3
   },
   "file_extension": ".py",
   "mimetype": "text/x-python",
   "name": "python",
   "nbconvert_exporter": "python",
   "pygments_lexer": "ipython3",
   "version": "3.6.2"
  }
 },
 "nbformat": 4,
 "nbformat_minor": 2
}
