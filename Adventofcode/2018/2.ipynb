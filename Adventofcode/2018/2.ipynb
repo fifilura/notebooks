{
 "cells": [
  {
   "cell_type": "code",
   "execution_count": 1,
   "metadata": {
    "scrolled": false
   },
   "outputs": [],
   "source": [
    "inpf = open('2.txt')\n",
    "inp = []\n",
    "for i in inpf.readlines():\n",
    "    inp = inp + i.strip().split(',')\n"
   ]
  },
  {
   "cell_type": "code",
   "execution_count": 2,
   "metadata": {},
   "outputs": [],
   "source": [
    "import pandas as pd"
   ]
  },
  {
   "cell_type": "code",
   "execution_count": null,
   "metadata": {},
   "outputs": [],
   "source": []
  },
  {
   "cell_type": "code",
   "execution_count": 3,
   "metadata": {},
   "outputs": [],
   "source": [
    "def twos_and_threes(text):\n",
    "    df = pd.Series(list(text)).to_frame()\n",
    "    df['cnt'] = 1\n",
    "    df = df.groupby(0).count()\n",
    "    threes = int(df[df['cnt'] == 3].count())\n",
    "    twos = int(df[df['cnt'] == 2].count())\n",
    "    threes = 1 if threes >= 1 else 0\n",
    "    twos = 1 if twos >= 1 else 0\n",
    "    return (twos, threes)\n",
    "\n",
    "\n",
    "\n"
   ]
  },
  {
   "cell_type": "code",
   "execution_count": 4,
   "metadata": {},
   "outputs": [
    {
     "data": {
      "text/plain": [
       "5681"
      ]
     },
     "execution_count": 4,
     "metadata": {},
     "output_type": "execute_result"
    }
   ],
   "source": [
    "twos = 0\n",
    "threes = 0\n",
    "for i in inp:\n",
    "    two, three = twos_and_threes(i)\n",
    "    twos += two\n",
    "    threes += three\n",
    "    \n",
    "twos * threes"
   ]
  },
  {
   "cell_type": "code",
   "execution_count": null,
   "metadata": {},
   "outputs": [],
   "source": []
  },
  {
   "cell_type": "code",
   "execution_count": 5,
   "metadata": {},
   "outputs": [],
   "source": [
    "def compare(a,b):\n",
    "    num_diff = 0\n",
    "    for i in range(len(a)):\n",
    "        if a[i] != b[i]:\n",
    "            num_diff += 1\n",
    "    return num_diff\n",
    "    \n",
    "    "
   ]
  },
  {
   "cell_type": "code",
   "execution_count": 6,
   "metadata": {},
   "outputs": [
    {
     "data": {
      "text/plain": [
       "('uqyoeizfvmbistpkgnobcjtwld', 'uqyoeizfvmbistpkgnoacjtwld')"
      ]
     },
     "execution_count": 6,
     "metadata": {},
     "output_type": "execute_result"
    }
   ],
   "source": [
    "import itertools\n",
    "cnt = 0\n",
    "def comparelist(i):\n",
    "    for perm in itertools.permutations(i, r = 2):\n",
    "        if compare(perm[0], perm[1]) == 1:\n",
    "            return(perm[0], perm[1])\n",
    "\n",
    "comparelist(inp)   \n"
   ]
  },
  {
   "cell_type": "code",
   "execution_count": 7,
   "metadata": {},
   "outputs": [
    {
     "data": {
      "text/plain": [
       "'uqyoeizfvmbistpkgnocjtwld'"
      ]
     },
     "execution_count": 7,
     "metadata": {},
     "output_type": "execute_result"
    }
   ],
   "source": [
    "\n",
    "\n",
    "'uqyoeizfvmbistpkgnocjtwld'"
   ]
  },
  {
   "cell_type": "code",
   "execution_count": null,
   "metadata": {},
   "outputs": [],
   "source": []
  },
  {
   "cell_type": "code",
   "execution_count": null,
   "metadata": {},
   "outputs": [],
   "source": []
  }
 ],
 "metadata": {
  "kernelspec": {
   "display_name": "Python 3",
   "language": "python",
   "name": "python3"
  },
  "language_info": {
   "codemirror_mode": {
    "name": "ipython",
    "version": 3
   },
   "file_extension": ".py",
   "mimetype": "text/x-python",
   "name": "python",
   "nbconvert_exporter": "python",
   "pygments_lexer": "ipython3",
   "version": "3.6.2"
  }
 },
 "nbformat": 4,
 "nbformat_minor": 2
}
