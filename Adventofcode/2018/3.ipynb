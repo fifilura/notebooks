{
 "cells": [
  {
   "cell_type": "code",
   "execution_count": 49,
   "metadata": {},
   "outputs": [],
   "source": [
    "import numpy as np"
   ]
  },
  {
   "cell_type": "code",
   "execution_count": 50,
   "metadata": {},
   "outputs": [],
   "source": [
    "inpf = open('3.txt')\n",
    "inp = []\n",
    "for i in inpf.readlines():\n",
    "    inp = inp + [i.strip()]\n"
   ]
  },
  {
   "cell_type": "code",
   "execution_count": 51,
   "metadata": {},
   "outputs": [],
   "source": [
    "import re\n",
    "li = []\n",
    "\n",
    "p = re.compile('^#(\\d+) @ (\\d+),(\\d+): (\\d+)x(\\d+)')\n",
    "\n",
    "for i in inp:\n",
    "    res = p.findall(i)\n",
    "    d = {}\n",
    "    r = res[0]\n",
    "    d['no'] = int(r[0])\n",
    "    d['left'] = int(r[1])\n",
    "    d['top'] = int(r[2])\n",
    "    d['width'] = int(r[3])\n",
    "    d['height'] = int(r[4])\n",
    "    li += [d]\n",
    "    \n",
    "\n"
   ]
  },
  {
   "cell_type": "code",
   "execution_count": 52,
   "metadata": {},
   "outputs": [],
   "source": [
    "arr = np.zeros((1000,1000))"
   ]
  },
  {
   "cell_type": "code",
   "execution_count": 53,
   "metadata": {},
   "outputs": [],
   "source": [
    "for item in li:\n",
    "    arr[item['left']:item['left'] + item['width'], \n",
    "        item['top']: item['top'] + item['height']] += 1"
   ]
  },
  {
   "cell_type": "code",
   "execution_count": 54,
   "metadata": {},
   "outputs": [
    {
     "data": {
      "text/plain": [
       "118840"
      ]
     },
     "execution_count": 54,
     "metadata": {},
     "output_type": "execute_result"
    }
   ],
   "source": [
    "(arr > 1).sum()"
   ]
  },
  {
   "cell_type": "code",
   "execution_count": 55,
   "metadata": {},
   "outputs": [
    {
     "name": "stdout",
     "output_type": "stream",
     "text": [
      "919\n"
     ]
    }
   ],
   "source": [
    "for item in li:\n",
    "    sl = arr[item['left']:item['left'] + item['width'], item['top']: item['top'] + item['height']]\n",
    "    if not (sl > 1).any():\n",
    "        print(item['no'])\n",
    "    \n",
    "\n",
    "   "
   ]
  },
  {
   "cell_type": "code",
   "execution_count": null,
   "metadata": {},
   "outputs": [],
   "source": []
  },
  {
   "cell_type": "code",
   "execution_count": null,
   "metadata": {},
   "outputs": [],
   "source": []
  }
 ],
 "metadata": {
  "kernelspec": {
   "display_name": "Python 3",
   "language": "python",
   "name": "python3"
  },
  "language_info": {
   "codemirror_mode": {
    "name": "ipython",
    "version": 3
   },
   "file_extension": ".py",
   "mimetype": "text/x-python",
   "name": "python",
   "nbconvert_exporter": "python",
   "pygments_lexer": "ipython3",
   "version": "3.6.2"
  }
 },
 "nbformat": 4,
 "nbformat_minor": 2
}
