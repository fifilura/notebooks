{
 "cells": [
  {
   "cell_type": "code",
   "execution_count": 1,
   "metadata": {},
   "outputs": [],
   "source": [
    "inpf = open('4.txt')\n",
    "inp = []\n",
    "for i in inpf.readlines():\n",
    "    inp = inp + [i.strip()]"
   ]
  },
  {
   "cell_type": "code",
   "execution_count": 2,
   "metadata": {},
   "outputs": [],
   "source": [
    "import numpy as np\n",
    "import re\n",
    "sleep_times = {}\n",
    "cur_guard = 0\n",
    "cur_sleep = 0\n",
    "\n",
    "inp = sorted(inp)\n",
    "\n",
    "for i in inp:\n",
    "    p = re.compile(\"\\[\\d\\d\\d\\d-\\d\\d-\\d\\d \\d\\d:(\\d\\d)\\] (.*)\")\n",
    "    res = p.findall(i)[0]\n",
    "    minute = int(res[0])\n",
    "    command = res[1]\n",
    "    if command[0] == 'G':\n",
    "        p = re.compile(\"Guard #(\\d+) begins shift\")\n",
    "        guard = p.findall(command)[0]\n",
    "        cur_guard = guard\n",
    "    elif command[0] == 'f':\n",
    "        cur_sleep = minute\n",
    "    elif command[0] == 'w':\n",
    "        if cur_guard not in sleep_times:\n",
    "            sleep_times[cur_guard] = np.zeros(60)\n",
    "            \n",
    "        sleep_times[cur_guard][cur_sleep:minute] += 1\n",
    "\n",
    "  "
   ]
  },
  {
   "cell_type": "markdown",
   "metadata": {},
   "source": [
    "### Dict with arrays parses nicely into a dataframe"
   ]
  },
  {
   "cell_type": "code",
   "execution_count": 3,
   "metadata": {},
   "outputs": [],
   "source": [
    "import pandas as pd\n",
    "df = pd.DataFrame(sleep_times)"
   ]
  },
  {
   "cell_type": "code",
   "execution_count": 4,
   "metadata": {},
   "outputs": [],
   "source": [
    "guard = df.sum().idxmax()\n",
    "time = df[guard].idxmax()\n",
    "res = int(guard) * time"
   ]
  },
  {
   "cell_type": "code",
   "execution_count": 5,
   "metadata": {},
   "outputs": [
    {
     "name": "stdout",
     "output_type": "stream",
     "text": [
      "answer to question 1: 8421\n"
     ]
    }
   ],
   "source": [
    "print(\"answer to question 1: {}\".format(res))"
   ]
  },
  {
   "cell_type": "code",
   "execution_count": 6,
   "metadata": {},
   "outputs": [],
   "source": [
    "res = df.stack().idxmax()\n",
    "res = res[0]* int(res[1])"
   ]
  },
  {
   "cell_type": "code",
   "execution_count": 7,
   "metadata": {},
   "outputs": [
    {
     "name": "stdout",
     "output_type": "stream",
     "text": [
      "answer to question 2: 83359\n"
     ]
    }
   ],
   "source": [
    "print(\"answer to question 2: {}\".format(res))"
   ]
  }
 ],
 "metadata": {
  "kernelspec": {
   "display_name": "Python 3",
   "language": "python",
   "name": "python3"
  },
  "language_info": {
   "codemirror_mode": {
    "name": "ipython",
    "version": 3
   },
   "file_extension": ".py",
   "mimetype": "text/x-python",
   "name": "python",
   "nbconvert_exporter": "python",
   "pygments_lexer": "ipython3",
   "version": "3.6.2"
  }
 },
 "nbformat": 4,
 "nbformat_minor": 2
}
