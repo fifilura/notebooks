{
 "cells": [
  {
   "cell_type": "code",
   "execution_count": 54,
   "metadata": {},
   "outputs": [],
   "source": [
    "inpf = open('5.txt')\n",
    "inp = []\n",
    "for i in inpf.readlines():\n",
    "    inp = inp + [i.strip()]"
   ]
  },
  {
   "cell_type": "code",
   "execution_count": 55,
   "metadata": {},
   "outputs": [],
   "source": [
    "exp = inp[0]"
   ]
  },
  {
   "cell_type": "code",
   "execution_count": 56,
   "metadata": {
    "scrolled": false
   },
   "outputs": [
    {
     "data": {
      "text/plain": [
       "11636"
      ]
     },
     "execution_count": 56,
     "metadata": {},
     "output_type": "execute_result"
    }
   ],
   "source": [
    "import numpy as np\n",
    "\n",
    "class Node:\n",
    "    def __init__(self, value):\n",
    "        self.pred = None\n",
    "        self.suc = None\n",
    "        self.value = value\n",
    "    \n",
    "    def removeme(self):\n",
    "        if self.pred:\n",
    "            self.pred.suc = self.suc\n",
    "        if self.suc:\n",
    "            self.suc.pred = self.pred\n",
    "        \n",
    "    def printme(self):\n",
    "        print(\"pred: {} me: {} suc: {}\".format(self.pred.value if self.pred else \"NULL\", self.value, \n",
    "                                               self.suc.value if self.suc else \"NULL\"))\n",
    "        \n",
    "\n",
    "def run(char):\n",
    "    \n",
    "    # insert but exclude char and upper(char) if not None\n",
    "    pred = None\n",
    "    first_node = None\n",
    "    for c in exp:\n",
    "        if char and c.lower() == char:\n",
    "            continue\n",
    "        n = Node(c)\n",
    "        if not first_node:\n",
    "            first_node = n\n",
    "        n.pred = pred\n",
    "        if n.pred:\n",
    "            n.pred.suc = n\n",
    "        pred = n\n",
    "\n",
    "\n",
    "    cur = first_node\n",
    "    prev_val = None\n",
    "\n",
    "\n",
    "    def get_list():\n",
    "        res = ''\n",
    "        cur = first_node\n",
    "        while cur:\n",
    "            res += cur.value\n",
    "            cur = cur.suc\n",
    "        return res\n",
    "\n",
    "\n",
    "    while cur:\n",
    "        if prev_val and np.abs(ord(cur.value) - ord(prev_val)) == 32:\n",
    "            cur.pred.removeme()\n",
    "            cur.removeme()\n",
    "            if cur.pred:\n",
    "                cur = cur.pred\n",
    "            else:\n",
    "                first_node = cur.suc\n",
    "                cur = cur.suc        \n",
    "        prev_val = cur.value\n",
    "        cur = cur.suc\n",
    "\n",
    "    return len(get_list())\n",
    "\n",
    "run(None)"
   ]
  },
  {
   "cell_type": "code",
   "execution_count": 57,
   "metadata": {},
   "outputs": [
    {
     "data": {
      "text/plain": [
       "5302"
      ]
     },
     "execution_count": 57,
     "metadata": {},
     "output_type": "execute_result"
    }
   ],
   "source": [
    "min_val = 11636\n",
    "\n",
    "for c in 'abcdefghijklmnopqrstuvwxyz':\n",
    "    val = run(c)\n",
    "    if val < min_val:\n",
    "        min_val = val\n",
    "min_val"
   ]
  },
  {
   "cell_type": "code",
   "execution_count": null,
   "metadata": {},
   "outputs": [],
   "source": []
  },
  {
   "cell_type": "code",
   "execution_count": null,
   "metadata": {},
   "outputs": [],
   "source": []
  },
  {
   "cell_type": "code",
   "execution_count": null,
   "metadata": {},
   "outputs": [],
   "source": []
  },
  {
   "cell_type": "code",
   "execution_count": null,
   "metadata": {},
   "outputs": [],
   "source": []
  }
 ],
 "metadata": {
  "kernelspec": {
   "display_name": "Python 3",
   "language": "python",
   "name": "python3"
  },
  "language_info": {
   "codemirror_mode": {
    "name": "ipython",
    "version": 3
   },
   "file_extension": ".py",
   "mimetype": "text/x-python",
   "name": "python",
   "nbconvert_exporter": "python",
   "pygments_lexer": "ipython3",
   "version": "3.6.2"
  }
 },
 "nbformat": 4,
 "nbformat_minor": 2
}
