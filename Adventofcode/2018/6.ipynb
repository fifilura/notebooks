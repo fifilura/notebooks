{
 "cells": [
  {
   "cell_type": "code",
   "execution_count": 174,
   "metadata": {},
   "outputs": [
    {
     "data": {
      "text/plain": [
       "[{'val': 1, 'x': 252, 'y': 125},\n",
       " {'val': 2, 'x': 128, 'y': 333},\n",
       " {'val': 3, 'x': 89, 'y': 324},\n",
       " {'val': 4, 'x': 141, 'y': 171},\n",
       " {'val': 5, 'x': 266, 'y': 338},\n",
       " {'val': 6, 'x': 117, 'y': 175},\n",
       " {'val': 7, 'x': 160, 'y': 236},\n",
       " {'val': 8, 'x': 234, 'y': 202},\n",
       " {'val': 9, 'x': 165, 'y': 192},\n",
       " {'val': 10, 'x': 204, 'y': 232},\n",
       " {'val': 11, 'x': 83, 'y': 192},\n",
       " {'val': 12, 'x': 229, 'y': 178},\n",
       " {'val': 13, 'x': 333, 'y': 57},\n",
       " {'val': 14, 'x': 70, 'y': 243},\n",
       " {'val': 15, 'x': 108, 'y': 350},\n",
       " {'val': 16, 'x': 161, 'y': 63},\n",
       " {'val': 17, 'x': 213, 'y': 277},\n",
       " {'val': 18, 'x': 87, 'y': 299},\n",
       " {'val': 19, 'x': 163, 'y': 68},\n",
       " {'val': 20, 'x': 135, 'y': 312},\n",
       " {'val': 21, 'x': 290, 'y': 87},\n",
       " {'val': 22, 'x': 73, 'y': 246},\n",
       " {'val': 23, 'x': 283, 'y': 146},\n",
       " {'val': 24, 'x': 80, 'y': 357},\n",
       " {'val': 25, 'x': 66, 'y': 312},\n",
       " {'val': 26, 'x': 159, 'y': 214},\n",
       " {'val': 27, 'x': 221, 'y': 158},\n",
       " {'val': 28, 'x': 175, 'y': 54},\n",
       " {'val': 29, 'x': 298, 'y': 342},\n",
       " {'val': 30, 'x': 348, 'y': 162},\n",
       " {'val': 31, 'x': 249, 'y': 90},\n",
       " {'val': 32, 'x': 189, 'y': 322},\n",
       " {'val': 33, 'x': 311, 'y': 181},\n",
       " {'val': 34, 'x': 194, 'y': 244},\n",
       " {'val': 35, 'x': 53, 'y': 295},\n",
       " {'val': 36, 'x': 80, 'y': 301},\n",
       " {'val': 37, 'x': 262, 'y': 332},\n",
       " {'val': 38, 'x': 268, 'y': 180},\n",
       " {'val': 39, 'x': 139, 'y': 287},\n",
       " {'val': 40, 'x': 115, 'y': 53},\n",
       " {'val': 41, 'x': 163, 'y': 146},\n",
       " {'val': 42, 'x': 220, 'y': 268},\n",
       " {'val': 43, 'x': 79, 'y': 85},\n",
       " {'val': 44, 'x': 95, 'y': 112},\n",
       " {'val': 45, 'x': 349, 'y': 296},\n",
       " {'val': 46, 'x': 179, 'y': 274},\n",
       " {'val': 47, 'x': 113, 'y': 132},\n",
       " {'val': 48, 'x': 158, 'y': 264},\n",
       " {'val': 49, 'x': 316, 'y': 175},\n",
       " {'val': 50, 'x': 268, 'y': 215}]"
      ]
     },
     "execution_count": 174,
     "metadata": {},
     "output_type": "execute_result"
    }
   ],
   "source": [
    "inpf = open('6.txt')\n",
    "inp = []\n",
    "for c, i in enumerate(inpf.readlines()):\n",
    "    l = i.strip().split(',')\n",
    "    p = {}\n",
    "    \n",
    "    x = int(l[0])\n",
    "    y = int(l[1])\n",
    "    p['val'] = c+1\n",
    "    p['x'] = x\n",
    "    p['y'] = y\n",
    "    inp = inp + [p]\n",
    "inp"
   ]
  },
  {
   "cell_type": "code",
   "execution_count": 175,
   "metadata": {},
   "outputs": [
    {
     "name": "stdout",
     "output_type": "stream",
     "text": [
      "349\n",
      "357\n"
     ]
    }
   ],
   "source": [
    "max_x = 0\n",
    "max_y = 0\n",
    "for i in inp:\n",
    "    if i['x'] > max_x:\n",
    "        max_x = i['x']\n",
    "    if i['y'] > max_y:\n",
    "        max_y = i['y']\n",
    "\n",
    "print(max_x)\n",
    "print(max_y)\n",
    "max_x += 1\n",
    "max_y += 1"
   ]
  },
  {
   "cell_type": "code",
   "execution_count": 176,
   "metadata": {},
   "outputs": [
    {
     "name": "stdout",
     "output_type": "stream",
     "text": [
      "3604\n"
     ]
    }
   ],
   "source": [
    "import numpy as np\n",
    "arr = np.zeros((max_y, max_x))\n",
    "\n",
    "\n",
    "def manhattan_distance(a, b):\n",
    "    return np.abs(a[0]-b[0]) + np.abs(a[1]-b[1])\n",
    "    \n",
    "for x in range(0,max_x):\n",
    "    for y in range(0,max_y):\n",
    "        min_dist = max_x + max_y\n",
    "        cur_point = None\n",
    "        \n",
    "        for p in inp:\n",
    "            \n",
    "            dist = manhattan_distance((x,y), (p['x'], p['y']))\n",
    "            if dist < min_dist:\n",
    "                cur_point = p['val']\n",
    "                min_dist = dist\n",
    "            elif min_dist == dist and cur_point != p['val']:\n",
    "                cur_point = 0\n",
    "                \n",
    "        arr[y,x] = cur_point\n",
    "            \n",
    "\n",
    "#for p in inp:\n",
    "#    arr[p['y'], p['x']] = p['val'] + 100\n",
    "\n",
    "tot = np.append(arr[1,:], arr[max_y - 1,:])\n",
    "tot = np.append(tot, arr[:,1])\n",
    "tot = np.append(tot, arr[:, max_x - 1])\n",
    "disq = np.unique(tot)\n",
    "\n",
    "\n",
    "biggest = 0\n",
    "biggest_val = None\n",
    "for i in inp:\n",
    "    val = i['val']\n",
    "    if val in disq:\n",
    "        continue\n",
    "    cnt = (arr == val).sum()\n",
    "    if cnt > biggest:\n",
    "        biggest = cnt\n",
    "        biggest_val = val\n",
    "        \n",
    "print(cnt)"
   ]
  },
  {
   "cell_type": "code",
   "execution_count": 177,
   "metadata": {},
   "outputs": [
    {
     "name": "stdout",
     "output_type": "stream",
     "text": [
      "{'val': 1, 'x': 252, 'y': 125}\n",
      "{'val': 2, 'x': 128, 'y': 333}\n",
      "{'val': 3, 'x': 89, 'y': 324}\n",
      "{'val': 4, 'x': 141, 'y': 171}\n",
      "{'val': 5, 'x': 266, 'y': 338}\n",
      "{'val': 6, 'x': 117, 'y': 175}\n",
      "{'val': 7, 'x': 160, 'y': 236}\n",
      "{'val': 8, 'x': 234, 'y': 202}\n",
      "{'val': 9, 'x': 165, 'y': 192}\n",
      "{'val': 10, 'x': 204, 'y': 232}\n",
      "{'val': 11, 'x': 83, 'y': 192}\n",
      "{'val': 12, 'x': 229, 'y': 178}\n",
      "{'val': 13, 'x': 333, 'y': 57}\n",
      "{'val': 14, 'x': 70, 'y': 243}\n",
      "{'val': 15, 'x': 108, 'y': 350}\n",
      "{'val': 16, 'x': 161, 'y': 63}\n",
      "{'val': 17, 'x': 213, 'y': 277}\n",
      "{'val': 18, 'x': 87, 'y': 299}\n",
      "{'val': 19, 'x': 163, 'y': 68}\n",
      "{'val': 20, 'x': 135, 'y': 312}\n",
      "{'val': 21, 'x': 290, 'y': 87}\n",
      "{'val': 22, 'x': 73, 'y': 246}\n",
      "{'val': 23, 'x': 283, 'y': 146}\n",
      "{'val': 24, 'x': 80, 'y': 357}\n",
      "{'val': 25, 'x': 66, 'y': 312}\n",
      "{'val': 26, 'x': 159, 'y': 214}\n",
      "{'val': 27, 'x': 221, 'y': 158}\n",
      "{'val': 28, 'x': 175, 'y': 54}\n",
      "{'val': 29, 'x': 298, 'y': 342}\n",
      "{'val': 30, 'x': 348, 'y': 162}\n",
      "{'val': 31, 'x': 249, 'y': 90}\n",
      "{'val': 32, 'x': 189, 'y': 322}\n",
      "{'val': 33, 'x': 311, 'y': 181}\n",
      "{'val': 34, 'x': 194, 'y': 244}\n",
      "{'val': 35, 'x': 53, 'y': 295}\n",
      "{'val': 36, 'x': 80, 'y': 301}\n",
      "{'val': 37, 'x': 262, 'y': 332}\n",
      "{'val': 38, 'x': 268, 'y': 180}\n",
      "{'val': 39, 'x': 139, 'y': 287}\n",
      "{'val': 40, 'x': 115, 'y': 53}\n",
      "{'val': 41, 'x': 163, 'y': 146}\n",
      "{'val': 42, 'x': 220, 'y': 268}\n",
      "{'val': 43, 'x': 79, 'y': 85}\n",
      "{'val': 44, 'x': 95, 'y': 112}\n",
      "{'val': 45, 'x': 349, 'y': 296}\n",
      "{'val': 46, 'x': 179, 'y': 274}\n",
      "{'val': 47, 'x': 113, 'y': 132}\n",
      "{'val': 48, 'x': 158, 'y': 264}\n",
      "{'val': 49, 'x': 316, 'y': 175}\n",
      "{'val': 50, 'x': 268, 'y': 215}\n"
     ]
    }
   ],
   "source": [
    "for p in inp:\n",
    "    print(p)"
   ]
  },
  {
   "cell_type": "code",
   "execution_count": 178,
   "metadata": {},
   "outputs": [
    {
     "data": {
      "text/plain": [
       "array([[43., 43., 43., ..., 13., 13., 13.],\n",
       "       [43., 43., 43., ..., 13., 13., 13.],\n",
       "       [43., 43., 43., ..., 13., 13., 13.],\n",
       "       ...,\n",
       "       [24., 24., 24., ..., 45., 45., 45.],\n",
       "       [24., 24., 24., ..., 45., 45., 45.],\n",
       "       [24., 24., 24., ..., 45., 45., 45.]])"
      ]
     },
     "execution_count": 178,
     "metadata": {},
     "output_type": "execute_result"
    }
   ],
   "source": [
    "arr"
   ]
  },
  {
   "cell_type": "code",
   "execution_count": 179,
   "metadata": {},
   "outputs": [],
   "source": [
    "# Not theoretically correct but worked by chance. Ok then.\n",
    "# (the area can be outside min/max)\n",
    "\n",
    "arr = np.zeros((max_y, max_x))\n",
    "\n",
    "for x in range(0,max_x):\n",
    "    for y in range(0,max_y):\n",
    "        dist = 0\n",
    "        \n",
    "        for p in inp:\n",
    "            dist += manhattan_distance((x,y), (p['x'], p['y']))\n",
    "            \n",
    "        if dist < 10000:\n",
    "            arr[y,x] = dist\n",
    "            "
   ]
  },
  {
   "cell_type": "code",
   "execution_count": 180,
   "metadata": {},
   "outputs": [
    {
     "data": {
      "text/plain": [
       "46563"
      ]
     },
     "execution_count": 180,
     "metadata": {},
     "output_type": "execute_result"
    }
   ],
   "source": [
    "arr.shape\n",
    "(arr > 0).sum()"
   ]
  }
 ],
 "metadata": {
  "kernelspec": {
   "display_name": "Python 3",
   "language": "python",
   "name": "python3"
  },
  "language_info": {
   "codemirror_mode": {
    "name": "ipython",
    "version": 3
   },
   "file_extension": ".py",
   "mimetype": "text/x-python",
   "name": "python",
   "nbconvert_exporter": "python",
   "pygments_lexer": "ipython3",
   "version": "3.6.2"
  }
 },
 "nbformat": 4,
 "nbformat_minor": 2
}
