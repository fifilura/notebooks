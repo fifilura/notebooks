{
 "cells": [
  {
   "cell_type": "raw",
   "metadata": {},
   "source": [
    "Step C must be finished before step A can begin.\n",
    "Step C must be finished before step F can begin.\n",
    "Step A must be finished before step B can begin.\n",
    "Step A must be finished before step D can begin.\n",
    "Step B must be finished before step E can begin.\n",
    "Step D must be finished before step E can begin.\n",
    "Step F must be finished before step E can begin."
   ]
  },
  {
   "cell_type": "code",
   "execution_count": 262,
   "metadata": {},
   "outputs": [],
   "source": [
    "import re\n",
    "\n",
    "inpf = open('7.txt')\n",
    "inp = []\n",
    "\n",
    "r = re.compile('^Step (.) must be finished before step (.) can begin.')\n",
    "\n",
    "for c, i in enumerate(inpf.readlines()):\n",
    "    l = i.strip()\n",
    "    res = r.findall(l)[0]\n",
    "    p = {}\n",
    "    p['blockedby'] = res[0]\n",
    "    p['this'] = res[1]\n",
    "    \n",
    "    inp = inp + [p]"
   ]
  },
  {
   "cell_type": "code",
   "execution_count": 263,
   "metadata": {},
   "outputs": [
    {
     "name": "stdout",
     "output_type": "stream",
     "text": [
      "['B', 'E', 'U', 'V']\n"
     ]
    },
    {
     "data": {
      "text/plain": [
       "'BETUFNVADWGPLRJOHMXKZQCISY'"
      ]
     },
     "execution_count": 263,
     "metadata": {},
     "output_type": "execute_result"
    }
   ],
   "source": [
    "from collections import defaultdict\n",
    "nodes = defaultdict(list)\n",
    "for n in inp:\n",
    "    if n['this'] in nodes:\n",
    "        nodes[n['this']] += [n['blockedby']]\n",
    "    else:\n",
    "        nodes[n['this']] = [n['blockedby']]\n",
    "    \n",
    "for i in inp:\n",
    "    c = i['blockedby']\n",
    "    if c not in nodes and c not in available:\n",
    "        available += c\n",
    "        \n",
    "available = sorted(available)\n",
    "print(available)\n",
    "\n",
    "\n",
    "\n",
    "def enternode(c):\n",
    "    for i in nodes:\n",
    "        if c in nodes[i]:\n",
    "            nodes[i].remove(c)\n",
    "            if len(nodes[i]) == 0:\n",
    "                available.append(i)\n",
    "\n",
    "res = ''\n",
    "while len(available) > 0:\n",
    "    available = sorted(available)\n",
    "    item = available.pop(0)\n",
    "    enternode(item)\n",
    "    res += item\n",
    "res\n"
   ]
  },
  {
   "cell_type": "code",
   "execution_count": null,
   "metadata": {},
   "outputs": [],
   "source": []
  },
  {
   "cell_type": "code",
   "execution_count": null,
   "metadata": {
    "scrolled": false
   },
   "outputs": [],
   "source": []
  },
  {
   "cell_type": "code",
   "execution_count": 265,
   "metadata": {},
   "outputs": [
    {
     "name": "stdout",
     "output_type": "stream",
     "text": [
      "['B', 'E', 'U', 'V']\n"
     ]
    },
    {
     "data": {
      "text/plain": [
       "848"
      ]
     },
     "execution_count": 265,
     "metadata": {},
     "output_type": "execute_result"
    }
   ],
   "source": [
    "from collections import defaultdict\n",
    "\n",
    "nodes = defaultdict(list)\n",
    "for n in inp:\n",
    "    if n['this'] in nodes:\n",
    "        nodes[n['this']] += [n['blockedby']]\n",
    "    else:\n",
    "        nodes[n['this']] = [n['blockedby']]\n",
    "    \n",
    "for i in inp:\n",
    "    c = i['blockedby']\n",
    "    if c not in nodes and c not in available:\n",
    "        available += c\n",
    "        \n",
    "available = sorted(available)\n",
    "print(available)\n",
    "\n",
    "\n",
    "def finishnode(c):\n",
    "    ready_nodes = []\n",
    "    for i in nodes:\n",
    "        if c in nodes[i]:\n",
    "            nodes[i].remove(c)\n",
    "            if len(nodes[i]) == 0:\n",
    "                ready_nodes += [i]\n",
    "    return ready_nodes\n",
    "\n",
    "res = ''\n",
    "\n",
    "\n",
    "class Worker():\n",
    "    def __init__(self):\n",
    "        self.c = ''\n",
    "        self.time = -1\n",
    "    \n",
    "    def start(self, c):\n",
    "        self.c = c\n",
    "        self.time = ord(c) - 4\n",
    "    \n",
    "    def tick(self):\n",
    "        self.time -= 1\n",
    "        if self.time == 0:\n",
    "            return True\n",
    "        return False\n",
    "    \n",
    "    def ready(self):\n",
    "        if self.time <= 0:\n",
    "            return True\n",
    "        return False\n",
    "    \n",
    "\n",
    "    \n",
    "workers = [None,None,None,None,None]\n",
    "\n",
    "for i in range(len(workers)):\n",
    "    workers[i] = Worker()\n",
    "\n",
    "total_seconds = -1\n",
    "\n",
    "def occupied():\n",
    "    for w in workers:\n",
    "        if not w.ready():\n",
    "            return True\n",
    "    return False\n",
    "\n",
    "\n",
    "while len(available) > 0 or occupied():\n",
    "    \n",
    "    available = sorted(available)\n",
    "    \n",
    "    for i in range(len(workers)):\n",
    "        if workers[i].ready():\n",
    "            if len(available) > 0:\n",
    "                item = available.pop(0)\n",
    "                workers[i].start(item)\n",
    "    \n",
    "    for i in range(len(workers)):\n",
    "        if workers[i].tick():\n",
    "            will_add = finishnode(workers[i].c)\n",
    "            available += will_add\n",
    "            res += workers[i].c\n",
    "    \n",
    "    total_seconds += 1\n",
    "    #print(\"sec: {} w1: {} w2:{}\".format(total_seconds, workers[0].c, workers[1].c))\n",
    "\n",
    "            \n",
    "total_seconds + 1"
   ]
  },
  {
   "cell_type": "code",
   "execution_count": null,
   "metadata": {},
   "outputs": [],
   "source": []
  }
 ],
 "metadata": {
  "kernelspec": {
   "display_name": "Python 3",
   "language": "python",
   "name": "python3"
  },
  "language_info": {
   "codemirror_mode": {
    "name": "ipython",
    "version": 3
   },
   "file_extension": ".py",
   "mimetype": "text/x-python",
   "name": "python",
   "nbconvert_exporter": "python",
   "pygments_lexer": "ipython3",
   "version": "3.6.2"
  }
 },
 "nbformat": 4,
 "nbformat_minor": 2
}
