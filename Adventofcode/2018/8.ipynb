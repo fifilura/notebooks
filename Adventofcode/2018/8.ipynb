{
 "cells": [
  {
   "cell_type": "code",
   "execution_count": 124,
   "metadata": {},
   "outputs": [],
   "source": [
    "inpf = open('8.txt')\n",
    "inp = []\n",
    "for c, i in enumerate(inpf.readlines()):\n",
    "    inp += [int(i) for i in i.strip().split(' ')]\n"
   ]
  },
  {
   "cell_type": "code",
   "execution_count": null,
   "metadata": {},
   "outputs": [],
   "source": []
  },
  {
   "cell_type": "code",
   "execution_count": 121,
   "metadata": {},
   "outputs": [
    {
     "data": {
      "text/plain": [
       "(18734, 48443)"
      ]
     },
     "execution_count": 121,
     "metadata": {},
     "output_type": "execute_result"
    }
   ],
   "source": [
    "def create_node(data):\n",
    "    children = data[0]\n",
    "    metadata_cnt = data[1] \n",
    "    pos = 2\n",
    "    metadata_sum = 0\n",
    "    \n",
    "    for i in range(children):\n",
    "        child_pos, child_metadata_sum = create_node(data[pos:])\n",
    "        metadata_sum += child_metadata_sum\n",
    "        pos = pos + child_pos\n",
    "        \n",
    "    metadata = data[pos:pos+metadata_cnt]\n",
    "    return pos + metadata_cnt, metadata_sum + sum(metadata)\n",
    "    \n",
    "create_node(inp)\n",
    "    "
   ]
  },
  {
   "cell_type": "code",
   "execution_count": null,
   "metadata": {},
   "outputs": [],
   "source": []
  },
  {
   "cell_type": "code",
   "execution_count": 127,
   "metadata": {},
   "outputs": [],
   "source": [
    "class Node():\n",
    "    def __init__(self):\n",
    "        self.children = None\n",
    "        self.data = None\n",
    "\n",
    "def create_node(data):\n",
    "    children = data[0]\n",
    "    metadata_cnt = data[1] \n",
    "    \n",
    "    pos = 2\n",
    "    \n",
    "    child_list = []\n",
    "    \n",
    "    for i in range(children):\n",
    "        child_pos, node = create_node(data[pos:])\n",
    "        child_list += [node]\n",
    "        pos = pos + child_pos\n",
    "        \n",
    "    metadata = data[pos:pos+metadata_cnt]\n",
    "    \n",
    "    node = Node()\n",
    "    node.children = child_list\n",
    "    node.data = metadata\n",
    "    \n",
    "    return pos + metadata_cnt,  node\n",
    "    \n",
    "pos, root = create_node(inp)\n"
   ]
  },
  {
   "cell_type": "code",
   "execution_count": 132,
   "metadata": {},
   "outputs": [
    {
     "data": {
      "text/plain": [
       "30063"
      ]
     },
     "execution_count": 132,
     "metadata": {},
     "output_type": "execute_result"
    }
   ],
   "source": [
    "def enter_node(n):\n",
    "    children = n.children\n",
    "    metadata = n.data\n",
    "    child_val = 0\n",
    "    \n",
    "    if len(children) == 0:\n",
    "        return sum(metadata)\n",
    "    \n",
    "    for i in metadata:\n",
    "        if i <= len(children):\n",
    "            cv = enter_node(children[i-1])\n",
    "            child_val += cv\n",
    "\n",
    "    return child_val\n",
    "\n",
    "enter_node(root)"
   ]
  },
  {
   "cell_type": "code",
   "execution_count": 131,
   "metadata": {},
   "outputs": [
    {
     "data": {
      "text/plain": [
       "14.0"
      ]
     },
     "execution_count": 131,
     "metadata": {},
     "output_type": "execute_result"
    }
   ],
   "source": [
    "168 / 12"
   ]
  },
  {
   "cell_type": "code",
   "execution_count": null,
   "metadata": {},
   "outputs": [],
   "source": []
  }
 ],
 "metadata": {
  "kernelspec": {
   "display_name": "Python 3",
   "language": "python",
   "name": "python3"
  },
  "language_info": {
   "codemirror_mode": {
    "name": "ipython",
    "version": 3
   },
   "file_extension": ".py",
   "mimetype": "text/x-python",
   "name": "python",
   "nbconvert_exporter": "python",
   "pygments_lexer": "ipython3",
   "version": "3.6.2"
  }
 },
 "nbformat": 4,
 "nbformat_minor": 2
}
