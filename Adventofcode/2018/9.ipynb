{
 "cells": [
  {
   "cell_type": "code",
   "execution_count": 78,
   "metadata": {},
   "outputs": [],
   "source": [
    "players = 431\n",
    "marbles = 70950"
   ]
  },
  {
   "cell_type": "code",
   "execution_count": 134,
   "metadata": {},
   "outputs": [],
   "source": [
    "players = 9\n",
    "marbles = 25"
   ]
  },
  {
   "cell_type": "code",
   "execution_count": 143,
   "metadata": {},
   "outputs": [],
   "source": [
    "players = 10\n",
    "marbles = 1618"
   ]
  },
  {
   "cell_type": "code",
   "execution_count": 71,
   "metadata": {},
   "outputs": [],
   "source": [
    "players = 13\n",
    "marbles = 7999"
   ]
  },
  {
   "cell_type": "code",
   "execution_count": 145,
   "metadata": {},
   "outputs": [],
   "source": [
    "players = 431\n",
    "marbles = 7095000"
   ]
  },
  {
   "cell_type": "code",
   "execution_count": 151,
   "metadata": {
    "scrolled": true
   },
   "outputs": [
    {
     "name": "stdout",
     "output_type": "stream",
     "text": [
      "100000\n",
      "200000\n",
      "300000\n",
      "400000\n",
      "500000\n",
      "600000\n",
      "700000\n",
      "800000\n",
      "900000\n",
      "1000000\n",
      "1100000\n",
      "1200000\n",
      "1300000\n",
      "1400000\n",
      "1500000\n",
      "1600000\n",
      "1700000\n",
      "1800000\n",
      "1900000\n",
      "2000000\n",
      "2100000\n",
      "2200000\n",
      "2300000\n",
      "2400000\n",
      "2500000\n",
      "2600000\n",
      "2700000\n",
      "2800000\n",
      "2900000\n",
      "3000000\n",
      "3100000\n",
      "3200000\n",
      "3300000\n",
      "3400000\n",
      "3500000\n",
      "3600000\n",
      "3700000\n",
      "3800000\n",
      "3900000\n",
      "4000000\n",
      "4100000\n",
      "4200000\n",
      "4300000\n",
      "4400000\n",
      "4500000\n",
      "4600000\n",
      "4700000\n",
      "4800000\n",
      "4900000\n",
      "5000000\n",
      "5100000\n",
      "5200000\n",
      "5300000\n",
      "5400000\n",
      "5500000\n",
      "5600000\n",
      "5700000\n",
      "5800000\n",
      "5900000\n",
      "6000000\n",
      "6100000\n",
      "6200000\n",
      "6300000\n",
      "6400000\n",
      "6500000\n",
      "6600000\n",
      "6700000\n",
      "6800000\n",
      "6900000\n",
      "7000000\n"
     ]
    },
    {
     "data": {
      "text/plain": [
       "3350093681"
      ]
     },
     "execution_count": 151,
     "metadata": {},
     "output_type": "execute_result"
    }
   ],
   "source": [
    "\n",
    "scores = defaultdict(int)\n",
    "\n",
    "class Node:\n",
    "    def __init__(self, value):\n",
    "        self.pred = None\n",
    "        self.suc = None\n",
    "        self.value = value\n",
    "    \n",
    "    def removeme(self):\n",
    "        if self.pred:\n",
    "            self.pred.suc = self.suc\n",
    "        if self.suc:\n",
    "            self.suc.pred = self.pred\n",
    "    \n",
    "    def insertafter(self, n):\n",
    "        self.suc.pred = n\n",
    "        n.suc = self.suc\n",
    "        self.suc = n\n",
    "        n.pred = self\n",
    "    \n",
    "    def printme(self):\n",
    "        print(\"pred: {} me: {} suc: {}\".format(self.pred.value if self.pred else \"NULL\", self.value, \n",
    "                                               self.suc.value if self.suc else \"NULL\"))\n",
    "        \n",
    "\n",
    "start = Node(0)\n",
    "start.pred = start\n",
    "start.suc = start\n",
    "\n",
    "cur = start\n",
    "\n",
    "def print_nodes(val):\n",
    "    s = \"[{}] \".format(val)\n",
    "    s += \"{} \".format(start.value)\n",
    "    node = start.suc\n",
    "    while node != start:\n",
    "        s += \"{} \".format(node.value)\n",
    "        node = node.suc\n",
    "    print(s)\n",
    "\n",
    "gnome_no = -1\n",
    "\n",
    "for i in range(1,marbles + 1):\n",
    "    \n",
    "    if i % 100000 == 0:\n",
    "        print (i)\n",
    "        \n",
    "    gnome_no = (gnome_no + 1) % players\n",
    "    if i % 23 == 0:\n",
    "        node = cur.pred.pred.pred.pred.pred.pred.pred\n",
    "        #print(node.value)\n",
    "        scores[gnome_no + 1] += i + node.value\n",
    "        cur = node.suc\n",
    "        node.removeme()\n",
    "\n",
    "    else:\n",
    "        cur = cur.suc\n",
    "        cur.insertafter(Node(i))\n",
    "        cur = cur.suc\n",
    "    if marbles == 25:\n",
    "        print_nodes(gnome_no + 1)\n",
    "    \n",
    "    \n",
    "    \n",
    "max_val = 0\n",
    "for i in scores:\n",
    "    if scores[i] > max_val:\n",
    "        max_val = scores[i]\n",
    "max_val      "
   ]
  },
  {
   "cell_type": "code",
   "execution_count": null,
   "metadata": {},
   "outputs": [],
   "source": []
  },
  {
   "cell_type": "code",
   "execution_count": null,
   "metadata": {},
   "outputs": [],
   "source": []
  },
  {
   "cell_type": "code",
   "execution_count": null,
   "metadata": {},
   "outputs": [],
   "source": []
  }
 ],
 "metadata": {
  "kernelspec": {
   "display_name": "Python 3",
   "language": "python",
   "name": "python3"
  },
  "language_info": {
   "codemirror_mode": {
    "name": "ipython",
    "version": 3
   },
   "file_extension": ".py",
   "mimetype": "text/x-python",
   "name": "python",
   "nbconvert_exporter": "python",
   "pygments_lexer": "ipython3",
   "version": "3.6.2"
  }
 },
 "nbformat": 4,
 "nbformat_minor": 2
}
