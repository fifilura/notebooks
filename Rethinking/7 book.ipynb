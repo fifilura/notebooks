{
 "cells": [
  {
   "cell_type": "code",
   "execution_count": 10,
   "metadata": {},
   "outputs": [],
   "source": [
    "library(rethinking)\n",
    "data(rugged)\n",
    "d <- rugged"
   ]
  },
  {
   "cell_type": "code",
   "execution_count": 11,
   "metadata": {},
   "outputs": [],
   "source": [
    "d$log_gdp <- log(d$rgdppc_2000)\n",
    "\n",
    "dd <- d[complete.cases(d$rgdppc_2000),]\n",
    "d.A1 <- dd[dd$cont_africa == 1,]\n",
    "d.A0 <- dd[dd$cont_africa == 0,]\n"
   ]
  },
  {
   "cell_type": "code",
   "execution_count": 23,
   "metadata": {},
   "outputs": [
    {
     "data": {
      "text/html": [
       "<table>\n",
       "<thead><tr><th></th><th scope=col>isocode</th><th scope=col>isonum</th><th scope=col>country</th><th scope=col>rugged</th><th scope=col>rugged_popw</th><th scope=col>rugged_slope</th><th scope=col>rugged_lsd</th><th scope=col>rugged_pc</th><th scope=col>land_area</th><th scope=col>lat</th><th scope=col>⋯</th><th scope=col>africa_region_e</th><th scope=col>africa_region_c</th><th scope=col>slave_exports</th><th scope=col>dist_slavemkt_atlantic</th><th scope=col>dist_slavemkt_indian</th><th scope=col>dist_slavemkt_saharan</th><th scope=col>dist_slavemkt_redsea</th><th scope=col>pop_1400</th><th scope=col>european_descent</th><th scope=col>log_gdp</th></tr></thead>\n",
       "<tbody>\n",
       "\t<tr><th scope=row>3</th><td>AGO                 </td><td> 24                 </td><td>Angola              </td><td>0.858               </td><td>0.714               </td><td> 2.274              </td><td>0.228               </td><td> 4.906              </td><td>124670              </td><td>-12.299             </td><td>⋯                   </td><td>0                   </td><td>1                   </td><td>3610000             </td><td>5.669               </td><td>6.981               </td><td>4.926               </td><td>3.872               </td><td>1223208             </td><td>  2.000             </td><td>7.492609            </td></tr>\n",
       "\t<tr><th scope=row>5</th><td>ALB                 </td><td>  8                 </td><td>Albania             </td><td>3.427               </td><td>1.597               </td><td>10.451              </td><td>1.006               </td><td>62.133              </td><td>  2740              </td><td> 41.143             </td><td>⋯                   </td><td>0                   </td><td>0                   </td><td>      0             </td><td>   NA               </td><td>   NA               </td><td>   NA               </td><td>   NA               </td><td> 200000             </td><td>100.000             </td><td>8.216929            </td></tr>\n",
       "\t<tr><th scope=row>8</th><td>ARE                 </td><td>784                 </td><td>United Arab Emirates</td><td>0.769               </td><td>0.316               </td><td> 2.112              </td><td>0.191               </td><td> 6.142              </td><td>  8360              </td><td> 23.913             </td><td>⋯                   </td><td>0                   </td><td>0                   </td><td>      0             </td><td>   NA               </td><td>   NA               </td><td>   NA               </td><td>   NA               </td><td>  19200             </td><td>  0.000             </td><td>9.933263            </td></tr>\n",
       "\t<tr><th scope=row>9</th><td>ARG                 </td><td> 32                 </td><td>Argentina           </td><td>0.775               </td><td>0.220               </td><td> 2.268              </td><td>0.226               </td><td> 9.407              </td><td>273669              </td><td>-35.396             </td><td>⋯                   </td><td>0                   </td><td>0                   </td><td>      0             </td><td>   NA               </td><td>   NA               </td><td>   NA               </td><td>   NA               </td><td> 276632             </td><td> 89.889             </td><td>9.407032            </td></tr>\n",
       "\t<tr><th scope=row>10</th><td>ARM                 </td><td> 51                 </td><td>Armenia             </td><td>2.688               </td><td>0.934               </td><td> 8.178              </td><td>0.799               </td><td>50.556              </td><td>  2820              </td><td> 40.294             </td><td>⋯                   </td><td>0                   </td><td>0                   </td><td>      0             </td><td>   NA               </td><td>   NA               </td><td>   NA               </td><td>   NA               </td><td> 105743             </td><td>  0.500             </td><td>7.792343            </td></tr>\n",
       "\t<tr><th scope=row>12</th><td>ATG                 </td><td> 28                 </td><td>Antigua and Barbuda </td><td>0.006               </td><td>0.003               </td><td> 0.012              </td><td>0.003               </td><td> 0.000              </td><td>    44              </td><td> 17.271             </td><td>⋯                   </td><td>0                   </td><td>0                   </td><td>      0             </td><td>   NA               </td><td>   NA               </td><td>   NA               </td><td>   NA               </td><td>    747             </td><td>     NA             </td><td>9.212541            </td></tr>\n",
       "</tbody>\n",
       "</table>\n"
      ],
      "text/latex": [
       "\\begin{tabular}{r|llllllllllllllllllllllllllllllllllllllllllllllllllll}\n",
       "  & isocode & isonum & country & rugged & rugged\\_popw & rugged\\_slope & rugged\\_lsd & rugged\\_pc & land\\_area & lat & ⋯ & africa\\_region\\_e & africa\\_region\\_c & slave\\_exports & dist\\_slavemkt\\_atlantic & dist\\_slavemkt\\_indian & dist\\_slavemkt\\_saharan & dist\\_slavemkt\\_redsea & pop\\_1400 & european\\_descent & log\\_gdp\\\\\n",
       "\\hline\n",
       "\t3 & AGO                  &  24                  & Angola               & 0.858                & 0.714                &  2.274               & 0.228                &  4.906               & 124670               & -12.299              & ⋯                    & 0                    & 1                    & 3610000              & 5.669                & 6.981                & 4.926                & 3.872                & 1223208              &   2.000              & 7.492609            \\\\\n",
       "\t5 & ALB                  &   8                  & Albania              & 3.427                & 1.597                & 10.451               & 1.006                & 62.133               &   2740               &  41.143              & ⋯                    & 0                    & 0                    &       0              &    NA                &    NA                &    NA                &    NA                &  200000              & 100.000              & 8.216929            \\\\\n",
       "\t8 & ARE                  & 784                  & United Arab Emirates & 0.769                & 0.316                &  2.112               & 0.191                &  6.142               &   8360               &  23.913              & ⋯                    & 0                    & 0                    &       0              &    NA                &    NA                &    NA                &    NA                &   19200              &   0.000              & 9.933263            \\\\\n",
       "\t9 & ARG                  &  32                  & Argentina            & 0.775                & 0.220                &  2.268               & 0.226                &  9.407               & 273669               & -35.396              & ⋯                    & 0                    & 0                    &       0              &    NA                &    NA                &    NA                &    NA                &  276632              &  89.889              & 9.407032            \\\\\n",
       "\t10 & ARM                  &  51                  & Armenia              & 2.688                & 0.934                &  8.178               & 0.799                & 50.556               &   2820               &  40.294              & ⋯                    & 0                    & 0                    &       0              &    NA                &    NA                &    NA                &    NA                &  105743              &   0.500              & 7.792343            \\\\\n",
       "\t12 & ATG                  &  28                  & Antigua and Barbuda  & 0.006                & 0.003                &  0.012               & 0.003                &  0.000               &     44               &  17.271              & ⋯                    & 0                    & 0                    &       0              &    NA                &    NA                &    NA                &    NA                &     747              &      NA              & 9.212541            \\\\\n",
       "\\end{tabular}\n"
      ],
      "text/markdown": [
       "\n",
       "| <!--/--> | isocode | isonum | country | rugged | rugged_popw | rugged_slope | rugged_lsd | rugged_pc | land_area | lat | ⋯ | africa_region_e | africa_region_c | slave_exports | dist_slavemkt_atlantic | dist_slavemkt_indian | dist_slavemkt_saharan | dist_slavemkt_redsea | pop_1400 | european_descent | log_gdp | \n",
       "|---|---|---|---|---|---|\n",
       "| 3 | AGO                  |  24                  | Angola               | 0.858                | 0.714                |  2.274               | 0.228                |  4.906               | 124670               | -12.299              | ⋯                    | 0                    | 1                    | 3610000              | 5.669                | 6.981                | 4.926                | 3.872                | 1223208              |   2.000              | 7.492609             | \n",
       "| 5 | ALB                  |   8                  | Albania              | 3.427                | 1.597                | 10.451               | 1.006                | 62.133               |   2740               |  41.143              | ⋯                    | 0                    | 0                    |       0              |    NA                |    NA                |    NA                |    NA                |  200000              | 100.000              | 8.216929             | \n",
       "| 8 | ARE                  | 784                  | United Arab Emirates | 0.769                | 0.316                |  2.112               | 0.191                |  6.142               |   8360               |  23.913              | ⋯                    | 0                    | 0                    |       0              |    NA                |    NA                |    NA                |    NA                |   19200              |   0.000              | 9.933263             | \n",
       "| 9 | ARG                  |  32                  | Argentina            | 0.775                | 0.220                |  2.268               | 0.226                |  9.407               | 273669               | -35.396              | ⋯                    | 0                    | 0                    |       0              |    NA                |    NA                |    NA                |    NA                |  276632              |  89.889              | 9.407032             | \n",
       "| 10 | ARM                  |  51                  | Armenia              | 2.688                | 0.934                |  8.178               | 0.799                | 50.556               |   2820               |  40.294              | ⋯                    | 0                    | 0                    |       0              |    NA                |    NA                |    NA                |    NA                |  105743              |   0.500              | 7.792343             | \n",
       "| 12 | ATG                  |  28                  | Antigua and Barbuda  | 0.006                | 0.003                |  0.012               | 0.003                |  0.000               |     44               |  17.271              | ⋯                    | 0                    | 0                    |       0              |    NA                |    NA                |    NA                |    NA                |     747              |      NA              | 9.212541             | \n",
       "\n",
       "\n"
      ],
      "text/plain": [
       "   isocode isonum country              rugged rugged_popw rugged_slope\n",
       "3  AGO      24    Angola               0.858  0.714        2.274      \n",
       "5  ALB       8    Albania              3.427  1.597       10.451      \n",
       "8  ARE     784    United Arab Emirates 0.769  0.316        2.112      \n",
       "9  ARG      32    Argentina            0.775  0.220        2.268      \n",
       "10 ARM      51    Armenia              2.688  0.934        8.178      \n",
       "12 ATG      28    Antigua and Barbuda  0.006  0.003        0.012      \n",
       "   rugged_lsd rugged_pc land_area lat     ⋯ africa_region_e africa_region_c\n",
       "3  0.228       4.906    124670    -12.299 ⋯ 0               1              \n",
       "5  1.006      62.133      2740     41.143 ⋯ 0               0              \n",
       "8  0.191       6.142      8360     23.913 ⋯ 0               0              \n",
       "9  0.226       9.407    273669    -35.396 ⋯ 0               0              \n",
       "10 0.799      50.556      2820     40.294 ⋯ 0               0              \n",
       "12 0.003       0.000        44     17.271 ⋯ 0               0              \n",
       "   slave_exports dist_slavemkt_atlantic dist_slavemkt_indian\n",
       "3  3610000       5.669                  6.981               \n",
       "5        0          NA                     NA               \n",
       "8        0          NA                     NA               \n",
       "9        0          NA                     NA               \n",
       "10       0          NA                     NA               \n",
       "12       0          NA                     NA               \n",
       "   dist_slavemkt_saharan dist_slavemkt_redsea pop_1400 european_descent\n",
       "3  4.926                 3.872                1223208    2.000         \n",
       "5     NA                    NA                 200000  100.000         \n",
       "8     NA                    NA                  19200    0.000         \n",
       "9     NA                    NA                 276632   89.889         \n",
       "10    NA                    NA                 105743    0.500         \n",
       "12    NA                    NA                    747       NA         \n",
       "   log_gdp \n",
       "3  7.492609\n",
       "5  8.216929\n",
       "8  9.933263\n",
       "9  9.407032\n",
       "10 7.792343\n",
       "12 9.212541"
      ]
     },
     "metadata": {},
     "output_type": "display_data"
    }
   ],
   "source": [
    "head(dd)"
   ]
  },
  {
   "cell_type": "code",
   "execution_count": 12,
   "metadata": {},
   "outputs": [],
   "source": [
    "m7.1 <- map(\n",
    "    alist(\n",
    "        log_gdp ~ dnorm(mu, sigma),\n",
    "        mu <- a + bR*rugged,\n",
    "        a ~ dnorm(8,100),\n",
    "        bR ~ dnorm(0,1),\n",
    "        sigma ~ dunif(0,10)\n",
    "    ),\n",
    "    data = d.A1\n",
    ")"
   ]
  },
  {
   "cell_type": "code",
   "execution_count": 13,
   "metadata": {},
   "outputs": [],
   "source": [
    "m7.2 <- map(\n",
    "    alist(\n",
    "        log_gdp ~ dnorm(mu, sigma),\n",
    "        mu <- a + bR*rugged,\n",
    "        a ~ dnorm(8,100),\n",
    "        bR ~ dnorm(0,1),\n",
    "        sigma ~ dunif(0,10)\n",
    "    ),\n",
    "    data = d.A0\n",
    ")"
   ]
  },
  {
   "cell_type": "code",
   "execution_count": 15,
   "metadata": {},
   "outputs": [],
   "source": [
    "m7.3 <- map(\n",
    "    alist(\n",
    "        log_gdp ~ dnorm(mu, sigma),\n",
    "        mu <- a + bR*rugged,\n",
    "        a ~ dnorm(8,100),\n",
    "        bR ~ dnorm(0,1),\n",
    "        sigma ~ dunif(0,10)\n",
    "    ),\n",
    "    data = dd\n",
    ")"
   ]
  },
  {
   "cell_type": "code",
   "execution_count": 16,
   "metadata": {},
   "outputs": [],
   "source": [
    "m7.4 <- map(\n",
    "    alist(\n",
    "        log_gdp ~ dnorm(mu, sigma),\n",
    "        mu <- a + bR*rugged + bA*cont_africa,\n",
    "        a ~ dnorm(8,100),\n",
    "        bR ~ dnorm(0,1),\n",
    "        bA ~ dnorm(0,1),\n",
    "        sigma ~ dunif(0,10)\n",
    "    ),\n",
    "    data = dd\n",
    ")"
   ]
  },
  {
   "cell_type": "code",
   "execution_count": 17,
   "metadata": {},
   "outputs": [
    {
     "data": {
      "text/plain": [
       "      WAIC pWAIC dWAIC weight    SE   dSE\n",
       "m7.4 476.3   4.4   0.0      1 15.33    NA\n",
       "m7.3 539.9   2.8  63.6      0 13.35 15.17"
      ]
     },
     "metadata": {},
     "output_type": "display_data"
    }
   ],
   "source": [
    "compare(m7.3, m7.4)"
   ]
  },
  {
   "cell_type": "code",
   "execution_count": 22,
   "metadata": {},
   "outputs": [
    {
     "name": "stdout",
     "output_type": "stream",
     "text": [
      "[ 100 / 1000 ]\r",
      "[ 200 / 1000 ]\r",
      "[ 300 / 1000 ]\r",
      "[ 400 / 1000 ]\r",
      "[ 500 / 1000 ]\r",
      "[ 600 / 1000 ]\r",
      "[ 700 / 1000 ]\r",
      "[ 800 / 1000 ]\r",
      "[ 900 / 1000 ]\r",
      "[ 1000 / 1000 ]\r\n",
      "[ 100 / 1000 ]\r",
      "[ 200 / 1000 ]\r",
      "[ 300 / 1000 ]\r",
      "[ 400 / 1000 ]\r",
      "[ 500 / 1000 ]\r",
      "[ 600 / 1000 ]\r",
      "[ 700 / 1000 ]\r",
      "[ 800 / 1000 ]\r",
      "[ 900 / 1000 ]\r",
      "[ 1000 / 1000 ]\r\n"
     ]
    }
   ],
   "source": [
    "rugged.seq <- seq(from = -1, to = 8, by = 0.25)\n",
    "\n",
    "mu.NotAfrica <- link( m7.4, data=data.frame(cont_africa = 0, rugged = rugged.seq))\n",
    "mu.Africa <- link( m7.4, data=data.frame(cont_africa = 1, rugged = rugged.seq))\n",
    "\n",
    "mu.NotAfrica.mean <- apply(mu.NotAfrica, 2, mean)\n",
    "mu.NotAfrica.PI <- apply(mu.NotAfrica, 2, PI, prob = 0.97)\n",
    "mu.Africa.mean <- apply(mu.Africa, 2, mean)\n",
    "mu.Africa.PI <- apply(mu.Africa, 2, PI, prob = 0.97)"
   ]
  },
  {
   "cell_type": "code",
   "execution_count": 37,
   "metadata": {},
   "outputs": [
    {
     "data": {
      "image/png": "[encoded data removed]",
      "text/plain": [
       "plot without title"
      ]
     },
     "metadata": {},
     "output_type": "display_data",
     "source": "R display func"
    }
   ],
   "source": [
    "plot(log_gdp~rugged, data = d.A0)\n",
    "lines(rugged.seq, mu.NotAfrica.mean)\n",
    "shade(mu.NotAfrica.PI, rugged.seq)"
   ]
  },
  {
   "cell_type": "code",
   "execution_count": 38,
   "metadata": {},
   "outputs": [
    {
     "data": {
      "image/png": "[encoded data removed]",
      "text/plain": [
       "plot without title"
      ]
     },
     "metadata": {},
     "output_type": "display_data",
     "source": "R display func"
    }
   ],
   "source": [
    "plot(log_gdp~rugged, data = d.A1)\n",
    "lines(rugged.seq, mu.Africa.mean)\n",
    "shade(mu.Africa.PI, rugged.seq)"
   ]
  },
  {
   "cell_type": "code",
   "execution_count": 53,
   "metadata": {},
   "outputs": [],
   "source": [
    "m7.5 <- map(\n",
    "    alist(\n",
    "        log_gdp ~ dnorm(mu, sigma),\n",
    "        mu <- a + gamma * rugged + bA*cont_africa,\n",
    "        gamma <- bR + bAR*cont_africa,\n",
    "        a ~ dnorm(8,100),\n",
    "        bR ~ dnorm(0,1),\n",
    "        bA ~ dnorm(0,1),\n",
    "        bAR ~ dnorm(0,1),\n",
    "        sigma ~ dunif(0,10)\n",
    "    ),\n",
    "    data = dd\n",
    ")"
   ]
  },
  {
   "cell_type": "code",
   "execution_count": 54,
   "metadata": {},
   "outputs": [
    {
     "data": {
      "text/plain": [
       "      WAIC pWAIC dWAIC weight    SE   dSE\n",
       "m7.5 470.0   5.5   0.0   0.95 15.18    NA\n",
       "m7.4 476.1   4.2   6.1   0.05 15.23  6.21\n",
       "m7.3 539.5   2.7  69.5   0.00 13.29 15.21"
      ]
     },
     "metadata": {},
     "output_type": "display_data"
    }
   ],
   "source": [
    "compare(m7.3, m7.4, m7.5)"
   ]
  },
  {
   "cell_type": "code",
   "execution_count": 55,
   "metadata": {},
   "outputs": [
    {
     "name": "stdout",
     "output_type": "stream",
     "text": [
      "data{\n",
      "    int<lower=1> N;\n",
      "    real log_gdp[N];\n",
      "    real rugged[N];\n",
      "    int cont_africa[N];\n",
      "}\n",
      "parameters{\n",
      "    real a;\n",
      "    real bR;\n",
      "    real bA;\n",
      "    real bAR;\n",
      "    real<lower=0,upper=10> sigma;\n",
      "}\n",
      "model{\n",
      "    vector[N] gamma;\n",
      "    vector[N] mu;\n",
      "    // sigma ~ uniform( 0 , 10 );\n",
      "    bAR ~ normal( 0 , 1 );\n",
      "    bA ~ normal( 0 , 1 );\n",
      "    bR ~ normal( 0 , 1 );\n",
      "    a ~ normal( 8 , 100 );\n",
      "    for ( i in 1:N ) {\n",
      "        gamma[i] = bR + bAR * cont_africa[i];\n",
      "    }\n",
      "    for ( i in 1:N ) {\n",
      "        mu[i] = a + gamma[i] * rugged[i] + bA * cont_africa[i];\n",
      "    }\n",
      "    log_gdp ~ normal( mu , sigma );\n",
      "}\n",
      "generated quantities{\n",
      "    vector[N] gamma;\n",
      "    vector[N] mu;\n",
      "    real dev;\n",
      "    dev = 0;\n",
      "    for ( i in 1:N ) {\n",
      "        gamma[i] = bR + bAR * cont_africa[i];\n",
      "    }\n",
      "    for ( i in 1:N ) {\n",
      "        mu[i] = a + gamma[i] * rugged[i] + bA * cont_africa[i];\n",
      "    }\n",
      "    dev = dev + (-2)*normal_lpdf( log_gdp | mu , sigma );\n",
      "}\n"
     ]
    }
   ],
   "source": [
    "stancode(m7.5)"
   ]
  },
  {
   "cell_type": "code",
   "execution_count": null,
   "metadata": {},
   "outputs": [],
   "source": []
  },
  {
   "cell_type": "code",
   "execution_count": null,
   "metadata": {},
   "outputs": [],
   "source": []
  }
 ],
 "metadata": {
  "kernelspec": {
   "display_name": "R",
   "language": "R",
   "name": "ir"
  },
  "language_info": {
   "codemirror_mode": "r",
   "file_extension": ".r",
   "mimetype": "text/x-r-source",
   "name": "R",
   "pygments_lexer": "r",
   "version": "3.3.2"
  }
 },
 "nbformat": 4,
 "nbformat_minor": 2
}
