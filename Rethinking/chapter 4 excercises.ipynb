{
 "cells": [
  {
   "cell_type": "markdown",
   "metadata": {},
   "source": [
    "# Chapter 4"
   ]
  },
  {
   "cell_type": "code",
   "execution_count": 1,
   "metadata": {},
   "outputs": [
    {
     "data": {
      "text/html": [
       "123"
      ],
      "text/latex": [
       "123"
      ],
      "text/markdown": [
       "123"
      ],
      "text/plain": [
       "[1] 123"
      ]
     },
     "metadata": {},
     "output_type": "display_data"
    }
   ],
   "source": [
    "123"
   ]
  },
  {
   "cell_type": "code",
   "execution_count": 22,
   "metadata": {},
   "outputs": [],
   "source": [
    "library(rethinking)\n",
    "data(Howell1)\n",
    "d <- Howell1"
   ]
  },
  {
   "cell_type": "markdown",
   "metadata": {},
   "source": [
    "#### 4E1\n",
    "\n",
    "likelyhood is\n",
    "\n",
    "$$y_i \\thicksim Normal(\\mu, \\sigma)$$"
   ]
  },
  {
   "cell_type": "markdown",
   "metadata": {},
   "source": [
    "#### 4E2\n",
    "\n",
    "\n",
    "Two - same as the priors"
   ]
  },
  {
   "cell_type": "markdown",
   "metadata": {},
   "source": [
    "#### 4E3\n",
    "\n",
    "$$Pr(\\mu, \\sigma|y) = \\frac {\\prod_i {Normal(y_i|\\mu,\\sigma)Normal(\\mu|0,10)Uniform(\\sigma|0,50)}} \n",
    "{\\int\\int \\prod_i {Normal(y_i|\\mu,\\sigma)Normal(\\mu|0,10)Uniform(\\sigma|0,50)}d\\mu d\\sigma}$$\n"
   ]
  },
  {
   "cell_type": "markdown",
   "metadata": {},
   "source": [
    "#### 4E4\n",
    "\n",
    "$$\\mu_i = \\alpha + \\beta x_i$$"
   ]
  },
  {
   "cell_type": "markdown",
   "metadata": {},
   "source": [
    "#### 4E5\n",
    "\n",
    "Three, just like the number of priors\n"
   ]
  },
  {
   "cell_type": "markdown",
   "metadata": {},
   "source": [
    "#### 4M1\n",
    "\n",
    "$$y_i \\thicksim Normal(\\mu, \\sigma)$$\n",
    "\n",
    "$$\\mu \\thicksim Normal(0,10)$$\n",
    "\n",
    "$$\\sigma \\thicksim Uniform(0,10)$$"
   ]
  },
  {
   "cell_type": "code",
   "execution_count": 23,
   "metadata": {},
   "outputs": [
    {
     "data": {
      "image/png": "[encoded data removed]",
      "text/plain": [
       "Plot with title “”"
      ]
     },
     "metadata": {},
     "output_type": "display_data",
     "source": "R display func"
    }
   ],
   "source": [
    "sample_mu <- rnorm(1e4, 0, 10)\n",
    "sample_sigma <- runif(1e4, 0, 10)\n",
    "prior_h <- rnorm(1e4, sample_mu, sample_sigma)\n",
    "dens(prior_h)"
   ]
  },
  {
   "cell_type": "markdown",
   "metadata": {},
   "source": [
    "## 4M2"
   ]
  },
  {
   "cell_type": "code",
   "execution_count": 24,
   "metadata": {},
   "outputs": [],
   "source": [
    "flist <- alist(\n",
    "  y ~ dnorm(mu, sigma),\n",
    "  mu ~ dnorm(0,10),\n",
    "  sigma ~ dunif(0,10)\n",
    ")"
   ]
  },
  {
   "cell_type": "markdown",
   "metadata": {},
   "source": [
    "## 4M3\n",
    "\n",
    "$$y_i \\thicksim Normal(\\mu, \\sigma)$$\n",
    "\n",
    "$$\\mu = \\alpha + \\beta * x_i$$\n",
    "\n",
    "$$\\alpha \\thicksim Normal(0,50)$$\n",
    "\n",
    "$$\\beta \\thicksim Uniform(0,10)$$\n",
    "\n",
    "$$\\sigma \\thicksim Uniform(0,50)$$"
   ]
  },
  {
   "cell_type": "markdown",
   "metadata": {},
   "source": [
    "## 4M4\n",
    "\n",
    "$$height_i \\thicksim Normal(\\mu_i, \\sigma)$$\n",
    "\n",
    "$$\\mu = \\alpha +\\beta year_i$$\n",
    "\n",
    "$$\\alpha \\thicksim Normal(150,80)$$\n",
    "\n",
    "For it to be meaningful to do such a study I assume students are not fully grown to begin with.\n",
    "\n",
    "Allow the intercept to swing wildly.\n",
    "\n",
    "$$\\beta \\thicksim Normal(10, 7)$$\n",
    "Rather conservative prior (95% conf int between -4 to +24 cm / year), but want to keep \"0\" in the interval.\n",
    "\n",
    "\n",
    "$$\\sigma \\thicksim Uniform(0,80)$$\n",
    "It is reasonable to suspect that 95% of the sample are within 80 cm of length\n",
    "\n"
   ]
  },
  {
   "cell_type": "markdown",
   "metadata": {},
   "source": [
    "## 4M5\n",
    "\n",
    "$$\\alpha \\thicksim Normal(120, 80)$$\n",
    "$$\\beta \\thicksim Normal(10,5)$$\n"
   ]
  },
  {
   "cell_type": "markdown",
   "metadata": {},
   "source": [
    "## 4M6\n",
    "\n",
    "$$\\sigma \\thicksim Uniform(0,64)$$"
   ]
  },
  {
   "cell_type": "markdown",
   "metadata": {},
   "source": [
    "## 4H1\n",
    "\n",
    "Make a regression weight ~ height and calculate height and HPDI from this\n",
    "\n",
    "\n",
    "$$h_i \\thicksim Normal(\\mu_i, \\sigma)$$\n",
    "$$\\mu_i = \\alpha + \\beta * x_i$$\n",
    "$$\\alpha \\thicksim Normal(178, 100)$$\n",
    "$$\\beta \\thicksim Normal(0, 10)$$\n",
    "$$\\sigma \\thicksim Normal(0, 50)$$"
   ]
  },
  {
   "cell_type": "code",
   "execution_count": 25,
   "metadata": {},
   "outputs": [
    {
     "name": "stderr",
     "output_type": "stream",
     "text": [
      "Warning: Variable 'weight.c' contains dots '.'.\n",
      "Will attempt to remove dots internally.\n",
      "recompiling to avoid crashing R session\n"
     ]
    },
    {
     "name": "stdout",
     "output_type": "stream",
     "text": [
      "In file included from /opt/conda/lib/R/library/BH/include/boost/config.hpp:39:0,\n",
      "                 from /opt/conda/lib/R/library/BH/include/boost/math/tools/config.hpp:13,\n",
      "                 from /opt/conda/lib/R/library/StanHeaders/include/stan/math/rev/core/var.hpp:7,\n",
      "                 from /opt/conda/lib/R/library/StanHeaders/include/stan/math/rev/core/gevv_vvv_vari.hpp:5,\n",
      "                 from /opt/conda/lib/R/library/StanHeaders/include/stan/math/rev/core.hpp:12,\n",
      "                 from /opt/conda/lib/R/library/StanHeaders/include/stan/math/rev/mat.hpp:4,\n",
      "                 from /opt/conda/lib/R/library/StanHeaders/include/stan/math.hpp:4,\n",
      "                 from /opt/conda/lib/R/library/StanHeaders/include/src/stan/model/model_header.hpp:4,\n",
      "                 from file182bd71995.cpp:8:\n",
      "/opt/conda/lib/R/library/BH/include/boost/config/compiler/gcc.hpp:186:0: warning: \"BOOST_NO_CXX11_RVALUE_REFERENCES\" redefined\n",
      " #  define BOOST_NO_CXX11_RVALUE_REFERENCES\n",
      " ^\n",
      "<command-line>:0:0: note: this is the location of the previous definition\n",
      "\n",
      "SAMPLING FOR MODEL 'height ~ dnorm(mu, sigma)' NOW (CHAIN 1).\n",
      "\n",
      "Gradient evaluation took 0.000297 seconds\n",
      "1000 transitions using 10 leapfrog steps per transition would take 2.97 seconds.\n",
      "Adjust your expectations accordingly!\n",
      "\n",
      "\n",
      "Iteration:    1 / 2000 [  0%]  (Warmup)\n",
      "Iteration:  200 / 2000 [ 10%]  (Warmup)\n",
      "Iteration:  400 / 2000 [ 20%]  (Warmup)\n",
      "Iteration:  600 / 2000 [ 30%]  (Warmup)\n",
      "Iteration:  800 / 2000 [ 40%]  (Warmup)\n",
      "Iteration: 1000 / 2000 [ 50%]  (Warmup)\n",
      "Iteration: 1001 / 2000 [ 50%]  (Sampling)\n",
      "Iteration: 1200 / 2000 [ 60%]  (Sampling)\n",
      "Iteration: 1400 / 2000 [ 70%]  (Sampling)\n",
      "Iteration: 1600 / 2000 [ 80%]  (Sampling)\n",
      "Iteration: 1800 / 2000 [ 90%]  (Sampling)\n",
      "Iteration: 2000 / 2000 [100%]  (Sampling)\n",
      "\n",
      " Elapsed Time: 2.09877 seconds (Warm-up)\n",
      "               2.01939 seconds (Sampling)\n",
      "               4.11815 seconds (Total)\n",
      "\n",
      "\n",
      "SAMPLING FOR MODEL 'height ~ dnorm(mu, sigma)' NOW (CHAIN 1).\n",
      "\n",
      "Gradient evaluation took 0.000294 seconds\n",
      "1000 transitions using 10 leapfrog steps per transition would take 2.94 seconds.\n",
      "Adjust your expectations accordingly!\n",
      "\n",
      "\n",
      "WARNING: No variance estimation is\n",
      "         performed for num_warmup < 20\n",
      "\n",
      "Iteration: 1 / 1 [100%]  (Sampling)\n",
      "\n",
      " Elapsed Time: 1e-06 seconds (Warm-up)\n",
      "               0.000795 seconds (Sampling)\n",
      "               0.000796 seconds (Total)\n",
      "\n"
     ]
    },
    {
     "name": "stderr",
     "output_type": "stream",
     "text": [
      "Warning message:\n",
      "“There were 1 divergent transitions after warmup. Increasing adapt_delta above 0.8 may help. See\n",
      "http://mc-stan.org/misc/warnings.html#divergent-transitions-after-warmup”Warning message:\n",
      "“Examine the pairs() plot to diagnose sampling problems\n",
      "”Computing WAIC\n",
      "Constructing posterior predictions\n"
     ]
    },
    {
     "name": "stdout",
     "output_type": "stream",
     "text": [
      "[ 100 / 1000 ]\r",
      "[ 200 / 1000 ]\r",
      "[ 300 / 1000 ]\r",
      "[ 400 / 1000 ]\r",
      "[ 500 / 1000 ]\r",
      "[ 600 / 1000 ]\r",
      "[ 700 / 1000 ]\r",
      "[ 800 / 1000 ]\r",
      "[ 900 / 1000 ]\r",
      "[ 1000 / 1000 ]\r\n"
     ]
    }
   ],
   "source": [
    "d2 <- d[d$age >= 18,]\n",
    "d2$weight.c <- d2$weight - mean(d2$weight)\n",
    "m4H1 <- map2stan(alist(\n",
    "  height ~ dnorm(mu, sigma),\n",
    "  mu <- a + b*weight.c,\n",
    "  a ~ dnorm(178,100),\n",
    "  b ~ dnorm(0,10),\n",
    "  sigma ~ dunif(0,50)\n",
    "), data = d2)"
   ]
  },
  {
   "cell_type": "code",
   "execution_count": 26,
   "metadata": {},
   "outputs": [
    {
     "name": "stdout",
     "output_type": "stream",
     "text": [
      "data{\n",
      "    int<lower=1> N;\n",
      "    real height[N];\n",
      "    real weight_c[N];\n",
      "}\n",
      "parameters{\n",
      "    real a;\n",
      "    real b;\n",
      "    real<lower=0,upper=50> sigma;\n",
      "}\n",
      "model{\n",
      "    vector[N] mu;\n",
      "    // sigma ~ uniform( 0 , 50 );\n",
      "    b ~ normal( 0 , 10 );\n",
      "    a ~ normal( 178 , 100 );\n",
      "    for ( i in 1:N ) {\n",
      "        mu[i] = a + b * weight_c[i];\n",
      "    }\n",
      "    height ~ normal( mu , sigma );\n",
      "}\n",
      "generated quantities{\n",
      "    vector[N] mu;\n",
      "    real dev;\n",
      "    dev = 0;\n",
      "    for ( i in 1:N ) {\n",
      "        mu[i] = a + b * weight_c[i];\n",
      "    }\n",
      "    dev = dev + (-2)*normal_lpdf( height | mu , sigma );\n",
      "}\n"
     ]
    }
   ],
   "source": [
    "stancode(m4H1)"
   ]
  },
  {
   "cell_type": "code",
   "execution_count": 29,
   "metadata": {},
   "outputs": [
    {
     "data": {
      "text/plain": [
       "        Mean StdDev lower 0.89 upper 0.89 n_eff Rhat  1  2  3\n",
       "a     154.58   0.27     154.09     154.97  1000    1  1 NA NA\n",
       "b       0.91   0.04       0.84       0.97  1000    1 NA  1 NA\n",
       "sigma   5.10   0.19       4.77       5.37  1000    1 NA NA  1"
      ]
     },
     "metadata": {},
     "output_type": "display_data"
    },
    {
     "data": {
      "text/html": [
       "154.597092613636"
      ],
      "text/latex": [
       "154.597092613636"
      ],
      "text/markdown": [
       "154.597092613636"
      ],
      "text/plain": [
       "[1] 154.5971"
      ]
     },
     "metadata": {},
     "output_type": "display_data"
    }
   ],
   "source": [
    "precis(m4H1, corr=TRUE)\n",
    "mean(d2$height)"
   ]
  },
  {
   "cell_type": "code",
   "execution_count": null,
   "metadata": {},
   "outputs": [],
   "source": [
    "plot(height ~ weight.c, data = d2)\n",
    "abline(a = coef(m4H1)[\"a\"], b = coef(m4H1)[\"b\"])"
   ]
  },
  {
   "cell_type": "code",
   "execution_count": 8,
   "metadata": {},
   "outputs": [
    {
     "name": "stdout",
     "output_type": "stream",
     "text": [
      "[ 100 / 1000 ]\r",
      "[ 200 / 1000 ]\r",
      "[ 300 / 1000 ]\r",
      "[ 400 / 1000 ]\r",
      "[ 500 / 1000 ]\r",
      "[ 600 / 1000 ]\r",
      "[ 700 / 1000 ]\r",
      "[ 800 / 1000 ]\r",
      "[ 900 / 1000 ]\r",
      "[ 1000 / 1000 ]\r\n"
     ]
    },
    {
     "data": {
      "text/html": [
       "<ol class=list-inline>\n",
       "\t<li>156.354142068911</li>\n",
       "\t<li>153.442912120396</li>\n",
       "\t<li>172.424491908543</li>\n",
       "\t<li>143.411336477373</li>\n",
       "\t<li>163.276199655471</li>\n",
       "</ol>\n"
      ],
      "text/latex": [
       "\\begin{enumerate*}\n",
       "\\item 156.354142068911\n",
       "\\item 153.442912120396\n",
       "\\item 172.424491908543\n",
       "\\item 143.411336477373\n",
       "\\item 163.276199655471\n",
       "\\end{enumerate*}\n"
      ],
      "text/markdown": [
       "1. 156.354142068911\n",
       "2. 153.442912120396\n",
       "3. 172.424491908543\n",
       "4. 143.411336477373\n",
       "5. 163.276199655471\n",
       "\n",
       "\n"
      ],
      "text/plain": [
       "[1] 156.3541 153.4429 172.4245 143.4113 163.2762"
      ]
     },
     "metadata": {},
     "output_type": "display_data"
    }
   ],
   "source": [
    "weights_4H1 <- c(46.95, 43.72, 64.78, 32.59, 54.63) - mean(d2$weight)\n",
    "mu <- link(m4H1, data = data.frame(weight.c = weights_4H1))\n",
    "mu.mean <- apply(mu, 2, mean)\n",
    "mu.HPDI <- apply(mu, 2, HPDI, prob = 0.89)\n",
    "mu.mean"
   ]
  },
  {
   "cell_type": "code",
   "execution_count": null,
   "metadata": {},
   "outputs": [],
   "source": []
  },
  {
   "cell_type": "code",
   "execution_count": 9,
   "metadata": {},
   "outputs": [
    {
     "data": {
      "text/html": [
       "<table>\n",
       "<tbody>\n",
       "\t<tr><th scope=row>|0.89</th><td>155.8952</td><td>152.9924</td><td>171.1883</td><td>142.4667</td><td>162.5627</td></tr>\n",
       "\t<tr><th scope=row>0.89|</th><td>156.7891</td><td>153.8654</td><td>173.8940</td><td>144.3419</td><td>164.0930</td></tr>\n",
       "</tbody>\n",
       "</table>\n"
      ],
      "text/latex": [
       "\\begin{tabular}{r|lllll}\n",
       "\t\\textbar{}0.89 & 155.8952 & 152.9924 & 171.1883 & 142.4667 & 162.5627\\\\\n",
       "\t0.89\\textbar{} & 156.7891 & 153.8654 & 173.8940 & 144.3419 & 164.0930\\\\\n",
       "\\end{tabular}\n"
      ],
      "text/markdown": [
       "\n",
       "| |0.89 | 155.8952 | 152.9924 | 171.1883 | 142.4667 | 162.5627 | \n",
       "| 0.89| | 156.7891 | 153.8654 | 173.8940 | 144.3419 | 164.0930 | \n",
       "\n",
       "\n"
      ],
      "text/plain": [
       "      [,1]     [,2]     [,3]     [,4]     [,5]    \n",
       "|0.89 155.8952 152.9924 171.1883 142.4667 162.5627\n",
       "0.89| 156.7891 153.8654 173.8940 144.3419 164.0930"
      ]
     },
     "metadata": {},
     "output_type": "display_data"
    }
   ],
   "source": [
    "mu.HPDI"
   ]
  },
  {
   "cell_type": "code",
   "execution_count": 10,
   "metadata": {},
   "outputs": [
    {
     "data": {
      "image/png": "[encoded data removed]",
      "text/plain": [
       "plot without title"
      ]
     },
     "metadata": {},
     "output_type": "display_data"
    }
   ],
   "source": [
    "plot(height ~ weight.c, d2, type = \"n\")\n",
    "for (i in 1:100)\n",
    "  points(weights_4H1, mu[i,], pch = 16, col = col.alpha(rangi2, 0.1))"
   ]
  },
  {
   "cell_type": "code",
   "execution_count": 11,
   "metadata": {},
   "outputs": [],
   "source": [
    "#### 4H2"
   ]
  },
  {
   "cell_type": "code",
   "execution_count": 12,
   "metadata": {},
   "outputs": [
    {
     "name": "stderr",
     "output_type": "stream",
     "text": [
      "Warning: Variable 'weight.c' contains dots '.'.\n",
      "Will attempt to remove dots internally.\n"
     ]
    },
    {
     "name": "stdout",
     "output_type": "stream",
     "text": [
      "In file included from /opt/conda/lib/R/library/BH/include/boost/config.hpp:39:0,\n",
      "                 from /opt/conda/lib/R/library/BH/include/boost/math/tools/config.hpp:13,\n",
      "                 from /opt/conda/lib/R/library/StanHeaders/include/stan/math/rev/core/var.hpp:7,\n",
      "                 from /opt/conda/lib/R/library/StanHeaders/include/stan/math/rev/core/gevv_vvv_vari.hpp:5,\n",
      "                 from /opt/conda/lib/R/library/StanHeaders/include/stan/math/rev/core.hpp:12,\n",
      "                 from /opt/conda/lib/R/library/StanHeaders/include/stan/math/rev/mat.hpp:4,\n",
      "                 from /opt/conda/lib/R/library/StanHeaders/include/stan/math.hpp:4,\n",
      "                 from /opt/conda/lib/R/library/StanHeaders/include/src/stan/model/model_header.hpp:4,\n",
      "                 from file18a402b5.cpp:8:\n",
      "/opt/conda/lib/R/library/BH/include/boost/config/compiler/gcc.hpp:186:0: warning: \"BOOST_NO_CXX11_RVALUE_REFERENCES\" redefined\n",
      " #  define BOOST_NO_CXX11_RVALUE_REFERENCES\n",
      " ^\n",
      "<command-line>:0:0: note: this is the location of the previous definition\n",
      "\n",
      "SAMPLING FOR MODEL 'height ~ dnorm(mu, sigma)' NOW (CHAIN 1).\n",
      "\n",
      "Gradient evaluation took 0.000195 seconds\n",
      "1000 transitions using 10 leapfrog steps per transition would take 1.95 seconds.\n",
      "Adjust your expectations accordingly!\n",
      "\n",
      "\n",
      "Iteration:    1 / 2000 [  0%]  (Warmup)\n",
      "Iteration:  200 / 2000 [ 10%]  (Warmup)\n",
      "Iteration:  400 / 2000 [ 20%]  (Warmup)\n",
      "Iteration:  600 / 2000 [ 30%]  (Warmup)\n",
      "Iteration:  800 / 2000 [ 40%]  (Warmup)\n",
      "Iteration: 1000 / 2000 [ 50%]  (Warmup)\n",
      "Iteration: 1001 / 2000 [ 50%]  (Sampling)\n",
      "Iteration: 1200 / 2000 [ 60%]  (Sampling)\n",
      "Iteration: 1400 / 2000 [ 70%]  (Sampling)\n",
      "Iteration: 1600 / 2000 [ 80%]  (Sampling)\n",
      "Iteration: 1800 / 2000 [ 90%]  (Sampling)\n",
      "Iteration: 2000 / 2000 [100%]  (Sampling)\n",
      "\n",
      " Elapsed Time: 1.31665 seconds (Warm-up)\n",
      "               0.926641 seconds (Sampling)\n",
      "               2.24329 seconds (Total)\n",
      "\n",
      "\n",
      "SAMPLING FOR MODEL 'height ~ dnorm(mu, sigma)' NOW (CHAIN 1).\n",
      "\n",
      "Gradient evaluation took 0.000179 seconds\n",
      "1000 transitions using 10 leapfrog steps per transition would take 1.79 seconds.\n",
      "Adjust your expectations accordingly!\n",
      "\n",
      "\n",
      "WARNING: No variance estimation is\n",
      "         performed for num_warmup < 20\n",
      "\n",
      "Iteration: 1 / 1 [100%]  (Sampling)\n",
      "\n",
      " Elapsed Time: 1e-06 seconds (Warm-up)\n",
      "               0.000515 seconds (Sampling)\n",
      "               0.000516 seconds (Total)\n",
      "\n"
     ]
    },
    {
     "name": "stderr",
     "output_type": "stream",
     "text": [
      "Warning message:\n",
      "“There were 1 divergent transitions after warmup. Increasing adapt_delta above 0.8 may help. See\n",
      "http://mc-stan.org/misc/warnings.html#divergent-transitions-after-warmup”Warning message:\n",
      "“Examine the pairs() plot to diagnose sampling problems\n",
      "”Computing WAIC\n",
      "Constructing posterior predictions\n"
     ]
    },
    {
     "name": "stdout",
     "output_type": "stream",
     "text": [
      "[ 100 / 1000 ]\r",
      "[ 200 / 1000 ]\r",
      "[ 300 / 1000 ]\r",
      "[ 400 / 1000 ]\r",
      "[ 500 / 1000 ]\r",
      "[ 600 / 1000 ]\r",
      "[ 700 / 1000 ]\r",
      "[ 800 / 1000 ]\r",
      "[ 900 / 1000 ]\r",
      "[ 1000 / 1000 ]\r\n"
     ]
    },
    {
     "data": {
      "image/png": "[encoded data removed]",
      "text/plain": [
       "plot without title"
      ]
     },
     "metadata": {},
     "output_type": "display_data",
     "source": "R display func"
    }
   ],
   "source": [
    "d3 <- d[d$age < 18,]\n",
    "\n",
    "d3$weight.c <- d3$weight - mean(d3$weight)\n",
    "m4H2 <- map(alist(\n",
    "  height ~ dnorm(mu, sigma),\n",
    "  mu <- a + b*weight.c,\n",
    "  a ~ dnorm(150,100),\n",
    "  b ~ dnorm(0,10),\n",
    "  sigma ~ dunif(0,50)\n",
    "), data = d3)\n",
    "\n",
    "plot(height ~ weight.c, data = d3)\n",
    "abline(a = coef(m4H2)[\"a\"], b = coef(m4H2)[\"b\"])"
   ]
  },
  {
   "cell_type": "markdown",
   "metadata": {},
   "source": [
    "## 4H3"
   ]
  },
  {
   "cell_type": "code",
   "execution_count": 20,
   "metadata": {},
   "outputs": [
    {
     "name": "stdout",
     "output_type": "stream",
     "text": [
      "In file included from /opt/conda/lib/R/library/BH/include/boost/config.hpp:39:0,\n",
      "                 from /opt/conda/lib/R/library/BH/include/boost/math/tools/config.hpp:13,\n",
      "                 from /opt/conda/lib/R/library/StanHeaders/include/stan/math/rev/core/var.hpp:7,\n",
      "                 from /opt/conda/lib/R/library/StanHeaders/include/stan/math/rev/core/gevv_vvv_vari.hpp:5,\n",
      "                 from /opt/conda/lib/R/library/StanHeaders/include/stan/math/rev/core.hpp:12,\n",
      "                 from /opt/conda/lib/R/library/StanHeaders/include/stan/math/rev/mat.hpp:4,\n",
      "                 from /opt/conda/lib/R/library/StanHeaders/include/stan/math.hpp:4,\n",
      "                 from /opt/conda/lib/R/library/StanHeaders/include/src/stan/model/model_header.hpp:4,\n",
      "                 from file186165158a.cpp:8:\n",
      "/opt/conda/lib/R/library/BH/include/boost/config/compiler/gcc.hpp:186:0: warning: \"BOOST_NO_CXX11_RVALUE_REFERENCES\" redefined\n",
      " #  define BOOST_NO_CXX11_RVALUE_REFERENCES\n",
      " ^\n",
      "<command-line>:0:0: note: this is the location of the previous definition\n",
      "\n",
      "SAMPLING FOR MODEL 'height ~ dnorm(mu, sigma)' NOW (CHAIN 1).\n",
      "\n",
      "Gradient evaluation took 0.000538 seconds\n",
      "1000 transitions using 10 leapfrog steps per transition would take 5.38 seconds.\n",
      "Adjust your expectations accordingly!\n",
      "\n",
      "\n",
      "Iteration:    1 / 2000 [  0%]  (Warmup)\n",
      "Iteration:  200 / 2000 [ 10%]  (Warmup)\n",
      "Iteration:  400 / 2000 [ 20%]  (Warmup)\n",
      "Iteration:  600 / 2000 [ 30%]  (Warmup)\n",
      "Iteration:  800 / 2000 [ 40%]  (Warmup)\n",
      "Iteration: 1000 / 2000 [ 50%]  (Warmup)\n",
      "Iteration: 1001 / 2000 [ 50%]  (Sampling)\n",
      "Iteration: 1200 / 2000 [ 60%]  (Sampling)\n",
      "Iteration: 1400 / 2000 [ 70%]  (Sampling)\n",
      "Iteration: 1600 / 2000 [ 80%]  (Sampling)\n",
      "Iteration: 1800 / 2000 [ 90%]  (Sampling)\n",
      "Iteration: 2000 / 2000 [100%]  (Sampling)\n",
      "\n",
      " Elapsed Time: 11.6511 seconds (Warm-up)\n",
      "               13.7518 seconds (Sampling)\n",
      "               25.4029 seconds (Total)\n",
      "\n",
      "\n",
      "SAMPLING FOR MODEL 'height ~ dnorm(mu, sigma)' NOW (CHAIN 1).\n",
      "\n",
      "Gradient evaluation took 0.000474 seconds\n",
      "1000 transitions using 10 leapfrog steps per transition would take 4.74 seconds.\n",
      "Adjust your expectations accordingly!\n",
      "\n",
      "\n",
      "WARNING: No variance estimation is\n",
      "         performed for num_warmup < 20\n",
      "\n",
      "Iteration: 1 / 1 [100%]  (Sampling)\n",
      "\n",
      " Elapsed Time: 1e-06 seconds (Warm-up)\n",
      "               0.001327 seconds (Sampling)\n",
      "               0.001328 seconds (Total)\n",
      "\n"
     ]
    },
    {
     "name": "stderr",
     "output_type": "stream",
     "text": [
      "Warning message:\n",
      "“There were 1 divergent transitions after warmup. Increasing adapt_delta above 0.8 may help. See\n",
      "http://mc-stan.org/misc/warnings.html#divergent-transitions-after-warmup”Warning message:\n",
      "“Examine the pairs() plot to diagnose sampling problems\n",
      "”Computing WAIC\n",
      "Constructing posterior predictions\n"
     ]
    },
    {
     "name": "stdout",
     "output_type": "stream",
     "text": [
      "[ 100 / 1000 ]\r",
      "[ 200 / 1000 ]\r",
      "[ 300 / 1000 ]\r",
      "[ 400 / 1000 ]\r",
      "[ 500 / 1000 ]\r",
      "[ 600 / 1000 ]\r",
      "[ 700 / 1000 ]\r",
      "[ 800 / 1000 ]\r",
      "[ 900 / 1000 ]\r",
      "[ 1000 / 1000 ]\r\n"
     ]
    }
   ],
   "source": [
    "m4H3 <- map2stan(alist(\n",
    "  height ~ dnorm(mu, sigma),\n",
    "  mu <- a + b* log(weight),\n",
    "  a ~ dnorm(178,100),\n",
    "  b ~ dnorm(0,100),\n",
    "  sigma ~ dunif(0,50)\n",
    "), data = d)\n"
   ]
  },
  {
   "cell_type": "code",
   "execution_count": null,
   "metadata": {},
   "outputs": [],
   "source": [
    "weights.seq <- seq(from = 1, to = 70, by = 1)\n",
    "\n",
    "mu <- link(m4H3, data = data.frame(weight = weights.seq))\n",
    "mu.mean <- apply(mu, 2, mean)\n",
    "mu.HPDI <- apply(mu, 2, HPDI, prob = 0.89)\n",
    "mu.mean"
   ]
  },
  {
   "cell_type": "code",
   "execution_count": null,
   "metadata": {},
   "outputs": [],
   "source": [
    "m4H3"
   ]
  },
  {
   "cell_type": "code",
   "execution_count": null,
   "metadata": {},
   "outputs": [],
   "source": [
    "plot(height ~ weight, data = d, col = col.alpha(rangi2, 0.4))\n",
    "lines(weights.seq, mu.mean)\n",
    "shade(mu.HPDI, weights.seq)"
   ]
  },
  {
   "cell_type": "code",
   "execution_count": 19,
   "metadata": {},
   "outputs": [
    {
     "name": "stdout",
     "output_type": "stream",
     "text": [
      "data{\n",
      "    int<lower=1> N;\n",
      "    real height[N];\n",
      "    real weight[N];\n",
      "}\n",
      "parameters{\n",
      "    real a;\n",
      "    real b;\n",
      "    real<lower=0,upper=50> sigma;\n",
      "}\n",
      "model{\n",
      "    vector[N] mu;\n",
      "    // sigma ~ uniform( 0 , 50 );\n",
      "    b ~ normal( 0 , 100 );\n",
      "    a ~ normal( 178 , 100 );\n",
      "    for ( i in 1:N ) {\n",
      "        mu[i] = a + b * log(weight[i]);\n",
      "    }\n",
      "    height ~ normal( mu , sigma );\n",
      "}\n",
      "generated quantities{\n",
      "    vector[N] mu;\n",
      "    real dev;\n",
      "    dev = 0;\n",
      "    for ( i in 1:N ) {\n",
      "        mu[i] = a + b * log(weight[i]);\n",
      "    }\n",
      "    dev = dev + (-2)*normal_lpdf( height | mu , sigma );\n",
      "}\n"
     ]
    }
   ],
   "source": [
    "stancode(m4H3)"
   ]
  },
  {
   "cell_type": "code",
   "execution_count": 21,
   "metadata": {},
   "outputs": [
    {
     "name": "stdout",
     "output_type": "stream",
     "text": [
      "data{\n",
      "    int<lower=1> N;\n",
      "    real height[N];\n",
      "    real weight[N];\n",
      "}\n",
      "parameters{\n",
      "    real a;\n",
      "    real b;\n",
      "    real<lower=0,upper=50> sigma;\n",
      "}\n",
      "model{\n",
      "    vector[N] mu;\n",
      "    // sigma ~ uniform( 0 , 50 );\n",
      "    b ~ normal( 0 , 100 );\n",
      "    a ~ normal( 178 , 100 );\n",
      "    for ( i in 1:N ) {\n",
      "        mu[i] = a + b * log(weight[i]);\n",
      "    }\n",
      "    height ~ normal( mu , sigma );\n",
      "}\n",
      "generated quantities{\n",
      "    vector[N] mu;\n",
      "    real dev;\n",
      "    dev = 0;\n",
      "    for ( i in 1:N ) {\n",
      "        mu[i] = a + b * log(weight[i]);\n",
      "    }\n",
      "    dev = dev + (-2)*normal_lpdf( height | mu , sigma );\n",
      "}\n"
     ]
    }
   ],
   "source": [
    "stancode(m4H3)"
   ]
  },
  {
   "cell_type": "code",
   "execution_count": null,
   "metadata": {},
   "outputs": [],
   "source": []
  },
  {
   "cell_type": "code",
   "execution_count": null,
   "metadata": {},
   "outputs": [],
   "source": []
  },
  {
   "cell_type": "code",
   "execution_count": null,
   "metadata": {},
   "outputs": [],
   "source": []
  },
  {
   "cell_type": "markdown",
   "metadata": {},
   "source": []
  }
 ],
 "metadata": {
  "kernelspec": {
   "display_name": "R",
   "language": "R",
   "name": "ir"
  },
  "language_info": {
   "codemirror_mode": "r",
   "file_extension": ".r",
   "mimetype": "text/x-r-source",
   "name": "R",
   "pygments_lexer": "r",
   "version": "3.3.2"
  }
 },
 "nbformat": 4,
 "nbformat_minor": 2
}
