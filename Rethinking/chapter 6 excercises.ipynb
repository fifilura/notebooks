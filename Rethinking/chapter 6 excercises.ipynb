{
 "cells": [
  {
   "cell_type": "markdown",
   "metadata": {},
   "source": [
    "\n",
    "6E1\n",
    "State three motivating criteria that define information entropy. Try to express each in your own words."
   ]
  },
  {
   "cell_type": "code",
   "execution_count": null,
   "metadata": {},
   "outputs": [],
   "source": []
  },
  {
   "cell_type": "markdown",
   "metadata": {},
   "source": [
    "6E2\n",
    "Suppose a coin is weighted such that, when it is tossed and lands on a table, it comes up with heads 70% of the time. What is the entropy of this coin?"
   ]
  },
  {
   "cell_type": "code",
   "execution_count": null,
   "metadata": {},
   "outputs": [],
   "source": []
  },
  {
   "cell_type": "markdown",
   "metadata": {},
   "source": [
    "6E3\n",
    "Suppose that a four sided die i loaded such that, when tossed onto a table, it shows \"1\" 20% of the time, \"2\" 25% of the time, \"3\" 25% of the time, \"4\" 30% of the time. What is the entropy of this die?\n"
   ]
  },
  {
   "cell_type": "code",
   "execution_count": null,
   "metadata": {},
   "outputs": [],
   "source": []
  },
  {
   "cell_type": "markdown",
   "metadata": {},
   "source": [
    "6E4"
   ]
  },
  {
   "cell_type": "code",
   "execution_count": null,
   "metadata": {},
   "outputs": [],
   "source": []
  },
  {
   "cell_type": "markdown",
   "metadata": {},
   "source": [
    "6M1\n",
    "AIC:\n",
    "\n",
    "DIC:\n",
    "\n",
    "WAIC:\n"
   ]
  },
  {
   "cell_type": "code",
   "execution_count": null,
   "metadata": {},
   "outputs": [],
   "source": []
  },
  {
   "cell_type": "markdown",
   "metadata": {},
   "source": [
    "6M2\n",
    "Explain the difference between model selection and model averaging. What information is lost under model selection? What information is lost under model averaging?\n"
   ]
  },
  {
   "cell_type": "code",
   "execution_count": null,
   "metadata": {},
   "outputs": [],
   "source": []
  },
  {
   "cell_type": "markdown",
   "metadata": {},
   "source": [
    "6M3\n",
    "\n",
    "When comparing models with an information criterion, why must all models be fit to exactly the same observations? What would happen to the information criterion values, if the models were fit to different numbers of observations? Perform some experiments if you are not sure.\n"
   ]
  },
  {
   "cell_type": "code",
   "execution_count": null,
   "metadata": {},
   "outputs": [],
   "source": []
  },
  {
   "cell_type": "markdown",
   "metadata": {},
   "source": [
    "6M4\n",
    "What happens to the effective number of parameters, as measured by DIC or WAIC, as a prior becomes more concentrated? Why? Perform some experiments, if you are not sure.\n"
   ]
  },
  {
   "cell_type": "code",
   "execution_count": null,
   "metadata": {},
   "outputs": [],
   "source": []
  },
  {
   "cell_type": "markdown",
   "metadata": {},
   "source": [
    "6M5 Provide an informal explanation of why informative priors reduce overfitting.\n"
   ]
  },
  {
   "cell_type": "code",
   "execution_count": null,
   "metadata": {},
   "outputs": [],
   "source": []
  },
  {
   "cell_type": "markdown",
   "metadata": {},
   "source": [
    "6M6\n",
    "Provide and information explanation of why overly informative priors result in overfitting.\n"
   ]
  },
  {
   "cell_type": "code",
   "execution_count": null,
   "metadata": {},
   "outputs": [],
   "source": []
  },
  {
   "cell_type": "markdown",
   "metadata": {},
   "source": [
    "6H1"
   ]
  },
  {
   "cell_type": "code",
   "execution_count": 1,
   "metadata": {},
   "outputs": [
    {
     "name": "stderr",
     "output_type": "stream",
     "text": [
      "Loading required package: rstan\n",
      "Loading required package: ggplot2\n",
      "Loading required package: StanHeaders\n",
      "rstan (Version 2.16.2, packaged: 2017-07-03 09:24:58 UTC, GitRev: 2e1f913d3ca3)\n",
      "For execution on a local, multicore CPU with excess RAM we recommend calling\n",
      "rstan_options(auto_write = TRUE)\n",
      "options(mc.cores = parallel::detectCores())\n",
      "Loading required package: parallel\n",
      "rethinking (Version 1.59)\n"
     ]
    }
   ],
   "source": [
    "library(rethinking)\n",
    "data(Howell1)\n",
    "d <- Howell1\n",
    "d$age <- (d$age - mean(d$age))/ sd(d$age)\n",
    "d$age2 <- d$age ** 2\n",
    "d$age3 <- d$age ** 3\n",
    "d$age4 <- d$age ** 4\n",
    "d$age5 <- d$age ** 5\n",
    "d$age6 <- d$age ** 6\n",
    "set.seed(1000)\n",
    "i <- sample(1:nrow(d), size = nrow(d) / 2)\n",
    "d1 <- d[i,]\n",
    "d2 <- d[-i,]"
   ]
  },
  {
   "cell_type": "code",
   "execution_count": 2,
   "metadata": {},
   "outputs": [],
   "source": [
    "m6H1.1 <- map(\n",
    "  alist (\n",
    "    height ~ dnorm(mu, sigma),\n",
    "    mu <- a + b1*age ,\n",
    "    a ~ dnorm(0,100),\n",
    "    b1 ~ dnorm(0,100),\n",
    "    sigma ~ dunif(0,50)\n",
    "  ),\n",
    "  data = d1\n",
    ")"
   ]
  },
  {
   "cell_type": "code",
   "execution_count": 4,
   "metadata": {},
   "outputs": [],
   "source": [
    "m6H1.2 <- map(\n",
    "  alist (\n",
    "    height ~ dnorm(mu, sigma),\n",
    "    mu <- a + b1*age + b2*age^2 ,\n",
    "    a ~ dnorm(0,100),\n",
    "    b1 ~ dnorm(0,100),\n",
    "    b2 ~ dnorm(0,100),\n",
    "    sigma ~ dunif(0,50)\n",
    "  ),\n",
    "  data = d1\n",
    ")"
   ]
  },
  {
   "cell_type": "code",
   "execution_count": 5,
   "metadata": {},
   "outputs": [],
   "source": [
    "m6H1.3 <- map(\n",
    "  alist (\n",
    "    height ~ dnorm(mu, sigma),\n",
    "    mu <- a + b1*age + b2*age^2 + b3*age^3 ,\n",
    "    a ~ dnorm(0,100),\n",
    "    b1 ~ dnorm(0,100),\n",
    "    b2 ~ dnorm(0,100),\n",
    "    b3 ~ dnorm(0,100),\n",
    "    sigma ~ dunif(0,50)\n",
    "  ),\n",
    "  data = d1\n",
    ")"
   ]
  },
  {
   "cell_type": "code",
   "execution_count": 6,
   "metadata": {},
   "outputs": [],
   "source": [
    "m6H1.4 <- map(\n",
    "  alist (\n",
    "    height ~ dnorm(mu, sigma),\n",
    "    mu <- a + b1*age + b2*age^2 + b3*age^3 + b4*age^4,\n",
    "    a ~ dnorm(0,100),\n",
    "    b1 ~ dnorm(0,100),\n",
    "    b2 ~ dnorm(0,100),\n",
    "    b3 ~ dnorm(0,100),\n",
    "    b4 ~ dnorm(0,100),\n",
    "    sigma ~ dunif(0,50)\n",
    "  ),\n",
    "  data = d1\n",
    ")"
   ]
  },
  {
   "cell_type": "code",
   "execution_count": 7,
   "metadata": {},
   "outputs": [],
   "source": [
    "m6H1.5 <- map(\n",
    "  alist (\n",
    "    height ~ dnorm(mu, sigma),\n",
    "    mu <- a + b1*age + b2*age^2 + b3*age^3 + b4*age^4 + b5*age^5,\n",
    "    a ~ dnorm(0,100),\n",
    "    b1 ~ dnorm(0,100),\n",
    "    b2 ~ dnorm(0,100),\n",
    "    b3 ~ dnorm(0,100),\n",
    "    b4 ~ dnorm(0,100),\n",
    "    b5 ~ dnorm(0,100),\n",
    "    sigma ~ dunif(0,50)\n",
    "  ),\n",
    "  data = d1\n",
    ")"
   ]
  },
  {
   "cell_type": "code",
   "execution_count": 8,
   "metadata": {},
   "outputs": [],
   "source": [
    "m6H1.6 <- map(\n",
    "  alist (\n",
    "    height ~ dnorm(mu, sigma),\n",
    "    mu <- a + b1*age + b2*age2 + b3*age3 + b4*age4 + b5*age5 + b6*age6,\n",
    "    a ~ dnorm(0, 100),\n",
    "    b1 ~ dnorm(0,100),\n",
    "    b2 ~ dnorm(0,100),\n",
    "    b3 ~ dnorm(0,100),\n",
    "    b4 ~ dnorm(0,100),\n",
    "    b5 ~ dnorm(0,100),\n",
    "    b6 ~ dnorm(0,100),\n",
    "    sigma ~ dunif(0,50)\n",
    "  ),\n",
    "  data = d1\n",
    ")"
   ]
  },
  {
   "cell_type": "code",
   "execution_count": 17,
   "metadata": {},
   "outputs": [
    {
     "data": {
      "image/png": "[encoded data removed]",
      "text/plain": [
       "plot without title"
      ]
     },
     "metadata": {},
     "output_type": "display_data"
    }
   ],
   "source": [
    "plot(precis(m6H1.1))"
   ]
  },
  {
   "cell_type": "code",
   "execution_count": 18,
   "metadata": {},
   "outputs": [
    {
     "data": {
      "image/png": "[encoded data removed]",
      "text/plain": [
       "plot without title"
      ]
     },
     "metadata": {},
     "output_type": "display_data"
    }
   ],
   "source": [
    "plot(precis(m6H1.6))"
   ]
  },
  {
   "cell_type": "code",
   "execution_count": 19,
   "metadata": {},
   "outputs": [
    {
     "name": "stderr",
     "output_type": "stream",
     "text": [
      "Constructing posterior predictions\n"
     ]
    },
    {
     "name": "stdout",
     "output_type": "stream",
     "text": [
      "[ 100 / 1000 ]\r",
      "[ 200 / 1000 ]\r",
      "[ 300 / 1000 ]\r",
      "[ 400 / 1000 ]\r",
      "[ 500 / 1000 ]\r",
      "[ 600 / 1000 ]\r",
      "[ 700 / 1000 ]\r",
      "[ 800 / 1000 ]\r",
      "[ 900 / 1000 ]\r",
      "[ 1000 / 1000 ]\r\n"
     ]
    },
    {
     "data": {
      "text/html": [
       "2395.57032204904"
      ],
      "text/latex": [
       "2395.57032204904"
      ],
      "text/markdown": [
       "2395.57032204904"
      ],
      "text/plain": [
       "[1] 2395.57\n",
       "attr(,\"lppd\")\n",
       "[1] -1194.27\n",
       "attr(,\"pWAIC\")\n",
       "[1] 3.51527\n",
       "attr(,\"se\")\n",
       "[1] 22.88113"
      ]
     },
     "metadata": {},
     "output_type": "display_data"
    }
   ],
   "source": [
    "WAIC(m6H1.1)"
   ]
  },
  {
   "cell_type": "code",
   "execution_count": 20,
   "metadata": {},
   "outputs": [
    {
     "name": "stderr",
     "output_type": "stream",
     "text": [
      "Constructing posterior predictions\n"
     ]
    },
    {
     "name": "stdout",
     "output_type": "stream",
     "text": [
      "[ 100 / 1000 ]\r",
      "[ 200 / 1000 ]\r",
      "[ 300 / 1000 ]\r",
      "[ 400 / 1000 ]\r",
      "[ 500 / 1000 ]\r",
      "[ 600 / 1000 ]\r",
      "[ 700 / 1000 ]\r",
      "[ 800 / 1000 ]\r",
      "[ 900 / 1000 ]\r",
      "[ 1000 / 1000 ]\r\n"
     ]
    },
    {
     "data": {
      "text/html": [
       "2150.02637350343"
      ],
      "text/latex": [
       "2150.02637350343"
      ],
      "text/markdown": [
       "2150.02637350343"
      ],
      "text/plain": [
       "[1] 2150.026\n",
       "attr(,\"lppd\")\n",
       "[1] -1069.807\n",
       "attr(,\"pWAIC\")\n",
       "[1] 5.206112\n",
       "attr(,\"se\")\n",
       "[1] 22.57122"
      ]
     },
     "metadata": {},
     "output_type": "display_data"
    }
   ],
   "source": [
    "WAIC(m6H1.2)"
   ]
  },
  {
   "cell_type": "code",
   "execution_count": 13,
   "metadata": {},
   "outputs": [
    {
     "data": {
      "text/plain": [
       "         WAIC pWAIC dWAIC weight    SE   dSE\n",
       "m6H1.4 1926.5   5.9   0.0   0.48 25.56    NA\n",
       "m6H1.5 1927.5   6.4   1.0   0.30 25.39  1.15\n",
       "m6H1.6 1928.1   7.5   1.6   0.22 24.94  2.98\n",
       "m6H1.3 1953.1   5.8  26.6   0.00 24.48 11.02\n",
       "m6H1.2 2150.1   5.3 223.6   0.00 22.65 26.81\n",
       "m6H1.1 2395.5   3.4 468.9   0.00 22.97 31.18"
      ]
     },
     "metadata": {},
     "output_type": "display_data"
    }
   ],
   "source": [
    "(models <- compare(m6H1.1,m6H1.2,m6H1.3,m6H1.4,m6H1.5,m6H1.6))"
   ]
  },
  {
   "cell_type": "code",
   "execution_count": 14,
   "metadata": {},
   "outputs": [
    {
     "data": {
      "image/png": "[encoded data removed]",
      "text/plain": [
       "plot without title"
      ]
     },
     "metadata": {},
     "output_type": "display_data"
    }
   ],
   "source": [
    "plot(models)"
   ]
  },
  {
   "cell_type": "code",
   "execution_count": 21,
   "metadata": {},
   "outputs": [
    {
     "data": {
      "text/html": [
       "<table>\n",
       "<thead><tr><th></th><th scope=col>height</th><th scope=col>weight</th><th scope=col>age</th><th scope=col>male</th><th scope=col>age2</th><th scope=col>age3</th><th scope=col>age4</th><th scope=col>age5</th><th scope=col>age6</th></tr></thead>\n",
       "<tbody>\n",
       "\t<tr><th scope=row>179</th><td>161.925      </td><td>56.95415     </td><td> 0.4509402   </td><td>1            </td><td>0.20334709   </td><td> 0.091697386 </td><td>0.041350041  </td><td> 1.864640e-02</td><td>8.408411e-03 </td></tr>\n",
       "\t<tr><th scope=row>413</th><td>148.590      </td><td>37.56309     </td><td> 0.3208002   </td><td>0            </td><td>0.10291279   </td><td> 0.033014447 </td><td>0.010591043  </td><td> 3.397609e-03</td><td>1.089954e-03 </td></tr>\n",
       "\t<tr><th scope=row>62</th><td>164.465      </td><td>45.89784     </td><td> 0.9956002   </td><td>1            </td><td>0.99121981   </td><td> 0.986858669 </td><td>0.982516715  </td><td> 9.781939e-01</td><td>9.738900e-01 </td></tr>\n",
       "\t<tr><th scope=row>374</th><td>142.240      </td><td>31.66639     </td><td> 0.3208002   </td><td>0            </td><td>0.10291279   </td><td> 0.033014447 </td><td>0.010591043  </td><td> 3.397609e-03</td><td>1.089954e-03 </td></tr>\n",
       "\t<tr><th scope=row>279</th><td>149.225      </td><td>44.08347     </td><td> 1.2848002   </td><td>0            </td><td>1.65071161   </td><td> 2.120834649 </td><td>2.724848831  </td><td> 3.500886e+00</td><td>4.497940e+00 </td></tr>\n",
       "\t<tr><th scope=row>37</th><td>142.875      </td><td>38.83881     </td><td>-0.1129998   </td><td>0            </td><td>0.01276895   </td><td>-0.001442888 </td><td>0.000163046  </td><td>-1.842416e-05</td><td>2.081925e-06 </td></tr>\n",
       "</tbody>\n",
       "</table>\n"
      ],
      "text/latex": [
       "\\begin{tabular}{r|lllllllll}\n",
       "  & height & weight & age & male & age2 & age3 & age4 & age5 & age6\\\\\n",
       "\\hline\n",
       "\t179 & 161.925       & 56.95415      &  0.4509402    & 1             & 0.20334709    &  0.091697386  & 0.041350041   &  1.864640e-02 & 8.408411e-03 \\\\\n",
       "\t413 & 148.590       & 37.56309      &  0.3208002    & 0             & 0.10291279    &  0.033014447  & 0.010591043   &  3.397609e-03 & 1.089954e-03 \\\\\n",
       "\t62 & 164.465       & 45.89784      &  0.9956002    & 1             & 0.99121981    &  0.986858669  & 0.982516715   &  9.781939e-01 & 9.738900e-01 \\\\\n",
       "\t374 & 142.240       & 31.66639      &  0.3208002    & 0             & 0.10291279    &  0.033014447  & 0.010591043   &  3.397609e-03 & 1.089954e-03 \\\\\n",
       "\t279 & 149.225       & 44.08347      &  1.2848002    & 0             & 1.65071161    &  2.120834649  & 2.724848831   &  3.500886e+00 & 4.497940e+00 \\\\\n",
       "\t37 & 142.875       & 38.83881      & -0.1129998    & 0             & 0.01276895    & -0.001442888  & 0.000163046   & -1.842416e-05 & 2.081925e-06 \\\\\n",
       "\\end{tabular}\n"
      ],
      "text/markdown": [
       "\n",
       "| <!--/--> | height | weight | age | male | age2 | age3 | age4 | age5 | age6 | \n",
       "|---|---|---|---|---|---|\n",
       "| 179 | 161.925       | 56.95415      |  0.4509402    | 1             | 0.20334709    |  0.091697386  | 0.041350041   |  1.864640e-02 | 8.408411e-03  | \n",
       "| 413 | 148.590       | 37.56309      |  0.3208002    | 0             | 0.10291279    |  0.033014447  | 0.010591043   |  3.397609e-03 | 1.089954e-03  | \n",
       "| 62 | 164.465       | 45.89784      |  0.9956002    | 1             | 0.99121981    |  0.986858669  | 0.982516715   |  9.781939e-01 | 9.738900e-01  | \n",
       "| 374 | 142.240       | 31.66639      |  0.3208002    | 0             | 0.10291279    |  0.033014447  | 0.010591043   |  3.397609e-03 | 1.089954e-03  | \n",
       "| 279 | 149.225       | 44.08347      |  1.2848002    | 0             | 1.65071161    |  2.120834649  | 2.724848831   |  3.500886e+00 | 4.497940e+00  | \n",
       "| 37 | 142.875       | 38.83881      | -0.1129998    | 0             | 0.01276895    | -0.001442888  | 0.000163046   | -1.842416e-05 | 2.081925e-06  | \n",
       "\n",
       "\n"
      ],
      "text/plain": [
       "    height  weight   age        male age2       age3         age4       \n",
       "179 161.925 56.95415  0.4509402 1    0.20334709  0.091697386 0.041350041\n",
       "413 148.590 37.56309  0.3208002 0    0.10291279  0.033014447 0.010591043\n",
       "62  164.465 45.89784  0.9956002 1    0.99121981  0.986858669 0.982516715\n",
       "374 142.240 31.66639  0.3208002 0    0.10291279  0.033014447 0.010591043\n",
       "279 149.225 44.08347  1.2848002 0    1.65071161  2.120834649 2.724848831\n",
       "37  142.875 38.83881 -0.1129998 0    0.01276895 -0.001442888 0.000163046\n",
       "    age5          age6        \n",
       "179  1.864640e-02 8.408411e-03\n",
       "413  3.397609e-03 1.089954e-03\n",
       "62   9.781939e-01 9.738900e-01\n",
       "374  3.397609e-03 1.089954e-03\n",
       "279  3.500886e+00 4.497940e+00\n",
       "37  -1.842416e-05 2.081925e-06"
      ]
     },
     "metadata": {},
     "output_type": "display_data"
    }
   ],
   "source": [
    "head(d1)"
   ]
  },
  {
   "cell_type": "code",
   "execution_count": null,
   "metadata": {},
   "outputs": [],
   "source": []
  },
  {
   "cell_type": "code",
   "execution_count": null,
   "metadata": {},
   "outputs": [],
   "source": []
  },
  {
   "cell_type": "code",
   "execution_count": null,
   "metadata": {},
   "outputs": [],
   "source": []
  },
  {
   "cell_type": "code",
   "execution_count": null,
   "metadata": {},
   "outputs": [],
   "source": []
  },
  {
   "cell_type": "code",
   "execution_count": null,
   "metadata": {},
   "outputs": [],
   "source": []
  },
  {
   "cell_type": "code",
   "execution_count": null,
   "metadata": {},
   "outputs": [],
   "source": []
  },
  {
   "cell_type": "code",
   "execution_count": null,
   "metadata": {},
   "outputs": [],
   "source": []
  },
  {
   "cell_type": "code",
   "execution_count": null,
   "metadata": {},
   "outputs": [],
   "source": []
  }
 ],
 "metadata": {
  "kernelspec": {
   "display_name": "R",
   "language": "R",
   "name": "ir"
  },
  "language_info": {
   "codemirror_mode": "r",
   "file_extension": ".r",
   "mimetype": "text/x-r-source",
   "name": "R",
   "pygments_lexer": "r",
   "version": "3.3.2"
  }
 },
 "nbformat": 4,
 "nbformat_minor": 2
}
