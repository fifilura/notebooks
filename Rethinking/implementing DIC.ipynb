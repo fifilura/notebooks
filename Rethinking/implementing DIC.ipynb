{
 "cells": [
  {
   "cell_type": "markdown",
   "metadata": {},
   "source": [
    "http://kylehardman.com/BlogPosts/View/6"
   ]
  },
  {
   "cell_type": "markdown",
   "metadata": {},
   "source": [
    "\n",
    "The Deviance Information Criterion (DIC) is a way of measuring model fit for Bayesian models. It is conceptually similar to AIC and BIC. Like AIC and BIC, lower values of DIC indicate a better model fit. I will describe how to calculate DIC in the case in which unknown parameters are estimated with a Gibbs sampler, which produces samples from the posterior distribution of the parameters. DIC can be calculated with these posterior chains and some other fairly accessible information.\n",
    "\n",
    "I have wanted to learn how to use DIC for some time, but every time I was interested, I would read the Wikipedia page on it, which I find incomprehensible, and give up. Recently, I came across a very coherent explanation of how to calculate DIC in [Bayesian Data Analysis, Third Edition](http://www.amazon.com/Bayesian-Analysis-Chapman-Statistical-Science/dp/1439840954/ref=sr_1_1?s=books&ie=UTF8&qid=1458857289&sr=1-1&keywords=bayesian+data+analysis) by Gelman, Carlin, Stern, Dunson, Vehtari, and Rubin. Along with formulas, I have added an example and a bunch of R code to make it all concrete.\n",
    "\n",
    "I am focused on a case in which the parameters are estimated with a Gibbs sampler, so four things are required to calculate DIC:\n",
    "\n",
    "1. The data, denoted $y$.\n",
    "2. A Bayesian model for the data with some parameter vector $\\theta$.\n",
    "3. Samples from the posterior distribution of the parameters of the model.\n",
    "4. The likelihood function, that gives the likelihood of the data given parameters, denoted $p(y|\\theta)$.\n",
    "\n",
    "I will define these things in the following sections and then show how to use them to calculate DIC.\n",
    "\n",
    "## Data\n",
    "\n",
    "I will illustrate how to calculate DIC with a simple example, where the data come from a normal distribution. To start with, I will sample the data, $y$, which are 50 realizations from a normal distribution with a mean of 40 and a standard deviation of 10.\n"
   ]
  },
  {
   "cell_type": "code",
   "execution_count": 1,
   "metadata": {},
   "outputs": [
    {
     "data": {
      "image/png": "[encoded data removed]",
      "text/plain": [
       "Plot with title “Histogram of y”"
      ]
     },
     "metadata": {},
     "output_type": "display_data"
    }
   ],
   "source": [
    "set.seed(123)\n",
    "y = rnorm(50, 40, 10)\n",
    "\n",
    "hist(y)"
   ]
  },
  {
   "cell_type": "markdown",
   "metadata": {},
   "source": [
    "\n",
    "## Bayesian Model\n",
    "\n",
    "Now I will specify a Bayesian model for this data. I will (correctly) assume that the data come from a normal distribution with unknown mean, $\\mu$, and variance, $\\sigma^2$.\n",
    "$$\n",
    "y_i \\sim Normal(\\mu, \\sigma^2)\n",
    "$$\n",
    "where the priors on $\\mu$ and $\\sigma^2$ are\n",
    "$$\n",
    "\\mu \\sim Normal(\\mu_0, \\sigma_0^2) \\\\\n",
    "\\sigma^2 \\sim Inverse~Gamma(a_0, b_0)\n",
    "$$\n",
    "With simple models of this kind, closed-form posterior distributions can sometimes be derived. However, I will instead do the more general procedure of sampling from the posterior distribution with a Gibbs sampler.\n",
    "\n",
    "## Posterior Samples\n",
    "\n",
    "At this point, with models and data available, I need to sample from the posterior distribution of the parameters. This will be done using a Gibbs sampler to sample from the full conditional distributions of the parameters, conditional on the other parameters of the model. It should be possible to calculate DIC regardless of the method used to sample from the posterior distribution: There is nothing special about my use of a Gibbs sampler. It is assumed that the reader has some background in Bayesian parameter estimation and that the following functions need no explanation beyond the code comments.\n"
   ]
  },
  {
   "cell_type": "code",
   "execution_count": 2,
   "metadata": {},
   "outputs": [],
   "source": [
    "\n",
    "#Sample a realization from the distribution of mu given\n",
    "#data (y), assumed known data variance (sigma2), prior mean (mu0), and prior variance (var0).\n",
    "post_mu = function(y, sigma2, mu0, var0) {\n",
    "\ta = length(y) / sigma2 + 1 / var0\n",
    "\tb = sum(y) / sigma2 + mu0 / var0\n",
    "\tb = b / a\n",
    "\t\n",
    "\trnorm(1, b, sqrt(1/a))\n",
    "}\n",
    "\n",
    "#Sample a realization from the distribution of sigma2 given\n",
    "#data (y), assumed known data mean (mu), prior shape (a0), and prior rate (b0).\n",
    "post_sigma2 = function(y, mu, a0, b0) {\n",
    "\tSSE = sum((y - mu)^2)\n",
    "\t\n",
    "\ta = a0 + length(y)/2\n",
    "\tb = b0 + SSE / 2\n",
    "\t\n",
    "\tr = rgamma(1, a, b)\n",
    "\t1/r\n",
    "}\n",
    "\n",
    "#Get a matrix of samples from the posterior distribution of mu and sigma2.\n",
    "#The first column of the matrix is for mu and the second column is for sigma2.\n",
    "#mu0 and var0 are priors on mu and a0 and b0 are priors on sigma2\n",
    "getPosteriorSamples = function(iterations, mu0, var0, a0, b0) {\n",
    "  \n",
    "  iterations = iterations + 1 #add space for starting values\n",
    "  mu = rep(0, iterations)\n",
    "  sigma2 = rep(0, iterations)\n",
    "  \n",
    "  #start values\n",
    "  mu[1] = 0\n",
    "  sigma2[1] = 20\n",
    "  \n",
    "  for (i in 2:iterations) {\n",
    "    mu[i] = post_mu(y, sigma2[i - 1], mu0, var0)\n",
    "  \n",
    "  \tsigma2[i] = post_sigma2(y, mu[i], a0, b0)\n",
    "  }\n",
    "    \n",
    "  m = cbind(mu, sigma2)\n",
    "  m[-1,] #strip off starting values\n",
    "}\n"
   ]
  },
  {
   "cell_type": "markdown",
   "metadata": {},
   "source": [
    "\n",
    "Using `getPosteriorSamples` with the data, $y$, and some relatively uninformative settings for the priors, we can obtain posterior chains for the parameters, which are stored in `theta_post`. "
   ]
  },
  {
   "cell_type": "code",
   "execution_count": 3,
   "metadata": {},
   "outputs": [
    {
     "data": {
      "text/html": [
       "<table>\n",
       "<thead><tr><th scope=col>mu</th><th scope=col>sigma2</th></tr></thead>\n",
       "<tbody>\n",
       "\t<tr><td>40.48808</td><td>85.89386</td></tr>\n",
       "\t<tr><td>41.88349</td><td>83.09866</td></tr>\n",
       "\t<tr><td>38.92590</td><td>97.38113</td></tr>\n",
       "\t<tr><td>41.08069</td><td>83.82432</td></tr>\n",
       "\t<tr><td>40.55588</td><td>79.24317</td></tr>\n",
       "</tbody>\n",
       "</table>\n"
      ],
      "text/latex": [
       "\\begin{tabular}{ll}\n",
       " mu & sigma2\\\\\n",
       "\\hline\n",
       "\t 40.48808 & 85.89386\\\\\n",
       "\t 41.88349 & 83.09866\\\\\n",
       "\t 38.92590 & 97.38113\\\\\n",
       "\t 41.08069 & 83.82432\\\\\n",
       "\t 40.55588 & 79.24317\\\\\n",
       "\\end{tabular}\n"
      ],
      "text/markdown": [
       "\n",
       "mu | sigma2 | \n",
       "|---|---|---|---|---|\n",
       "| 40.48808 | 85.89386 | \n",
       "| 41.88349 | 83.09866 | \n",
       "| 38.92590 | 97.38113 | \n",
       "| 41.08069 | 83.82432 | \n",
       "| 40.55588 | 79.24317 | \n",
       "\n",
       "\n"
      ],
      "text/plain": [
       "     mu       sigma2  \n",
       "[1,] 40.48808 85.89386\n",
       "[2,] 41.88349 83.09866\n",
       "[3,] 38.92590 97.38113\n",
       "[4,] 41.08069 83.82432\n",
       "[5,] 40.55588 79.24317"
      ]
     },
     "metadata": {},
     "output_type": "display_data"
    }
   ],
   "source": [
    "theta_post = getPosteriorSamples(iterations=10000, mu0=0, var0=1000, a0=0.1, b0=0.1)\n",
    "theta_post[1:5,]"
   ]
  },
  {
   "cell_type": "markdown",
   "metadata": {},
   "source": [
    "Each row of `theta_post` is one realization from the posterior distribution of $\\mu$ and $\\sigma^2$ and is from one iteration of the Gibbs sampler. We can see that the posterior means are quite similar to the sample statistics, which suggests that the Gibbs sampler is working reasonably well:"
   ]
  },
  {
   "cell_type": "code",
   "execution_count": 4,
   "metadata": {},
   "outputs": [
    {
     "data": {
      "text/html": [
       "<dl class=dl-horizontal>\n",
       "\t<dt>mu</dt>\n",
       "\t\t<dd>40.2515898132885</dd>\n",
       "\t<dt>sigma2</dt>\n",
       "\t\t<dd>88.9065423134475</dd>\n",
       "</dl>\n"
      ],
      "text/latex": [
       "\\begin{description*}\n",
       "\\item[mu] 40.2515898132885\n",
       "\\item[sigma2] 88.9065423134475\n",
       "\\end{description*}\n"
      ],
      "text/markdown": [
       "mu\n",
       ":   40.2515898132885sigma2\n",
       ":   88.9065423134475\n",
       "\n"
      ],
      "text/plain": [
       "      mu   sigma2 \n",
       "40.25159 88.90654 "
      ]
     },
     "metadata": {},
     "output_type": "display_data"
    },
    {
     "data": {
      "text/html": [
       "<ol class=list-inline>\n",
       "\t<li>40.3440354909857</li>\n",
       "\t<li>85.723522234378</li>\n",
       "</ol>\n"
      ],
      "text/latex": [
       "\\begin{enumerate*}\n",
       "\\item 40.3440354909857\n",
       "\\item 85.723522234378\n",
       "\\end{enumerate*}\n"
      ],
      "text/markdown": [
       "1. 40.3440354909857\n",
       "2. 85.723522234378\n",
       "\n",
       "\n"
      ],
      "text/plain": [
       "[1] 40.34404 85.72352"
      ]
     },
     "metadata": {},
     "output_type": "display_data"
    }
   ],
   "source": [
    "apply(theta_post, 2, mean) #Posterior means\n",
    "c(mean(y), var(y)) #Sample statistics"
   ]
  },
  {
   "cell_type": "markdown",
   "metadata": {},
   "source": [
    "\n",
    "## Likelihood Function\n",
    "\n",
    "The last thing needed to calculate DIC is the likelihood function. For the model I'm working with, the data follow a normal distribution. Thus, the likelihood function for the data, $y$, given a parameter vector $\\theta$ is given by\n",
    "$$\n",
    "p(y|\\theta) = p(y|\\mu, \\sigma^2) = \\prod_i \\frac{1}{\\sqrt{ 2 \\pi \\sigma^2 }} exp(\\frac{-(y_i - \\mu)^2}{2\\sigma^2})\n",
    "$$\n",
    "where $\\theta = (\\mu, \\sigma^2)$. When calculating DIC, the likelihood function is always logged, so I will just write a log likelihood function, $log~p(y|\\theta)$:"
   ]
  },
  {
   "cell_type": "code",
   "execution_count": 5,
   "metadata": {},
   "outputs": [],
   "source": [
    "logLikelihood = function(y, theta) {\n",
    "  #Get the individual parameters out of theta.\n",
    "  mu = theta[1]\n",
    "  sigma2 = theta[2]\n",
    "  \n",
    "  #sum of log likelihoods = log of product of likelihoods\n",
    "  sum( dnorm(y, mu, sqrt(sigma2), log=TRUE) )\n",
    "}"
   ]
  },
  {
   "cell_type": "markdown",
   "metadata": {},
   "source": [
    "This should look kind of familiar to people who have done maximum likelihood estimation.\n",
    "\n",
    "## Calculating DIC\n",
    "\n",
    "\n",
    "At this point, everything needed to calculate DIC is available. The equation for DIC is \n",
    "$$\n",
    "DIC = -2 * (L - P)\n",
    "$$\n",
    "where $L$ is the log likelihood of the data given the posterior means of the parameters ($\\hat{\\theta}$) given by\n",
    "$$\n",
    "L = log~p(y|\\hat{\\theta})\n",
    "$$\n",
    "$\\hat{\\theta}$ can be obtained by taking the mean of the posterior chains, e.g. `theta_hat = apply(theta_post, 2, mean)`.\n",
    "\n",
    "The other term in the DIC equation is $P$, which is an estimate of the effective number of parameters in the model and is given by\n",
    "$$\n",
    "P = 2 * [L - \\frac{1}{S} \\sum_{s=1}^{S} log~p(y|\\theta_s) ]\n",
    "$$\n",
    "\n",
    "where $S$ is the number of posterior samples and $\\theta_s$ is the parameter vector for the $s$th sample. $\\theta_s$ is just the $s$th row of `theta_post`. Thus, $P$ is twice the difference between $L$, which can be thought of as a kind of best-fit log likelihood, and the average log likelihood across all samples from the posterior distribution. \n",
    "\n",
    "Here is a function for calculating DIC given the data, `y`, the matrix of posterior chains, `theta_post`, and a function that calculates the log likelihood of the data given the parameter vector, `llFun`."
   ]
  },
  {
   "cell_type": "code",
   "execution_count": 6,
   "metadata": {},
   "outputs": [],
   "source": [
    "calculateDIC = function(y, theta_post, llFun) {\n",
    "  #Calculate L\n",
    "  theta_hat = apply(theta_post, 2, mean)\n",
    "  L = llFun(y, theta_hat)\n",
    "\n",
    "  #Calculate P\n",
    "  S = nrow(theta_post) #S = number of iterations\n",
    "  #Add up the log likelihoods of each iteration\n",
    "  llSum = 0\n",
    "  for (s in 1:S) {\n",
    "    theta_s = theta_post[s,]\n",
    "    llSum = llSum + llFun(y, theta_s)\n",
    "  }\n",
    "  P = 2 * (L - (1 / S * llSum))\n",
    "  \n",
    "  #Calculate DIC\n",
    "  DIC = -2 * (L - P)\n",
    "  \n",
    "  #Return the results\n",
    "  list(DIC=DIC, P=P, L=L)\n",
    "}"
   ]
  },
  {
   "cell_type": "markdown",
   "metadata": {},
   "source": [
    "\n",
    "## Results\n",
    "\n",
    "At this point, I have written all of the functions needed to calculate DIC and am ready to examine the results from the `calculateDIC` function: "
   ]
  },
  {
   "cell_type": "code",
   "execution_count": 7,
   "metadata": {},
   "outputs": [
    {
     "data": {
      "text/html": [
       "<dl>\n",
       "\t<dt>$DIC</dt>\n",
       "\t\t<dd>367.383765423385</dd>\n",
       "\t<dt>$P</dt>\n",
       "\t\t<dd>1.9300553253106</dd>\n",
       "\t<dt>$L</dt>\n",
       "\t\t<dd>-181.761827386382</dd>\n",
       "</dl>\n"
      ],
      "text/latex": [
       "\\begin{description}\n",
       "\\item[\\$DIC] 367.383765423385\n",
       "\\item[\\$P] 1.9300553253106\n",
       "\\item[\\$L] -181.761827386382\n",
       "\\end{description}\n"
      ],
      "text/markdown": [
       "$DIC\n",
       ":   367.383765423385\n",
       "$P\n",
       ":   1.9300553253106\n",
       "$L\n",
       ":   -181.761827386382\n",
       "\n",
       "\n"
      ],
      "text/plain": [
       "$DIC\n",
       "[1] 367.3838\n",
       "\n",
       "$P\n",
       "[1] 1.930055\n",
       "\n",
       "$L\n",
       "[1] -181.7618\n"
      ]
     },
     "metadata": {},
     "output_type": "display_data"
    }
   ],
   "source": [
    "calculateDIC(y, theta_post, llFun=logLikelihood)"
   ]
  },
  {
   "cell_type": "markdown",
   "metadata": {},
   "source": [
    "Remember that $P$ is supposed to be a measure of the effective number of parameters in the model. In the model, there were 2 parameters, $\\mu$ and $\\sigma^2$, so it appears that $P$ is pretty accurate in this case. DIC itself cannot be interpreted without another model to compare it to, so I will make a comparison model by changing the priors. \n",
    "\n",
    "Note that the prior mean that I have been using is $\\mu_0 = 0$, which is really wrong, given that the data are centered on 40. This has not been a problem, because the prior variance, $\\sigma_0^2$, was very large, making the prior on $\\mu$ uninformative. One comparison model can be constructed by having an informative prior on an incorrect $\\mu$ by setting $\\mu_0 = 0$ and $\\sigma^2_0 = 1$."
   ]
  },
  {
   "cell_type": "code",
   "execution_count": 8,
   "metadata": {},
   "outputs": [
    {
     "data": {
      "text/html": [
       "<dl class=dl-horizontal>\n",
       "\t<dt>mu</dt>\n",
       "\t\t<dd>1.223845040422</dd>\n",
       "\t<dt>sigma2</dt>\n",
       "\t\t<dd>1669.79107575119</dd>\n",
       "</dl>\n"
      ],
      "text/latex": [
       "\\begin{description*}\n",
       "\\item[mu] 1.223845040422\n",
       "\\item[sigma2] 1669.79107575119\n",
       "\\end{description*}\n"
      ],
      "text/markdown": [
       "mu\n",
       ":   1.223845040422sigma2\n",
       ":   1669.79107575119\n",
       "\n"
      ],
      "text/plain": [
       "         mu      sigma2 \n",
       "   1.223845 1669.791076 "
      ]
     },
     "metadata": {},
     "output_type": "display_data"
    }
   ],
   "source": [
    "theta_post_constrained = getPosteriorSamples(10000, mu0=0, var0=1, a0=0.1, b0=0.1)\n",
    "apply(theta_post_constrained, 2, mean)"
   ]
  },
  {
   "cell_type": "markdown",
   "metadata": {},
   "source": [
    "As can be seen, a result of making the prior on $\\mu$ more informative is that it makes the posterior mean for $\\mu$ quite wrong: It should be much higher. Thus, adding this prior constraint on $\\mu$ has dramatically changed how the model fits. Let's examine how this changes DIC and $P$:"
   ]
  },
  {
   "cell_type": "code",
   "execution_count": 9,
   "metadata": {},
   "outputs": [
    {
     "data": {
      "text/html": [
       "<dl>\n",
       "\t<dt>$DIC</dt>\n",
       "\t\t<dd>513.129163873353</dd>\n",
       "\t<dt>$P</dt>\n",
       "\t\t<dd>0.935646580227569</dd>\n",
       "\t<dt>$L</dt>\n",
       "\t\t<dd>-255.628935356449</dd>\n",
       "</dl>\n"
      ],
      "text/latex": [
       "\\begin{description}\n",
       "\\item[\\$DIC] 513.129163873353\n",
       "\\item[\\$P] 0.935646580227569\n",
       "\\item[\\$L] -255.628935356449\n",
       "\\end{description}\n"
      ],
      "text/markdown": [
       "$DIC\n",
       ":   513.129163873353\n",
       "$P\n",
       ":   0.935646580227569\n",
       "$L\n",
       ":   -255.628935356449\n",
       "\n",
       "\n"
      ],
      "text/plain": [
       "$DIC\n",
       "[1] 513.1292\n",
       "\n",
       "$P\n",
       "[1] 0.9356466\n",
       "\n",
       "$L\n",
       "[1] -255.6289\n"
      ]
     },
     "metadata": {},
     "output_type": "display_data"
    }
   ],
   "source": [
    "calculateDIC(y, theta_post_constrained, logLikelihood)"
   ]
  },
  {
   "cell_type": "markdown",
   "metadata": {},
   "source": [
    "With the informative prior on $\\mu$, $P$ is now close to 1, suggesting that the effective number of parameters has been reduced by constraining $\\mu$. In addition, you can see that DIC is much higher for this more constrained model. DIC is a measure of poorness of model fit, so a higher value indicates a worse fit. We would expect that the model with an informative and incorrect prior on $\\mu$ would fit worse than the model with an uninformative prior on $\\mu$, which is borne out by the observed DIC values.\n",
    "\n",
    "Finally, in these last two plots, I show what happens to DIC and $P$ as the prior variance is manipulated across a range of values. Strangely, $P$ actually becomes negative at one point. In general, $P$ becomes negative when the posterior means produce a worse model fit than the average fit of each sample from the posterior distribution. Gelman et al. suggest that $P$ may become negative when the posterior mean and mode differ. Note that although $P$ has unusual behavior when $\\sigma^2_0 = 9$, DIC behaves nicely."
   ]
  },
  {
   "cell_type": "code",
   "execution_count": 10,
   "metadata": {},
   "outputs": [
    {
     "data": {
      "image/png": "[encoded data removed]",
      "text/plain": [
       "plot without title"
      ]
     },
     "metadata": {},
     "output_type": "display_data"
    },
    {
     "data": {
      "image/png": "[encoded data removed]",
      "text/plain": [
       "plot without title"
      ]
     },
     "metadata": {},
     "output_type": "display_data"
    }
   ],
   "source": [
    "\n",
    "var0s = seq(1, 6, 0.5) - 2\n",
    "var0s = 3 ^ var0s\n",
    "\n",
    "Ps = DICs = var0s\n",
    "\n",
    "for (i in 1:length(var0s)) {\n",
    "\ttheta_post_constrained = getPosteriorSamples(10000, mu0=0, var0=var0s[i], a0=0.1, b0=0.1)\t\n",
    "\tres = calculateDIC(y, theta_post_constrained, logLikelihood)\n",
    "\tPs[i] = res$P\n",
    "\tDICs[i] = res$DIC\n",
    "}\n",
    "\n",
    "plot(DICs, axes=FALSE, type='l', xlab=bquote(sigma[0]^2), ylab=\"DIC\")\n",
    "box()\n",
    "axis(2)\n",
    "axis(1, at = 1:length(var0s), labels = round(var0s, 2))\n",
    "\n",
    "plot(Ps, axes=FALSE, type='l', xlab=bquote(sigma[0]^2), ylab=\"P\")\n",
    "box()\n",
    "axis(2)\n",
    "axis(1, at = 1:length(var0s), labels = round(var0s, 2))\n"
   ]
  },
  {
   "cell_type": "markdown",
   "metadata": {},
   "source": [
    "\n",
    "\n",
    "## Conclusion\n",
    "\n",
    "DIC is a measure of model fit that can be applied to Bayesian models and that works when the parameter estimation is done using numerical techniques, such as Gibbs samplers. The calculations are not particularly difficult and the only thing needed beyond the standard output of a Gibbs sampler is the log likelihood function, which is usually straightforward to write and may even have already been programmed if a procedure like Metropolis-Hastings was used in the parameter estimation.\n"
   ]
  },
  {
   "cell_type": "code",
   "execution_count": null,
   "metadata": {},
   "outputs": [],
   "source": []
  },
  {
   "cell_type": "code",
   "execution_count": null,
   "metadata": {},
   "outputs": [],
   "source": []
  },
  {
   "cell_type": "code",
   "execution_count": null,
   "metadata": {},
   "outputs": [],
   "source": []
  }
 ],
 "metadata": {
  "kernelspec": {
   "display_name": "R",
   "language": "R",
   "name": "ir"
  },
  "language_info": {
   "codemirror_mode": "r",
   "file_extension": ".r",
   "mimetype": "text/x-r-source",
   "name": "R",
   "pygments_lexer": "r",
   "version": "3.3.2"
  }
 },
 "nbformat": 4,
 "nbformat_minor": 2
}
