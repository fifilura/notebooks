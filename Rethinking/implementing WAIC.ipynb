{
 "cells": [
  {
   "cell_type": "markdown",
   "metadata": {},
   "source": [
    "http://kylehardman.com/BlogPosts/View/7"
   ]
  },
  {
   "cell_type": "markdown",
   "metadata": {},
   "source": [
    "\n",
    "The Watanabe-Akaike Information Criterion (WAIC) is a way of measuring the fit of Bayesian models. It is conceptually similar to AIC and BIC. Like AIC and BIC, lower values of WAIC indicate a better model fit. I will describe how to calculate WAIC for the case in which unknown parameters are estimated with a Gibbs sampler, which produces samples from the posterior distribution of the parameters. WAIC can be calculated with these posterior chains and some other fairly accessible information. Like my [DIC tutorial](http://kylehardman.com/BlogPosts/View/6), my knowledge about WAIC comes from [Bayesian Data Analysis, Third Edition](http://www.amazon.com/Bayesian-Analysis-Chapman-Statistical-Science/dp/1439840954/ref=sr_1_1?s=books&ie=UTF8&qid=1458857289&sr=1-1&keywords=bayesian+data+analysis) by Gelman, Carlin, Stern, Dunson, Vehtari, and Rubin. What I have done is to show you how to calculate WAIC for an example model and data set, R code included, to make it all concrete.\n",
    "\n",
    "One very nice feature of WAIC is that it does not rely on posterior means of parameters, like DIC does. For some models, some parameters will either not have a usable posterior mean (e.g. a discrete indicator parameter that is either 0 or 1) or will not have a meaningful posterior mean (e.g. a multi-modal posterior). In such cases, using the posterior mean is impossible or unwarranted, so it is more appropriate to use a model fit statistic, like WAIC, that does not use the posterior mean.\n",
    "\n",
    "I am focused on a case in which the parameters are estimated with a Gibbs sampler, so four things are required to calculate WAIC:\n",
    "\n",
    "1. The data, denoted $y$.\n",
    "2. A Bayesian model for the data with some parameter vector $\\theta$.\n",
    "3. Samples from the posterior distribution of the parameters of the model.\n",
    "4. The likelihood function, that gives the likelihood of the data given parameters, typically denoted $p(y|\\theta)$.\n",
    "\n",
    "Item 2 is not used directly, but items 3 and 4 depend on it. The data, model, and sampling procedure are all identical to those that I used in my [DIC tutorial](http://kylehardman.com/BlogPosts/View/6). The likelihood function is conceptually the same, but the exact way in which it is programmmed is different in this case than for DIC. You may want to read what I did in my DIC tutorial, up to and including the Likelihood Function section of that post, before continuing.\n",
    "\n",
    "\n",
    "## Data and Parameter Samples\n"
   ]
  },
  {
   "cell_type": "code",
   "execution_count": 11,
   "metadata": {},
   "outputs": [],
   "source": [
    "#Sample a realization from the distribution of mu given\n",
    "#data (y), assumed known data variance (sigma2), prior mean (mu0), and prior variance (var0).\n",
    "post_mu = function(y, sigma2, mu0, var0) {\n",
    "\ta = length(y) / sigma2 + 1 / var0\n",
    "\tb = sum(y) / sigma2 + mu0 / var0\n",
    "\tb = b / a\n",
    "\t\n",
    "\trnorm(1, b, sqrt(1/a))\n",
    "}\n",
    "\n",
    "#Sample a realization from the distribution of sigma2 given\n",
    "#data (y), assumed known data mean (mu), prior shape (a0), and prior rate (b0).\n",
    "post_sigma2 = function(y, mu, a0, b0) {\n",
    "\tSSE = sum((y - mu)^2)\n",
    "\t\n",
    "\ta = a0 + length(y)/2\n",
    "\tb = b0 + SSE / 2\n",
    "\t\n",
    "\tr = rgamma(1, a, b)\n",
    "\t1/r\n",
    "}\n",
    "\n",
    "#Get a matrix of samples from the posterior distribution of mu and sigma2.\n",
    "#The first column of the matrix is for mu and the second column is for sigma2.\n",
    "#mu0 and var0 are priors on mu and a0 and b0 are priors on sigma2\n",
    "getPosteriorSamples = function(iterations, mu0, var0, a0, b0) {\n",
    "  \n",
    "  iterations = iterations + 1 #add space for starting values\n",
    "  mu = rep(0, iterations)\n",
    "  sigma2 = rep(0, iterations)\n",
    "  \n",
    "  #start values\n",
    "  mu[1] = 0\n",
    "  sigma2[1] = 20\n",
    "  \n",
    "  for (i in 2:iterations) {\n",
    "    mu[i] = post_mu(y, sigma2[i - 1], mu0, var0)\n",
    "  \n",
    "  \tsigma2[i] = post_sigma2(y, mu[i], a0, b0)\n",
    "  }\n",
    "    \n",
    "  m = cbind(mu, sigma2)\n",
    "  m[-1,] #strip off starting values\n",
    "}"
   ]
  },
  {
   "cell_type": "markdown",
   "metadata": {},
   "source": [
    "\n",
    "The data, $y$, are 50 deviates from a normal distribution with mean 40 and standard deviation 10.\n"
   ]
  },
  {
   "cell_type": "code",
   "execution_count": 12,
   "metadata": {},
   "outputs": [],
   "source": [
    "set.seed(123)\n",
    "y = rnorm(50, 40, 10)"
   ]
  },
  {
   "cell_type": "markdown",
   "metadata": {},
   "source": [
    "\n",
    "Using `getPosteriorSamples` (see the [DIC tutorial](http://kylehardman.com/BlogPosts/View/6) for that function) with the data, $y$, and some relatively uninformative settings for the priors, we can obtain posterior chains for the parameters, which are stored in `theta_post`. "
   ]
  },
  {
   "cell_type": "code",
   "execution_count": 13,
   "metadata": {},
   "outputs": [
    {
     "data": {
      "text/html": [
       "<table>\n",
       "<thead><tr><th scope=col>mu</th><th scope=col>sigma2</th></tr></thead>\n",
       "<tbody>\n",
       "\t<tr><td>40.48808</td><td>85.89386</td></tr>\n",
       "\t<tr><td>41.88349</td><td>83.09866</td></tr>\n",
       "\t<tr><td>38.92590</td><td>97.38113</td></tr>\n",
       "\t<tr><td>41.08069</td><td>83.82432</td></tr>\n",
       "\t<tr><td>40.55588</td><td>79.24317</td></tr>\n",
       "</tbody>\n",
       "</table>\n"
      ],
      "text/latex": [
       "\\begin{tabular}{ll}\n",
       " mu & sigma2\\\\\n",
       "\\hline\n",
       "\t 40.48808 & 85.89386\\\\\n",
       "\t 41.88349 & 83.09866\\\\\n",
       "\t 38.92590 & 97.38113\\\\\n",
       "\t 41.08069 & 83.82432\\\\\n",
       "\t 40.55588 & 79.24317\\\\\n",
       "\\end{tabular}\n"
      ],
      "text/markdown": [
       "\n",
       "mu | sigma2 | \n",
       "|---|---|---|---|---|\n",
       "| 40.48808 | 85.89386 | \n",
       "| 41.88349 | 83.09866 | \n",
       "| 38.92590 | 97.38113 | \n",
       "| 41.08069 | 83.82432 | \n",
       "| 40.55588 | 79.24317 | \n",
       "\n",
       "\n"
      ],
      "text/plain": [
       "     mu       sigma2  \n",
       "[1,] 40.48808 85.89386\n",
       "[2,] 41.88349 83.09866\n",
       "[3,] 38.92590 97.38113\n",
       "[4,] 41.08069 83.82432\n",
       "[5,] 40.55588 79.24317"
      ]
     },
     "metadata": {},
     "output_type": "display_data"
    }
   ],
   "source": [
    "theta_post = getPosteriorSamples(iterations=100000, mu0=0, var0=1000, a0=0.1, b0=0.1)\n",
    "theta_post[1:5,]"
   ]
  },
  {
   "cell_type": "markdown",
   "metadata": {},
   "source": [
    "Each row of `theta_post` is one sample from the posterior distribution of $\\mu$ and $\\sigma^2$ and is from one iteration of the Gibbs sampler.\n",
    "\n",
    "\n",
    "## Likelihood Function\n",
    "\n",
    "The last thing needed to calculate WAIC is the likelihood function. The most convenient single likelihood function to write for the purposes of calculating WAIC is one that takes a single observation from the data set along with a matrix of posterior chains of the parameters. To be clear, this is a likelihood, not a log likelihood, function.\n"
   ]
  },
  {
   "cell_type": "code",
   "execution_count": 14,
   "metadata": {},
   "outputs": [],
   "source": [
    "# y_i is one observation from y.\n",
    "# theta is the whole matrix of samples from the posterior distribution of mu and sigma^2.\n",
    "likelihood_singleY = function(y_i, theta) {\n",
    "  #Get the individual parameter vectors out of theta.\n",
    "  mus = theta[,1]\n",
    "  sigma2s = theta[,2]\n",
    "  \n",
    "  dnorm(y_i, mus, sqrt(sigma2s))\n",
    "}"
   ]
  },
  {
   "cell_type": "code",
   "execution_count": 15,
   "metadata": {},
   "outputs": [
    {
     "name": "stdout",
     "output_type": "stream",
     "text": [
      " num [1:100000] 0.043 0.0428 0.0402 0.0433 0.0447 ...\n"
     ]
    }
   ],
   "source": [
    "l <- likelihood_singleY(40,theta_post)\n",
    "str(l)"
   ]
  },
  {
   "cell_type": "markdown",
   "metadata": {},
   "source": [
    "\n",
    "\n",
    "## Calculating WAIC\n",
    "\n",
    "With the values and functions that I have, it is possible to calculate WAIC. The equation for WAIC is\n",
    "$$\n",
    "WAIC = -2 * (LPPD - P)\n",
    "$$\n",
    "where $LPPD$ is the log posterior predictive density (to be explained) and $P$ is an estimate of the effective number of free parameters in the model. I use only a small amount of mathematical notation for the following calculations because they are difficult to represent using standard notation (Gelman et al. defined nonstandard notation that they then used for some of the calculations). I instead present the steps of the algorithms. The algorithms can be very concisely represented in R code, which is given following the algorithms.\n",
    "\n",
    "$LPPD$ is calculated as follows:\n",
    "\n",
    "1. For each observation in $y$, calculate the likelihood for that observation for each sample of parameters from their posterior distribution (i.e. each row of `theta_post`). This results in a vector of likelihoods, denoted $L$, each element of which is the likelihood for one sample of parameters from the posterior distribution.\n",
    "2. Take the mean of $L$\n",
    "3. Take the log of the mean.\n",
    "4. Take the sum of the log of the mean likelihoods across all observations in $y$.\n",
    "\n",
    "Thus, $LPPD$ is the sum across observations in $y$ of the log of the mean of the likelihoods of each sample from the posterior distribution of the parameters.\n",
    "\n",
    "WAIC, like many deviance statistics, has a penalty term related to the flexibility of the model. For WAIC, $P$ is the penality term, which is an estimate of the effective number of free parameters in the model. There are two different ways to estimate $P$, which produce slightly different results. Gelman et al. recommend the second version.\n",
    "\n",
    "The first estimate of $P$, $P_1$, is calculated as follows:\n",
    "\n",
    "1. For each observation in $y$, calculate the likelihood vector $L$ in the same way as for $LPPD$.\n",
    "2. Let $a$ be the log of the mean of $L$ (i.e. the log of the mean likelihood).\n",
    "3. Let $b$ be the mean of the log of $L$ (i.e. the mean log likelihood).\n",
    "4. Take the sum of $2 * (a - b)$ across all observations in $y$.\n",
    "\n",
    "The second estimate of $P$, $P_2$, is calculated as follows:\n",
    "\n",
    "1. For each observation in $y$, calculate the likelihood vector $L$ in the same way as for $LPPD$.\n",
    "2. Take the log of $L$, resulting in a vector of log likelihoods.\n",
    "3. Calculate the sample variance of the log likelihoods.\n",
    "4. Take the sum of the variances of the log likelihoods across all observations in $y$.\n",
    "\n",
    "These algorithms are easily implemented in R, as can be seen in the following code. Note that the `log` function takes the log of each element in the vector passed to it and returns a vector of the same length."
   ]
  },
  {
   "cell_type": "code",
   "execution_count": 16,
   "metadata": {},
   "outputs": [],
   "source": [
    "\n",
    "# y is the vector of data (this function would need to be modified slightly if y is a matrix)\n",
    "# theta is a matrix of samples from the posterior distribution of the parameters.\n",
    "# likeFun is a function that takes two arguments: \n",
    "#   a single observation from y and a matrix of posterior chains, theta. \n",
    "#   likeFun returns a vector of likelihoods, each corresponding to a row of theta.\n",
    "#   For a function matching the requirements of likeFun, see likelihood_singleY, defined above.\n",
    "calculate_WAIC = function(y, theta, likeFun) {\n",
    "\t\n",
    "\t# Initialize accumulator variables that will be added to\n",
    "\tLPPD = 0\n",
    "\tP_1 = 0\n",
    "\tP_2 = 0\n",
    "\t\n",
    "\tfor (i in 1:length(y)) {\n",
    "\t\t\n",
    "\t\t# Get a vector of likelihoods for this observation in y\n",
    "\t\tL = likeFun(y[i], theta)\n",
    "\t\t\n",
    "\t\t# Calculate LPPD for this observation\n",
    "\t\tLPPD = LPPD + log( mean(L) )\n",
    "\t\t\n",
    "\t\t# Calculate P_1\n",
    "\t\ta = log( mean(L) )\n",
    "\t\tb = mean( log(L) )\n",
    "\t\t\n",
    "\t\tP_1 = P_1 + 2 * (a - b)\n",
    "\t\t\n",
    "\t\t# Calculate P_2\n",
    "\t\tP_2 = P_2 + var( log(L) )\n",
    "\t\t\n",
    "\t}\n",
    "\t\n",
    "\t# The two versions of WAIC differ in terms of which P is used\n",
    "\tWAIC_1 = -2 * (LPPD - P_1)\n",
    "\tWAIC_2 = -2 * (LPPD - P_2)\n",
    "\t\n",
    "\t# Return a list containing the results\n",
    "\tlist(WAIC_1 = WAIC_1, WAIC_2 = WAIC_2, P_1 = P_1, P_2 = P_2, LPPD = LPPD)\n",
    "}\n"
   ]
  },
  {
   "cell_type": "markdown",
   "metadata": {},
   "source": [
    "\n",
    "\n",
    "## Results\n",
    "\n",
    "With the data, `y`, the posterior chains, `theta_post`, and the likelihood function, `likelihood_singleY`, the `calculate_WAIC` function can be used as follows.\n"
   ]
  },
  {
   "cell_type": "code",
   "execution_count": 17,
   "metadata": {},
   "outputs": [
    {
     "name": "stdout",
     "output_type": "stream",
     "text": [
      "$WAIC_1\n",
      "[1] 367.1651\n",
      "\n",
      "$WAIC_2\n",
      "[1] 367.3309\n",
      "\n",
      "$P_1\n",
      "[1] 1.695479\n",
      "\n",
      "$P_2\n",
      "[1] 1.778401\n",
      "\n",
      "$LPPD\n",
      "[1] -181.8871\n",
      "\n"
     ]
    }
   ],
   "source": [
    "waic = calculate_WAIC(y, theta_post, likelihood_singleY)\n",
    "print(waic)"
   ]
  },
  {
   "cell_type": "markdown",
   "metadata": {},
   "source": [
    "\n",
    "`calculate_WAIC` returns a list containing the results of the calculations. Note that there are two versions of the WAIC statistic, each based on a different version of the penality term, $P$. $P$ is an estimate of the effective number of free parameters. In the model, there were 2 free parameters, $\\mu$ and $\\sigma^2$, so the estimates of $P$ are pretty good.\n",
    "\n",
    "WAIC itself cannot be interpreted without another model to compare it to, so I will make a comparison model by changing the priors. \n",
    "\n",
    "\n",
    "\n",
    "\n",
    "\n",
    "Note that the prior mean that I have been using is $\\mu_0 = 0$, which is really wrong, given that the data are centered on 40. This has not been a problem, because the prior variance, $\\sigma_0^2$, was very large, making the prior on $\\mu$ uninformative. One comparison model can be constructed by having an informative prior on an incorrect $\\mu$ by setting $\\mu_0 = 0$ and $\\sigma^2_0 = 1$."
   ]
  },
  {
   "cell_type": "code",
   "execution_count": 18,
   "metadata": {},
   "outputs": [
    {
     "data": {
      "text/html": [
       "<dl class=dl-horizontal>\n",
       "\t<dt>mu</dt>\n",
       "\t\t<dd>1.19928029394819</dd>\n",
       "\t<dt>sigma2</dt>\n",
       "\t\t<dd>1678.30757039085</dd>\n",
       "</dl>\n"
      ],
      "text/latex": [
       "\\begin{description*}\n",
       "\\item[mu] 1.19928029394819\n",
       "\\item[sigma2] 1678.30757039085\n",
       "\\end{description*}\n"
      ],
      "text/markdown": [
       "mu\n",
       ":   1.19928029394819sigma2\n",
       ":   1678.30757039085\n",
       "\n"
      ],
      "text/plain": [
       "        mu     sigma2 \n",
       "   1.19928 1678.30757 "
      ]
     },
     "metadata": {},
     "output_type": "display_data"
    }
   ],
   "source": [
    "theta_post_constrained = getPosteriorSamples(10000, mu0=0, var0=1, a0=0.1, b0=0.1)\n",
    "apply(theta_post_constrained, 2, mean)"
   ]
  },
  {
   "cell_type": "markdown",
   "metadata": {},
   "source": [
    "As can be seen, a result of making the prior on $\\mu$ more informative is that it makes the posterior mean for $\\mu$ quite wrong: It should be much higher. Thus, adding this prior constraint on $\\mu$ has dramatically changed how the model fits. Let's examine how this changes WAIC and $P$:"
   ]
  },
  {
   "cell_type": "code",
   "execution_count": 19,
   "metadata": {},
   "outputs": [
    {
     "data": {
      "text/html": [
       "<dl>\n",
       "\t<dt>$WAIC_1</dt>\n",
       "\t\t<dd>512.414412572321</dd>\n",
       "\t<dt>$WAIC_2</dt>\n",
       "\t\t<dd>512.412038590494</dd>\n",
       "\t<dt>$P_1</dt>\n",
       "\t\t<dd>0.153852241352983</dd>\n",
       "\t<dt>$P_2</dt>\n",
       "\t\t<dd>0.152665250439533</dd>\n",
       "\t<dt>$LPPD</dt>\n",
       "\t\t<dd>-256.053354044808</dd>\n",
       "</dl>\n"
      ],
      "text/latex": [
       "\\begin{description}\n",
       "\\item[\\$WAIC\\_1] 512.414412572321\n",
       "\\item[\\$WAIC\\_2] 512.412038590494\n",
       "\\item[\\$P\\_1] 0.153852241352983\n",
       "\\item[\\$P\\_2] 0.152665250439533\n",
       "\\item[\\$LPPD] -256.053354044808\n",
       "\\end{description}\n"
      ],
      "text/markdown": [
       "$WAIC_1\n",
       ":   512.414412572321\n",
       "$WAIC_2\n",
       ":   512.412038590494\n",
       "$P_1\n",
       ":   0.153852241352983\n",
       "$P_2\n",
       ":   0.152665250439533\n",
       "$LPPD\n",
       ":   -256.053354044808\n",
       "\n",
       "\n"
      ],
      "text/plain": [
       "$WAIC_1\n",
       "[1] 512.4144\n",
       "\n",
       "$WAIC_2\n",
       "[1] 512.412\n",
       "\n",
       "$P_1\n",
       "[1] 0.1538522\n",
       "\n",
       "$P_2\n",
       "[1] 0.1526653\n",
       "\n",
       "$LPPD\n",
       "[1] -256.0534\n"
      ]
     },
     "metadata": {},
     "output_type": "display_data"
    }
   ],
   "source": [
    "calculate_WAIC(y, theta_post_constrained, likelihood_singleY)"
   ]
  },
  {
   "cell_type": "markdown",
   "metadata": {},
   "source": [
    "With the informative prior on $\\mu$, $P$ is now close to 0, suggesting that the effective number of parameters has been substantially reduced by changing the prior on $\\mu$. In addition, you can see that WAIC is much higher for this more constrained model. WAIC is a measure of poorness of model fit, so a higher value indicates a worse fit. We would expect that the model with an informative and incorrect prior on $\\mu$ would fit worse than the model with an uninformative prior on $\\mu$, which is borne out by the observed WAIC values.\n",
    "\n",
    "Finally, in these last two plots, I show what happens to both versions of $P$ and WAIC as the prior variance on $\\mu$ is manipulated across a range of values. As can be seen, for this model, there is little difference between the two versions of $P$ and, as a result, little difference between the versions of WAIC (you can only barely see a little bit of the black line showing in a few places).\n",
    "\n"
   ]
  },
  {
   "cell_type": "code",
   "execution_count": 20,
   "metadata": {},
   "outputs": [
    {
     "data": {
      "image/png": "[encoded data removed]",
      "text/plain": [
       "plot without title"
      ]
     },
     "metadata": {},
     "output_type": "display_data",
     "source": "R display func"
    },
    {
     "data": {
      "image/png": "[encoded data removed]",
      "text/plain": [
       "plot without title"
      ]
     },
     "metadata": {},
     "output_type": "display_data",
     "source": "R display func"
    }
   ],
   "source": [
    "\n",
    "var0s = seq(1, 6, 0.5) - 2\n",
    "var0s = 3 ^ var0s\n",
    "\n",
    "P_1s = P_2s = WAIC_1s = WAIC_2s = rep(NA, length(var0s))\n",
    "\n",
    "for (i in 1:length(var0s)) {\n",
    "\ttheta_post_constrained = getPosteriorSamples(10000, mu0=0, var0=var0s[i], a0=0.1, b0=0.1)\t\n",
    "\n",
    "\tres = calculate_WAIC(y, theta_post_constrained, likelihood_singleY)\n",
    "\t\n",
    "\tP_1s[i] = res$P_1\n",
    "\tP_2s[i] = res$P_2\n",
    "\t\n",
    "\tWAIC_1s[i] = res$WAIC_1\n",
    "\tWAIC_2s[i] = res$WAIC_2\n",
    "}\n",
    "\n",
    "plot(WAIC_1s, axes=FALSE, type='l', xlab=bquote(sigma[0]^2), ylab=\"WAIC\")\n",
    "lines(WAIC_2s, col=\"red\")\n",
    "box()\n",
    "axis(2)\n",
    "axis(1, at = 1:length(var0s), labels = round(var0s, 2))\n",
    "legend(\"bottomleft\", legend=c(\"Using P_1\", \"Using P_2\"), lty=1, col=c(\"black\", \"red\"))\n",
    "\n",
    "\n",
    "plot(P_1s, axes=FALSE, type='l', xlab=bquote(sigma[0]^2), ylab=\"P\")\n",
    "lines(P_2s, col=\"red\")\n",
    "box()\n",
    "axis(2)\n",
    "axis(1, at = 1:length(var0s), labels = round(var0s, 2))\n",
    "legend(\"topleft\", legend=c(\"P_1\", \"P_2\"), lty=1, col=c(\"black\", \"red\"))\n",
    "\n"
   ]
  },
  {
   "cell_type": "markdown",
   "metadata": {},
   "source": [
    "\n",
    "\n",
    "## Conclusion\n",
    "\n",
    "WAIC is a measure of model fit that can be applied to Bayesian models and that works when the parameter estimation is done using numerical techniques, such as Gibbs samplers. WAIC has the nice advantage of being usable even when the posterior mean of parameters is meaningless or unsuable for whatever reason.\n",
    "\n"
   ]
  },
  {
   "cell_type": "code",
   "execution_count": null,
   "metadata": {},
   "outputs": [],
   "source": []
  },
  {
   "cell_type": "code",
   "execution_count": null,
   "metadata": {},
   "outputs": [],
   "source": []
  },
  {
   "cell_type": "code",
   "execution_count": null,
   "metadata": {},
   "outputs": [],
   "source": []
  },
  {
   "cell_type": "code",
   "execution_count": null,
   "metadata": {},
   "outputs": [],
   "source": []
  },
  {
   "cell_type": "code",
   "execution_count": null,
   "metadata": {},
   "outputs": [],
   "source": []
  }
 ],
 "metadata": {
  "kernelspec": {
   "display_name": "R",
   "language": "R",
   "name": "ir"
  },
  "language_info": {
   "codemirror_mode": "r",
   "file_extension": ".r",
   "mimetype": "text/x-r-source",
   "name": "R",
   "pygments_lexer": "r",
   "version": "3.3.2"
  }
 },
 "nbformat": 4,
 "nbformat_minor": 2
}
