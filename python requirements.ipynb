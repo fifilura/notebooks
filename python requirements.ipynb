{
 "cells": [
  {
   "cell_type": "code",
   "execution_count": 21,
   "metadata": {},
   "outputs": [],
   "source": [
    "import seaborn as sns"
   ]
  },
  {
   "cell_type": "code",
   "execution_count": null,
   "metadata": {},
   "outputs": [],
   "source": []
  },
  {
   "cell_type": "code",
   "execution_count": 16,
   "metadata": {},
   "outputs": [
    {
     "name": "stdout",
     "output_type": "stream",
     "text": [
      "Collecting jupyter-cron\n",
      "  Downloading jupyter_cron-0.1.6-py3-none-any.whl\n",
      "Collecting python-daemon (from jupyter-cron)\n",
      "  Downloading python_daemon-2.1.2-py2.py3-none-any.whl\n",
      "Collecting schedule (from jupyter-cron)\n",
      "  Downloading schedule-0.4.3-py2.py3-none-any.whl\n",
      "Requirement already satisfied: setuptools in /opt/conda/lib/python3.6/site-packages (from python-daemon->jupyter-cron)\n",
      "Collecting docutils (from python-daemon->jupyter-cron)\n",
      "  Downloading docutils-0.14-py3-none-any.whl (543kB)\n",
      "\u001b[K    100% |████████████████████████████████| 552kB 1.5MB/s eta 0:00:01\n",
      "\u001b[?25hCollecting lockfile>=0.10 (from python-daemon->jupyter-cron)\n",
      "  Downloading lockfile-0.12.2-py2.py3-none-any.whl\n",
      "Installing collected packages: docutils, lockfile, python-daemon, schedule, jupyter-cron\n",
      "Successfully installed docutils-0.14 jupyter-cron-0.1.6 lockfile-0.12.2 python-daemon-2.1.2 schedule-0.4.3\n"
     ]
    }
   ],
   "source": [
    "!pip install jupyter-cron"
   ]
  },
  {
   "cell_type": "code",
   "execution_count": 13,
   "metadata": {},
   "outputs": [
    {
     "ename": "AttributeError",
     "evalue": "'WikipediaPage' object has no attribute '__prop__'",
     "output_type": "error",
     "traceback": [
      "\u001b[0;31m\u001b[0m",
      "\u001b[0;31mAttributeError\u001b[0mTraceback (most recent call last)",
      "\u001b[0;32m<ipython-input-13-12d38391b183>\u001b[0m in \u001b[0;36m<module>\u001b[0;34m()\u001b[0m\n\u001b[0;32m----> 1\u001b[0;31m \u001b[0mny\u001b[0m\u001b[0;34m.\u001b[0m\u001b[0m__prop__\u001b[0m\u001b[0;34m\u001b[0m\u001b[0m\n\u001b[0m",
      "\u001b[0;31mAttributeError\u001b[0m: 'WikipediaPage' object has no attribute '__prop__'"
     ]
    }
   ],
   "source": [
    "ny.__prop__"
   ]
  }
 ],
 "metadata": {
  "kernelspec": {
   "display_name": "Python 3",
   "language": "python",
   "name": "python3"
  },
  "language_info": {
   "codemirror_mode": {
    "name": "ipython",
    "version": 3
   },
   "file_extension": ".py",
   "mimetype": "text/x-python",
   "name": "python",
   "nbconvert_exporter": "python",
   "pygments_lexer": "ipython3",
   "version": "3.6.2"
  }
 },
 "nbformat": 4,
 "nbformat_minor": 2
}
