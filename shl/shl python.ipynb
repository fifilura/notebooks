{
 "cells": [
  {
   "cell_type": "code",
   "execution_count": 161,
   "metadata": {},
   "outputs": [],
   "source": [
    "import pandas as pd"
   ]
  },
  {
   "cell_type": "code",
   "execution_count": 162,
   "metadata": {},
   "outputs": [
    {
     "data": {
      "text/plain": [
       "HEMMA\n",
       "Skellefteå     1\n",
       "Malmö          2\n",
       "Växjö          3\n",
       "Örebro         4\n",
       "Rögle          5\n",
       "Färjestad      6\n",
       "Frölunda       7\n",
       "Mora           8\n",
       "Djurgården     9\n",
       "Luleå         10\n",
       "Brynäs        11\n",
       "Linköping     12\n",
       "HV71          13\n",
       "Karlskrona    14\n",
       "Name: index, dtype: int64"
      ]
     },
     "execution_count": 162,
     "metadata": {},
     "output_type": "execute_result"
    }
   ],
   "source": [
    "%matplotlib inline\n",
    "df = pd.read_csv('2017_2018.csv')\n",
    "df = df[['DATUM', 'HEMMA','BORTA','HS', 'VS', 'DEC', 'PERIOD']]\n",
    "df['DATUM'] = pd.to_datetime(df['DATUM'], format = '%Y-%m-%d')\n",
    "\n",
    "teams = df['HEMMA'].\\\n",
    "    drop_duplicates().\\\n",
    "    to_frame().\\\n",
    "    reset_index().\\\n",
    "    drop('index',1).\\\n",
    "    reset_index().\\\n",
    "    set_index('HEMMA')['index']\n",
    "teams = teams + 1\n",
    "teams"
   ]
  },
  {
   "cell_type": "code",
   "execution_count": 163,
   "metadata": {},
   "outputs": [
    {
     "data": {
      "text/html": [
       "<div>\n",
       "<table border=\"1\" class=\"dataframe\">\n",
       "  <thead>\n",
       "    <tr style=\"text-align: right;\">\n",
       "      <th></th>\n",
       "      <th></th>\n",
       "      <th>goals</th>\n",
       "      <th>team_no</th>\n",
       "    </tr>\n",
       "    <tr>\n",
       "      <th>team</th>\n",
       "      <th>home</th>\n",
       "      <th></th>\n",
       "      <th></th>\n",
       "    </tr>\n",
       "  </thead>\n",
       "  <tbody>\n",
       "    <tr>\n",
       "      <th rowspan=\"2\" valign=\"top\">Brynäs</th>\n",
       "      <th>0</th>\n",
       "      <td>2.000000</td>\n",
       "      <td>11.0</td>\n",
       "    </tr>\n",
       "    <tr>\n",
       "      <th>1</th>\n",
       "      <td>1.857143</td>\n",
       "      <td>11.0</td>\n",
       "    </tr>\n",
       "    <tr>\n",
       "      <th rowspan=\"2\" valign=\"top\">Djurgården</th>\n",
       "      <th>0</th>\n",
       "      <td>2.428571</td>\n",
       "      <td>9.0</td>\n",
       "    </tr>\n",
       "    <tr>\n",
       "      <th>1</th>\n",
       "      <td>3.142857</td>\n",
       "      <td>9.0</td>\n",
       "    </tr>\n",
       "    <tr>\n",
       "      <th rowspan=\"2\" valign=\"top\">Frölunda</th>\n",
       "      <th>0</th>\n",
       "      <td>2.833333</td>\n",
       "      <td>7.0</td>\n",
       "    </tr>\n",
       "    <tr>\n",
       "      <th>1</th>\n",
       "      <td>2.625000</td>\n",
       "      <td>7.0</td>\n",
       "    </tr>\n",
       "    <tr>\n",
       "      <th rowspan=\"2\" valign=\"top\">Färjestad</th>\n",
       "      <th>0</th>\n",
       "      <td>3.500000</td>\n",
       "      <td>6.0</td>\n",
       "    </tr>\n",
       "    <tr>\n",
       "      <th>1</th>\n",
       "      <td>3.571429</td>\n",
       "      <td>6.0</td>\n",
       "    </tr>\n",
       "    <tr>\n",
       "      <th rowspan=\"2\" valign=\"top\">HV71</th>\n",
       "      <th>0</th>\n",
       "      <td>2.250000</td>\n",
       "      <td>13.0</td>\n",
       "    </tr>\n",
       "    <tr>\n",
       "      <th>1</th>\n",
       "      <td>2.571429</td>\n",
       "      <td>13.0</td>\n",
       "    </tr>\n",
       "    <tr>\n",
       "      <th rowspan=\"2\" valign=\"top\">Karlskrona</th>\n",
       "      <th>0</th>\n",
       "      <td>1.166667</td>\n",
       "      <td>14.0</td>\n",
       "    </tr>\n",
       "    <tr>\n",
       "      <th>1</th>\n",
       "      <td>1.625000</td>\n",
       "      <td>14.0</td>\n",
       "    </tr>\n",
       "    <tr>\n",
       "      <th rowspan=\"2\" valign=\"top\">Linköping</th>\n",
       "      <th>0</th>\n",
       "      <td>2.250000</td>\n",
       "      <td>12.0</td>\n",
       "    </tr>\n",
       "    <tr>\n",
       "      <th>1</th>\n",
       "      <td>2.857143</td>\n",
       "      <td>12.0</td>\n",
       "    </tr>\n",
       "    <tr>\n",
       "      <th rowspan=\"2\" valign=\"top\">Luleå</th>\n",
       "      <th>0</th>\n",
       "      <td>1.857143</td>\n",
       "      <td>10.0</td>\n",
       "    </tr>\n",
       "    <tr>\n",
       "      <th>1</th>\n",
       "      <td>2.250000</td>\n",
       "      <td>10.0</td>\n",
       "    </tr>\n",
       "    <tr>\n",
       "      <th rowspan=\"2\" valign=\"top\">Malmö</th>\n",
       "      <th>0</th>\n",
       "      <td>2.500000</td>\n",
       "      <td>2.0</td>\n",
       "    </tr>\n",
       "    <tr>\n",
       "      <th>1</th>\n",
       "      <td>3.142857</td>\n",
       "      <td>2.0</td>\n",
       "    </tr>\n",
       "    <tr>\n",
       "      <th rowspan=\"2\" valign=\"top\">Mora</th>\n",
       "      <th>0</th>\n",
       "      <td>1.555556</td>\n",
       "      <td>8.0</td>\n",
       "    </tr>\n",
       "    <tr>\n",
       "      <th>1</th>\n",
       "      <td>3.600000</td>\n",
       "      <td>8.0</td>\n",
       "    </tr>\n",
       "    <tr>\n",
       "      <th rowspan=\"2\" valign=\"top\">Rögle</th>\n",
       "      <th>0</th>\n",
       "      <td>2.000000</td>\n",
       "      <td>5.0</td>\n",
       "    </tr>\n",
       "    <tr>\n",
       "      <th>1</th>\n",
       "      <td>3.000000</td>\n",
       "      <td>5.0</td>\n",
       "    </tr>\n",
       "    <tr>\n",
       "      <th rowspan=\"2\" valign=\"top\">Skellefteå</th>\n",
       "      <th>0</th>\n",
       "      <td>3.666667</td>\n",
       "      <td>1.0</td>\n",
       "    </tr>\n",
       "    <tr>\n",
       "      <th>1</th>\n",
       "      <td>3.375000</td>\n",
       "      <td>1.0</td>\n",
       "    </tr>\n",
       "    <tr>\n",
       "      <th rowspan=\"2\" valign=\"top\">Växjö</th>\n",
       "      <th>0</th>\n",
       "      <td>2.166667</td>\n",
       "      <td>3.0</td>\n",
       "    </tr>\n",
       "    <tr>\n",
       "      <th>1</th>\n",
       "      <td>3.625000</td>\n",
       "      <td>3.0</td>\n",
       "    </tr>\n",
       "    <tr>\n",
       "      <th rowspan=\"2\" valign=\"top\">Örebro</th>\n",
       "      <th>0</th>\n",
       "      <td>2.750000</td>\n",
       "      <td>4.0</td>\n",
       "    </tr>\n",
       "    <tr>\n",
       "      <th>1</th>\n",
       "      <td>2.166667</td>\n",
       "      <td>4.0</td>\n",
       "    </tr>\n",
       "  </tbody>\n",
       "</table>\n",
       "</div>"
      ],
      "text/plain": [
       "                    goals  team_no\n",
       "team       home                   \n",
       "Brynäs     0     2.000000     11.0\n",
       "           1     1.857143     11.0\n",
       "Djurgården 0     2.428571      9.0\n",
       "           1     3.142857      9.0\n",
       "Frölunda   0     2.833333      7.0\n",
       "           1     2.625000      7.0\n",
       "Färjestad  0     3.500000      6.0\n",
       "           1     3.571429      6.0\n",
       "HV71       0     2.250000     13.0\n",
       "           1     2.571429     13.0\n",
       "Karlskrona 0     1.166667     14.0\n",
       "           1     1.625000     14.0\n",
       "Linköping  0     2.250000     12.0\n",
       "           1     2.857143     12.0\n",
       "Luleå      0     1.857143     10.0\n",
       "           1     2.250000     10.0\n",
       "Malmö      0     2.500000      2.0\n",
       "           1     3.142857      2.0\n",
       "Mora       0     1.555556      8.0\n",
       "           1     3.600000      8.0\n",
       "Rögle      0     2.000000      5.0\n",
       "           1     3.000000      5.0\n",
       "Skellefteå 0     3.666667      1.0\n",
       "           1     3.375000      1.0\n",
       "Växjö      0     2.166667      3.0\n",
       "           1     3.625000      3.0\n",
       "Örebro     0     2.750000      4.0\n",
       "           1     2.166667      4.0"
      ]
     },
     "execution_count": 163,
     "metadata": {},
     "output_type": "execute_result"
    }
   ],
   "source": [
    "df_hemma = df[['DATUM', 'HEMMA', 'HS']].copy()\n",
    "df_hemma.columns = ['date', 'team', 'goals']\n",
    "df_hemma['home'] = 1\n",
    "df_borta = df[['DATUM', 'BORTA', 'VS']].copy()\n",
    "df_borta.columns = ['date', 'team', 'goals']\n",
    "df_borta['home'] = 0\n",
    "\n",
    "df = df_hemma.append(df_borta)\n",
    "df.head(5)\n",
    "df['team_no'] = df['team'].map(teams)\n",
    "df = df.groupby(['team', 'home']).mean()\n",
    "df"
   ]
  },
  {
   "cell_type": "code",
   "execution_count": 159,
   "metadata": {},
   "outputs": [
    {
     "ename": "KeyError",
     "evalue": "'team'",
     "output_type": "error",
     "traceback": [
      "\u001b[0;31m\u001b[0m",
      "\u001b[0;31mKeyError\u001b[0mTraceback (most recent call last)",
      "\u001b[0;32m/opt/conda/lib/python3.6/site-packages/pandas/indexes/base.py\u001b[0m in \u001b[0;36mget_loc\u001b[0;34m(self, key, method, tolerance)\u001b[0m\n\u001b[1;32m   2133\u001b[0m             \u001b[0;32mtry\u001b[0m\u001b[0;34m:\u001b[0m\u001b[0;34m\u001b[0m\u001b[0m\n\u001b[0;32m-> 2134\u001b[0;31m                 \u001b[0;32mreturn\u001b[0m \u001b[0mself\u001b[0m\u001b[0;34m.\u001b[0m\u001b[0m_engine\u001b[0m\u001b[0;34m.\u001b[0m\u001b[0mget_loc\u001b[0m\u001b[0;34m(\u001b[0m\u001b[0mkey\u001b[0m\u001b[0;34m)\u001b[0m\u001b[0;34m\u001b[0m\u001b[0m\n\u001b[0m\u001b[1;32m   2135\u001b[0m             \u001b[0;32mexcept\u001b[0m \u001b[0mKeyError\u001b[0m\u001b[0;34m:\u001b[0m\u001b[0;34m\u001b[0m\u001b[0m\n",
      "\u001b[0;32mpandas/index.pyx\u001b[0m in \u001b[0;36mpandas.index.IndexEngine.get_loc (pandas/index.c:4433)\u001b[0;34m()\u001b[0m\n",
      "\u001b[0;32mpandas/index.pyx\u001b[0m in \u001b[0;36mpandas.index.IndexEngine.get_loc (pandas/index.c:4279)\u001b[0;34m()\u001b[0m\n",
      "\u001b[0;32mpandas/src/hashtable_class_helper.pxi\u001b[0m in \u001b[0;36mpandas.hashtable.PyObjectHashTable.get_item (pandas/hashtable.c:13742)\u001b[0;34m()\u001b[0m\n",
      "\u001b[0;32mpandas/src/hashtable_class_helper.pxi\u001b[0m in \u001b[0;36mpandas.hashtable.PyObjectHashTable.get_item (pandas/hashtable.c:13696)\u001b[0;34m()\u001b[0m\n",
      "\u001b[0;31mKeyError\u001b[0m: 'team'",
      "\nDuring handling of the above exception, another exception occurred:\n",
      "\u001b[0;31mKeyError\u001b[0mTraceback (most recent call last)",
      "\u001b[0;32m<ipython-input-159-b230bd18c5cd>\u001b[0m in \u001b[0;36m<module>\u001b[0;34m()\u001b[0m\n\u001b[0;32m----> 1\u001b[0;31m \u001b[0mdf\u001b[0m \u001b[0;34m=\u001b[0m \u001b[0mdf\u001b[0m\u001b[0;34m.\u001b[0m\u001b[0mgroupby\u001b[0m\u001b[0;34m(\u001b[0m\u001b[0;34m'team'\u001b[0m\u001b[0;34m)\u001b[0m\u001b[0;34m.\u001b[0m\u001b[0mmean\u001b[0m\u001b[0;34m(\u001b[0m\u001b[0;34m)\u001b[0m\u001b[0;34m\u001b[0m\u001b[0m\n\u001b[0m\u001b[1;32m      2\u001b[0m \u001b[0mdf\u001b[0m\u001b[0;34m\u001b[0m\u001b[0m\n",
      "\u001b[0;32m/opt/conda/lib/python3.6/site-packages/pandas/core/generic.py\u001b[0m in \u001b[0;36mgroupby\u001b[0;34m(self, by, axis, level, as_index, sort, group_keys, squeeze, **kwargs)\u001b[0m\n\u001b[1;32m   3989\u001b[0m         return groupby(self, by=by, axis=axis, level=level, as_index=as_index,\n\u001b[1;32m   3990\u001b[0m                        \u001b[0msort\u001b[0m\u001b[0;34m=\u001b[0m\u001b[0msort\u001b[0m\u001b[0;34m,\u001b[0m \u001b[0mgroup_keys\u001b[0m\u001b[0;34m=\u001b[0m\u001b[0mgroup_keys\u001b[0m\u001b[0;34m,\u001b[0m \u001b[0msqueeze\u001b[0m\u001b[0;34m=\u001b[0m\u001b[0msqueeze\u001b[0m\u001b[0;34m,\u001b[0m\u001b[0;34m\u001b[0m\u001b[0m\n\u001b[0;32m-> 3991\u001b[0;31m                        **kwargs)\n\u001b[0m\u001b[1;32m   3992\u001b[0m \u001b[0;34m\u001b[0m\u001b[0m\n\u001b[1;32m   3993\u001b[0m     \u001b[0;32mdef\u001b[0m \u001b[0masfreq\u001b[0m\u001b[0;34m(\u001b[0m\u001b[0mself\u001b[0m\u001b[0;34m,\u001b[0m \u001b[0mfreq\u001b[0m\u001b[0;34m,\u001b[0m \u001b[0mmethod\u001b[0m\u001b[0;34m=\u001b[0m\u001b[0;32mNone\u001b[0m\u001b[0;34m,\u001b[0m \u001b[0mhow\u001b[0m\u001b[0;34m=\u001b[0m\u001b[0;32mNone\u001b[0m\u001b[0;34m,\u001b[0m \u001b[0mnormalize\u001b[0m\u001b[0;34m=\u001b[0m\u001b[0;32mFalse\u001b[0m\u001b[0;34m)\u001b[0m\u001b[0;34m:\u001b[0m\u001b[0;34m\u001b[0m\u001b[0m\n",
      "\u001b[0;32m/opt/conda/lib/python3.6/site-packages/pandas/core/groupby.py\u001b[0m in \u001b[0;36mgroupby\u001b[0;34m(obj, by, **kwds)\u001b[0m\n\u001b[1;32m   1509\u001b[0m         \u001b[0;32mraise\u001b[0m \u001b[0mTypeError\u001b[0m\u001b[0;34m(\u001b[0m\u001b[0;34m'invalid type: %s'\u001b[0m \u001b[0;34m%\u001b[0m \u001b[0mtype\u001b[0m\u001b[0;34m(\u001b[0m\u001b[0mobj\u001b[0m\u001b[0;34m)\u001b[0m\u001b[0;34m)\u001b[0m\u001b[0;34m\u001b[0m\u001b[0m\n\u001b[1;32m   1510\u001b[0m \u001b[0;34m\u001b[0m\u001b[0m\n\u001b[0;32m-> 1511\u001b[0;31m     \u001b[0;32mreturn\u001b[0m \u001b[0mklass\u001b[0m\u001b[0;34m(\u001b[0m\u001b[0mobj\u001b[0m\u001b[0;34m,\u001b[0m \u001b[0mby\u001b[0m\u001b[0;34m,\u001b[0m \u001b[0;34m**\u001b[0m\u001b[0mkwds\u001b[0m\u001b[0;34m)\u001b[0m\u001b[0;34m\u001b[0m\u001b[0m\n\u001b[0m\u001b[1;32m   1512\u001b[0m \u001b[0;34m\u001b[0m\u001b[0m\n\u001b[1;32m   1513\u001b[0m \u001b[0;34m\u001b[0m\u001b[0m\n",
      "\u001b[0;32m/opt/conda/lib/python3.6/site-packages/pandas/core/groupby.py\u001b[0m in \u001b[0;36m__init__\u001b[0;34m(self, obj, keys, axis, level, grouper, exclusions, selection, as_index, sort, group_keys, squeeze, **kwargs)\u001b[0m\n\u001b[1;32m    368\u001b[0m                                                     \u001b[0mlevel\u001b[0m\u001b[0;34m=\u001b[0m\u001b[0mlevel\u001b[0m\u001b[0;34m,\u001b[0m\u001b[0;34m\u001b[0m\u001b[0m\n\u001b[1;32m    369\u001b[0m                                                     \u001b[0msort\u001b[0m\u001b[0;34m=\u001b[0m\u001b[0msort\u001b[0m\u001b[0;34m,\u001b[0m\u001b[0;34m\u001b[0m\u001b[0m\n\u001b[0;32m--> 370\u001b[0;31m                                                     mutated=self.mutated)\n\u001b[0m\u001b[1;32m    371\u001b[0m \u001b[0;34m\u001b[0m\u001b[0m\n\u001b[1;32m    372\u001b[0m         \u001b[0mself\u001b[0m\u001b[0;34m.\u001b[0m\u001b[0mobj\u001b[0m \u001b[0;34m=\u001b[0m \u001b[0mobj\u001b[0m\u001b[0;34m\u001b[0m\u001b[0m\n",
      "\u001b[0;32m/opt/conda/lib/python3.6/site-packages/pandas/core/groupby.py\u001b[0m in \u001b[0;36m_get_grouper\u001b[0;34m(obj, key, axis, level, sort, mutated)\u001b[0m\n\u001b[1;32m   2460\u001b[0m \u001b[0;34m\u001b[0m\u001b[0m\n\u001b[1;32m   2461\u001b[0m         \u001b[0;32melif\u001b[0m \u001b[0mis_in_axis\u001b[0m\u001b[0;34m(\u001b[0m\u001b[0mgpr\u001b[0m\u001b[0;34m)\u001b[0m\u001b[0;34m:\u001b[0m  \u001b[0;31m# df.groupby('name')\u001b[0m\u001b[0;34m\u001b[0m\u001b[0m\n\u001b[0;32m-> 2462\u001b[0;31m             \u001b[0min_axis\u001b[0m\u001b[0;34m,\u001b[0m \u001b[0mname\u001b[0m\u001b[0;34m,\u001b[0m \u001b[0mgpr\u001b[0m \u001b[0;34m=\u001b[0m \u001b[0;32mTrue\u001b[0m\u001b[0;34m,\u001b[0m \u001b[0mgpr\u001b[0m\u001b[0;34m,\u001b[0m \u001b[0mobj\u001b[0m\u001b[0;34m[\u001b[0m\u001b[0mgpr\u001b[0m\u001b[0;34m]\u001b[0m\u001b[0;34m\u001b[0m\u001b[0m\n\u001b[0m\u001b[1;32m   2463\u001b[0m             \u001b[0mexclusions\u001b[0m\u001b[0;34m.\u001b[0m\u001b[0mappend\u001b[0m\u001b[0;34m(\u001b[0m\u001b[0mname\u001b[0m\u001b[0;34m)\u001b[0m\u001b[0;34m\u001b[0m\u001b[0m\n\u001b[1;32m   2464\u001b[0m         \u001b[0;32melif\u001b[0m \u001b[0misinstance\u001b[0m\u001b[0;34m(\u001b[0m\u001b[0mgpr\u001b[0m\u001b[0;34m,\u001b[0m \u001b[0mGrouper\u001b[0m\u001b[0;34m)\u001b[0m \u001b[0;32mand\u001b[0m \u001b[0mgpr\u001b[0m\u001b[0;34m.\u001b[0m\u001b[0mkey\u001b[0m \u001b[0;32mis\u001b[0m \u001b[0;32mnot\u001b[0m \u001b[0;32mNone\u001b[0m\u001b[0;34m:\u001b[0m\u001b[0;34m\u001b[0m\u001b[0m\n",
      "\u001b[0;32m/opt/conda/lib/python3.6/site-packages/pandas/core/frame.py\u001b[0m in \u001b[0;36m__getitem__\u001b[0;34m(self, key)\u001b[0m\n\u001b[1;32m   2057\u001b[0m             \u001b[0;32mreturn\u001b[0m \u001b[0mself\u001b[0m\u001b[0;34m.\u001b[0m\u001b[0m_getitem_multilevel\u001b[0m\u001b[0;34m(\u001b[0m\u001b[0mkey\u001b[0m\u001b[0;34m)\u001b[0m\u001b[0;34m\u001b[0m\u001b[0m\n\u001b[1;32m   2058\u001b[0m         \u001b[0;32melse\u001b[0m\u001b[0;34m:\u001b[0m\u001b[0;34m\u001b[0m\u001b[0m\n\u001b[0;32m-> 2059\u001b[0;31m             \u001b[0;32mreturn\u001b[0m \u001b[0mself\u001b[0m\u001b[0;34m.\u001b[0m\u001b[0m_getitem_column\u001b[0m\u001b[0;34m(\u001b[0m\u001b[0mkey\u001b[0m\u001b[0;34m)\u001b[0m\u001b[0;34m\u001b[0m\u001b[0m\n\u001b[0m\u001b[1;32m   2060\u001b[0m \u001b[0;34m\u001b[0m\u001b[0m\n\u001b[1;32m   2061\u001b[0m     \u001b[0;32mdef\u001b[0m \u001b[0m_getitem_column\u001b[0m\u001b[0;34m(\u001b[0m\u001b[0mself\u001b[0m\u001b[0;34m,\u001b[0m \u001b[0mkey\u001b[0m\u001b[0;34m)\u001b[0m\u001b[0;34m:\u001b[0m\u001b[0;34m\u001b[0m\u001b[0m\n",
      "\u001b[0;32m/opt/conda/lib/python3.6/site-packages/pandas/core/frame.py\u001b[0m in \u001b[0;36m_getitem_column\u001b[0;34m(self, key)\u001b[0m\n\u001b[1;32m   2064\u001b[0m         \u001b[0;31m# get column\u001b[0m\u001b[0;34m\u001b[0m\u001b[0;34m\u001b[0m\u001b[0m\n\u001b[1;32m   2065\u001b[0m         \u001b[0;32mif\u001b[0m \u001b[0mself\u001b[0m\u001b[0;34m.\u001b[0m\u001b[0mcolumns\u001b[0m\u001b[0;34m.\u001b[0m\u001b[0mis_unique\u001b[0m\u001b[0;34m:\u001b[0m\u001b[0;34m\u001b[0m\u001b[0m\n\u001b[0;32m-> 2066\u001b[0;31m             \u001b[0;32mreturn\u001b[0m \u001b[0mself\u001b[0m\u001b[0;34m.\u001b[0m\u001b[0m_get_item_cache\u001b[0m\u001b[0;34m(\u001b[0m\u001b[0mkey\u001b[0m\u001b[0;34m)\u001b[0m\u001b[0;34m\u001b[0m\u001b[0m\n\u001b[0m\u001b[1;32m   2067\u001b[0m \u001b[0;34m\u001b[0m\u001b[0m\n\u001b[1;32m   2068\u001b[0m         \u001b[0;31m# duplicate columns & possible reduce dimensionality\u001b[0m\u001b[0;34m\u001b[0m\u001b[0;34m\u001b[0m\u001b[0m\n",
      "\u001b[0;32m/opt/conda/lib/python3.6/site-packages/pandas/core/generic.py\u001b[0m in \u001b[0;36m_get_item_cache\u001b[0;34m(self, item)\u001b[0m\n\u001b[1;32m   1384\u001b[0m         \u001b[0mres\u001b[0m \u001b[0;34m=\u001b[0m \u001b[0mcache\u001b[0m\u001b[0;34m.\u001b[0m\u001b[0mget\u001b[0m\u001b[0;34m(\u001b[0m\u001b[0mitem\u001b[0m\u001b[0;34m)\u001b[0m\u001b[0;34m\u001b[0m\u001b[0m\n\u001b[1;32m   1385\u001b[0m         \u001b[0;32mif\u001b[0m \u001b[0mres\u001b[0m \u001b[0;32mis\u001b[0m \u001b[0;32mNone\u001b[0m\u001b[0;34m:\u001b[0m\u001b[0;34m\u001b[0m\u001b[0m\n\u001b[0;32m-> 1386\u001b[0;31m             \u001b[0mvalues\u001b[0m \u001b[0;34m=\u001b[0m \u001b[0mself\u001b[0m\u001b[0;34m.\u001b[0m\u001b[0m_data\u001b[0m\u001b[0;34m.\u001b[0m\u001b[0mget\u001b[0m\u001b[0;34m(\u001b[0m\u001b[0mitem\u001b[0m\u001b[0;34m)\u001b[0m\u001b[0;34m\u001b[0m\u001b[0m\n\u001b[0m\u001b[1;32m   1387\u001b[0m             \u001b[0mres\u001b[0m \u001b[0;34m=\u001b[0m \u001b[0mself\u001b[0m\u001b[0;34m.\u001b[0m\u001b[0m_box_item_values\u001b[0m\u001b[0;34m(\u001b[0m\u001b[0mitem\u001b[0m\u001b[0;34m,\u001b[0m \u001b[0mvalues\u001b[0m\u001b[0;34m)\u001b[0m\u001b[0;34m\u001b[0m\u001b[0m\n\u001b[1;32m   1388\u001b[0m             \u001b[0mcache\u001b[0m\u001b[0;34m[\u001b[0m\u001b[0mitem\u001b[0m\u001b[0;34m]\u001b[0m \u001b[0;34m=\u001b[0m \u001b[0mres\u001b[0m\u001b[0;34m\u001b[0m\u001b[0m\n",
      "\u001b[0;32m/opt/conda/lib/python3.6/site-packages/pandas/core/internals.py\u001b[0m in \u001b[0;36mget\u001b[0;34m(self, item, fastpath)\u001b[0m\n\u001b[1;32m   3541\u001b[0m \u001b[0;34m\u001b[0m\u001b[0m\n\u001b[1;32m   3542\u001b[0m             \u001b[0;32mif\u001b[0m \u001b[0;32mnot\u001b[0m \u001b[0misnull\u001b[0m\u001b[0;34m(\u001b[0m\u001b[0mitem\u001b[0m\u001b[0;34m)\u001b[0m\u001b[0;34m:\u001b[0m\u001b[0;34m\u001b[0m\u001b[0m\n\u001b[0;32m-> 3543\u001b[0;31m                 \u001b[0mloc\u001b[0m \u001b[0;34m=\u001b[0m \u001b[0mself\u001b[0m\u001b[0;34m.\u001b[0m\u001b[0mitems\u001b[0m\u001b[0;34m.\u001b[0m\u001b[0mget_loc\u001b[0m\u001b[0;34m(\u001b[0m\u001b[0mitem\u001b[0m\u001b[0;34m)\u001b[0m\u001b[0;34m\u001b[0m\u001b[0m\n\u001b[0m\u001b[1;32m   3544\u001b[0m             \u001b[0;32melse\u001b[0m\u001b[0;34m:\u001b[0m\u001b[0;34m\u001b[0m\u001b[0m\n\u001b[1;32m   3545\u001b[0m                 \u001b[0mindexer\u001b[0m \u001b[0;34m=\u001b[0m \u001b[0mnp\u001b[0m\u001b[0;34m.\u001b[0m\u001b[0marange\u001b[0m\u001b[0;34m(\u001b[0m\u001b[0mlen\u001b[0m\u001b[0;34m(\u001b[0m\u001b[0mself\u001b[0m\u001b[0;34m.\u001b[0m\u001b[0mitems\u001b[0m\u001b[0;34m)\u001b[0m\u001b[0;34m)\u001b[0m\u001b[0;34m[\u001b[0m\u001b[0misnull\u001b[0m\u001b[0;34m(\u001b[0m\u001b[0mself\u001b[0m\u001b[0;34m.\u001b[0m\u001b[0mitems\u001b[0m\u001b[0;34m)\u001b[0m\u001b[0;34m]\u001b[0m\u001b[0;34m\u001b[0m\u001b[0m\n",
      "\u001b[0;32m/opt/conda/lib/python3.6/site-packages/pandas/indexes/base.py\u001b[0m in \u001b[0;36mget_loc\u001b[0;34m(self, key, method, tolerance)\u001b[0m\n\u001b[1;32m   2134\u001b[0m                 \u001b[0;32mreturn\u001b[0m \u001b[0mself\u001b[0m\u001b[0;34m.\u001b[0m\u001b[0m_engine\u001b[0m\u001b[0;34m.\u001b[0m\u001b[0mget_loc\u001b[0m\u001b[0;34m(\u001b[0m\u001b[0mkey\u001b[0m\u001b[0;34m)\u001b[0m\u001b[0;34m\u001b[0m\u001b[0m\n\u001b[1;32m   2135\u001b[0m             \u001b[0;32mexcept\u001b[0m \u001b[0mKeyError\u001b[0m\u001b[0;34m:\u001b[0m\u001b[0;34m\u001b[0m\u001b[0m\n\u001b[0;32m-> 2136\u001b[0;31m                 \u001b[0;32mreturn\u001b[0m \u001b[0mself\u001b[0m\u001b[0;34m.\u001b[0m\u001b[0m_engine\u001b[0m\u001b[0;34m.\u001b[0m\u001b[0mget_loc\u001b[0m\u001b[0;34m(\u001b[0m\u001b[0mself\u001b[0m\u001b[0;34m.\u001b[0m\u001b[0m_maybe_cast_indexer\u001b[0m\u001b[0;34m(\u001b[0m\u001b[0mkey\u001b[0m\u001b[0;34m)\u001b[0m\u001b[0;34m)\u001b[0m\u001b[0;34m\u001b[0m\u001b[0m\n\u001b[0m\u001b[1;32m   2137\u001b[0m \u001b[0;34m\u001b[0m\u001b[0m\n\u001b[1;32m   2138\u001b[0m         \u001b[0mindexer\u001b[0m \u001b[0;34m=\u001b[0m \u001b[0mself\u001b[0m\u001b[0;34m.\u001b[0m\u001b[0mget_indexer\u001b[0m\u001b[0;34m(\u001b[0m\u001b[0;34m[\u001b[0m\u001b[0mkey\u001b[0m\u001b[0;34m]\u001b[0m\u001b[0;34m,\u001b[0m \u001b[0mmethod\u001b[0m\u001b[0;34m=\u001b[0m\u001b[0mmethod\u001b[0m\u001b[0;34m,\u001b[0m \u001b[0mtolerance\u001b[0m\u001b[0;34m=\u001b[0m\u001b[0mtolerance\u001b[0m\u001b[0;34m)\u001b[0m\u001b[0;34m\u001b[0m\u001b[0m\n",
      "\u001b[0;32mpandas/index.pyx\u001b[0m in \u001b[0;36mpandas.index.IndexEngine.get_loc (pandas/index.c:4433)\u001b[0;34m()\u001b[0m\n",
      "\u001b[0;32mpandas/index.pyx\u001b[0m in \u001b[0;36mpandas.index.IndexEngine.get_loc (pandas/index.c:4279)\u001b[0;34m()\u001b[0m\n",
      "\u001b[0;32mpandas/src/hashtable_class_helper.pxi\u001b[0m in \u001b[0;36mpandas.hashtable.PyObjectHashTable.get_item (pandas/hashtable.c:13742)\u001b[0;34m()\u001b[0m\n",
      "\u001b[0;32mpandas/src/hashtable_class_helper.pxi\u001b[0m in \u001b[0;36mpandas.hashtable.PyObjectHashTable.get_item (pandas/hashtable.c:13696)\u001b[0;34m()\u001b[0m\n",
      "\u001b[0;31mKeyError\u001b[0m: 'team'"
     ]
    }
   ],
   "source": [
    "df = df.groupby('team').mean()\n",
    "df"
   ]
  },
  {
   "cell_type": "code",
   "execution_count": 137,
   "metadata": {},
   "outputs": [],
   "source": [
    "stan_code = '''\n",
    "data{\n",
    "    int<lower=1> N;\n",
    "    int<lower=1> N_team;\n",
    "    int goals[N];\n",
    "    int team[N];\n",
    "    real home[N];\n",
    "}\n",
    "parameters{\n",
    "    vector[N_team] alpha;\n",
    "    real beta;\n",
    "    real mu_a;\n",
    "    real mu_b;\n",
    "    real<lower=0> sigma_a;\n",
    "    real<lower=0> sigma_b;\n",
    "}\n",
    "model{\n",
    "    vector[N] lambda;\n",
    "    sigma_b ~ cauchy( 0 , 1 );\n",
    "    sigma_a ~ cauchy( 0 , 1 );\n",
    "    mu_b ~ normal( 0 , 1 );\n",
    "    mu_a ~ normal( 1 , 1 );\n",
    "    beta ~ normal( mu_b , sigma_b );\n",
    "    alpha ~ normal( mu_a , sigma_a );\n",
    "    for ( i in 1:N ) {\n",
    "        lambda[i] = alpha[team[i]] + beta * home[i];\n",
    "    }\n",
    "    goals ~ poisson_log( lambda );\n",
    "}\n",
    "generated quantities{\n",
    "    vector[N] lambda;\n",
    "    real dev;\n",
    "    dev = 0;\n",
    "    for ( i in 1:N ) {\n",
    "        lambda[i] = alpha[team[i]] + beta * home[i];\n",
    "    }\n",
    "    dev = dev + (-2)*poisson_log_lpmf( goals | lambda );\n",
    "}\n",
    "'''"
   ]
  },
  {
   "cell_type": "code",
   "execution_count": 138,
   "metadata": {},
   "outputs": [
    {
     "data": {
      "text/plain": [
       "14"
      ]
     },
     "execution_count": 138,
     "metadata": {},
     "output_type": "execute_result"
    }
   ],
   "source": [
    "df['team_no'].drop_duplicates().shape[0]"
   ]
  },
  {
   "cell_type": "code",
   "execution_count": 139,
   "metadata": {},
   "outputs": [],
   "source": [
    "d_dat = {}\n",
    "d_dat['N'] = df.shape[0]\n",
    "d_dat['N_team'] = df['team_no'].drop_duplicates().shape[0]\n",
    "d_dat['goals'] = df['goals'].tolist()\n",
    "d_dat['team'] = df['team_no'].tolist()\n",
    "d_dat['home'] = df['home'].tolist()\n"
   ]
  },
  {
   "cell_type": "code",
   "execution_count": 140,
   "metadata": {},
   "outputs": [
    {
     "name": "stderr",
     "output_type": "stream",
     "text": [
      "INFO:pystan:COMPILING THE C++ CODE FOR MODEL anon_model_0b7d47eb7256ea939cd47120b6e2287d NOW.\n"
     ]
    }
   ],
   "source": [
    "import pystan\n",
    "sm = pystan.StanModel(model_code=stan_code)\n",
    "fit = sm.sampling(data=d_dat, iter=1000, chains=4)"
   ]
  },
  {
   "cell_type": "code",
   "execution_count": 153,
   "metadata": {},
   "outputs": [
    {
     "data": {
      "text/plain": [
       "array([ 0.91778048,  0.92109137,  0.80476689,  0.80100819,  0.77562159,\n",
       "        1.09125585,  0.96676526,  0.83975366,  0.81901067,  0.7314441 ,\n",
       "        0.7346798 ,  0.7823809 ,  0.84701135,  0.87365454])"
      ]
     },
     "execution_count": 153,
     "metadata": {},
     "output_type": "execute_result"
    }
   ],
   "source": [
    "fit.extract()['alpha'][0]"
   ]
  },
  {
   "cell_type": "code",
   "execution_count": 150,
   "metadata": {},
   "outputs": [
    {
     "name": "stdout",
     "output_type": "stream",
     "text": [
      "Inference for Stan model: anon_model_0b7d47eb7256ea939cd47120b6e2287d.\n",
      "4 chains, each with iter=1000; warmup=500; thin=1; \n",
      "post-warmup draws per chain=500, total post-warmup draws=2000.\n",
      "\n",
      "              mean se_mean     sd   2.5%    25%    50%    75%  97.5%  n_eff   Rhat\n",
      "alpha[0]      0.99  4.5e-3   0.13   0.74    0.9   0.98   1.08   1.26    866    1.0\n",
      "alpha[1]      0.88  3.8e-3   0.13   0.63    0.8   0.88   0.96   1.14   1143    1.0\n",
      "alpha[2]      0.91  4.3e-3   0.13   0.64   0.82    0.9   0.99   1.17    955    1.0\n",
      "alpha[3]      0.83  3.8e-3   0.13   0.59   0.75   0.83   0.92   1.08   1062   1.01\n",
      "alpha[4]      0.82  3.1e-3   0.14   0.53   0.73   0.83   0.91   1.07   2000   1.01\n",
      "alpha[5]      1.01  4.9e-3   0.13   0.75   0.93   1.01    1.1   1.28    721    1.0\n",
      "alpha[6]      0.85  3.9e-3   0.13   0.59   0.77   0.86   0.94   1.11   1097    1.0\n",
      "alpha[7]      0.79  4.1e-3   0.13   0.52   0.71    0.8   0.89   1.04   1047    1.0\n",
      "alpha[8]      0.88  3.9e-3   0.13   0.63   0.79   0.88   0.96   1.13   1031   1.01\n",
      "alpha[9]      0.74  5.8e-3   0.15   0.42   0.64   0.74   0.85   0.99    646   1.01\n",
      "alpha[10]     0.72  6.4e-3   0.15    0.4   0.62   0.73   0.82   0.97    517   1.01\n",
      "alpha[11]     0.83  4.6e-3   0.13   0.57   0.75   0.84   0.92   1.08    771   1.01\n",
      "alpha[12]      0.8  4.3e-3   0.13   0.53   0.72    0.8   0.89   1.06    899   1.01\n",
      "alpha[13]     0.61  8.1e-3   0.18   0.23    0.5   0.63   0.73   0.91    484   1.01\n",
      "beta          0.18  3.9e-3   0.09   0.01   0.12   0.18   0.24   0.36    520   1.01\n",
      "mu_a          0.83  3.5e-3   0.08   0.67   0.78   0.84   0.89   0.99    550   1.01\n",
      "mu_b          0.11    0.02   0.61  -1.31  -0.18   0.14   0.43   1.32    739   1.01\n",
      "sigma_a       0.17  3.9e-3   0.07   0.05   0.12   0.16   0.21   0.33    359   1.01\n",
      "sigma_b       1.07    0.06   1.93   0.07    0.3   0.62   1.22   4.39    989    1.0\n",
      "lambda[0]     1.17  4.5e-3   0.13   0.93   1.08   1.16   1.26   1.44    848   1.01\n",
      "lambda[1]     1.06  2.8e-3   0.12   0.81   0.99   1.06   1.14   1.32   2000    1.0\n",
      "lambda[2]     1.09  2.8e-3   0.12   0.84   1.01   1.09   1.17   1.34   2000    1.0\n",
      "lambda[3]     1.01  2.8e-3   0.12   0.77   0.93   1.02   1.09   1.26   2000    1.0\n",
      "lambda[4]      1.0  3.0e-3   0.13   0.73   0.92   1.01   1.09   1.25   2000    1.0\n",
      "lambda[5]     1.19  4.6e-3   0.13   0.95   1.11   1.19   1.28   1.46    804    1.0\n",
      "lambda[6]     1.04  2.8e-3   0.13   0.78   0.96   1.04   1.12   1.28   2000    1.0\n",
      "lambda[7]     0.98  2.9e-3   0.13   0.71   0.89   0.98   1.07   1.22   2000    1.0\n",
      "lambda[8]     1.06  2.8e-3   0.12   0.82   0.97   1.06   1.14    1.3   2000    1.0\n",
      "lambda[9]     0.92  4.1e-3   0.14   0.61   0.83   0.94   1.02   1.17   1234    1.0\n",
      "lambda[10]     0.9  3.1e-3   0.14    0.6   0.81   0.91    1.0   1.14   2000    1.0\n",
      "lambda[11]    1.09  2.8e-3   0.12   0.84   1.01   1.09   1.17   1.34   2000    1.0\n",
      "lambda[12]    1.02  2.8e-3   0.12   0.76   0.94   1.02    1.1   1.25   2000    1.0\n",
      "lambda[13]    0.99  2.9e-3   0.13   0.71   0.91   0.99   1.07   1.24   2000    1.0\n",
      "lambda[14]    1.17  4.5e-3   0.13   0.93   1.08   1.16   1.26   1.44    848   1.01\n",
      "lambda[15]     1.0  3.0e-3   0.13   0.73   0.92   1.01   1.09   1.25   2000    1.0\n",
      "lambda[16]    1.19  4.6e-3   0.13   0.95   1.11   1.19   1.28   1.46    804    1.0\n",
      "lambda[17]    0.79  6.8e-3   0.17   0.42   0.68   0.81   0.91   1.08    654    1.0\n",
      "lambda[18]    1.06  2.8e-3   0.12   0.81   0.99   1.06   1.14   1.32   2000    1.0\n",
      "lambda[19]    1.04  2.8e-3   0.13   0.78   0.96   1.04   1.12   1.28   2000    1.0\n",
      "lambda[20]    1.06  2.8e-3   0.12   0.82   0.97   1.06   1.14    1.3   2000    1.0\n",
      "lambda[21]    1.01  2.8e-3   0.12   0.77   0.93   1.02   1.09   1.26   2000    1.0\n",
      "lambda[22]     0.9  3.1e-3   0.14    0.6   0.81   0.91    1.0   1.14   2000    1.0\n",
      "lambda[23]    0.92  4.1e-3   0.14   0.61   0.83   0.94   1.02   1.17   1234    1.0\n",
      "lambda[24]    1.04  2.8e-3   0.13   0.78   0.96   1.04   1.12   1.28   2000    1.0\n",
      "lambda[25]    0.99  2.9e-3   0.13   0.71   0.91   0.99   1.07   1.24   2000    1.0\n",
      "lambda[26]    0.98  2.9e-3   0.13   0.71   0.89   0.98   1.07   1.22   2000    1.0\n",
      "lambda[27]     0.9  3.1e-3   0.14    0.6   0.81   0.91    1.0   1.14   2000    1.0\n",
      "lambda[28]    1.17  4.5e-3   0.13   0.93   1.08   1.16   1.26   1.44    848   1.01\n",
      "lambda[29]    1.09  2.8e-3   0.12   0.84   1.01   1.09   1.17   1.34   2000    1.0\n",
      "lambda[30]    1.19  4.6e-3   0.13   0.95   1.11   1.19   1.28   1.46    804    1.0\n",
      "lambda[31]    0.99  2.9e-3   0.13   0.71   0.91   0.99   1.07   1.24   2000    1.0\n",
      "lambda[32]    0.79  6.8e-3   0.17   0.42   0.68   0.81   0.91   1.08    654    1.0\n",
      "lambda[33]    1.06  2.8e-3   0.12   0.81   0.99   1.06   1.14   1.32   2000    1.0\n",
      "lambda[34]    1.02  2.8e-3   0.12   0.76   0.94   1.02    1.1   1.25   2000    1.0\n",
      "lambda[35]    1.04  2.8e-3   0.13   0.78   0.96   1.04   1.12   1.28   2000    1.0\n",
      "lambda[36]     1.0  3.0e-3   0.13   0.73   0.92   1.01   1.09   1.25   2000    1.0\n",
      "lambda[37]    0.99  2.9e-3   0.13   0.71   0.91   0.99   1.07   1.24   2000    1.0\n",
      "lambda[38]    0.79  6.8e-3   0.17   0.42   0.68   0.81   0.91   1.08    654    1.0\n",
      "lambda[39]    1.17  4.5e-3   0.13   0.93   1.08   1.16   1.26   1.44    848   1.01\n",
      "lambda[40]    1.06  2.8e-3   0.12   0.82   0.97   1.06   1.14    1.3   2000    1.0\n",
      "lambda[41]    1.02  2.8e-3   0.12   0.76   0.94   1.02    1.1   1.25   2000    1.0\n",
      "lambda[42]    1.09  2.8e-3   0.12   0.84   1.01   1.09   1.17   1.34   2000    1.0\n",
      "lambda[43]    0.92  4.1e-3   0.14   0.61   0.83   0.94   1.02   1.17   1234    1.0\n",
      "lambda[44]    1.01  2.8e-3   0.12   0.77   0.93   1.02   1.09   1.26   2000    1.0\n",
      "lambda[45]    1.06  2.8e-3   0.12   0.82   0.97   1.06   1.14    1.3   2000    1.0\n",
      "lambda[46]    1.02  2.8e-3   0.12   0.76   0.94   1.02    1.1   1.25   2000    1.0\n",
      "lambda[47]    1.04  2.8e-3   0.13   0.78   0.96   1.04   1.12   1.28   2000    1.0\n",
      "lambda[48]     0.9  3.1e-3   0.14    0.6   0.81   0.91    1.0   1.14   2000    1.0\n",
      "lambda[49]    1.06  2.8e-3   0.12   0.81   0.99   1.06   1.14   1.32   2000    1.0\n",
      "lambda[50]    1.06  2.8e-3   0.12   0.82   0.97   1.06   1.14    1.3   2000    1.0\n",
      "lambda[51]    1.01  2.8e-3   0.12   0.77   0.93   1.02   1.09   1.26   2000    1.0\n",
      "lambda[52]    0.79  6.8e-3   0.17   0.42   0.68   0.81   0.91   1.08    654    1.0\n",
      "lambda[53]    1.04  2.8e-3   0.13   0.78   0.96   1.04   1.12   1.28   2000    1.0\n",
      "lambda[54]    1.17  4.5e-3   0.13   0.93   1.08   1.16   1.26   1.44    848   1.01\n",
      "lambda[55]    1.19  4.6e-3   0.13   0.95   1.11   1.19   1.28   1.46    804    1.0\n",
      "lambda[56]    0.98  2.9e-3   0.13   0.71   0.89   0.98   1.07   1.22   2000    1.0\n",
      "lambda[57]    1.02  2.8e-3   0.12   0.76   0.94   1.02    1.1   1.25   2000    1.0\n",
      "lambda[58]    1.17  4.5e-3   0.13   0.93   1.08   1.16   1.26   1.44    848   1.01\n",
      "lambda[59]     0.9  3.1e-3   0.14    0.6   0.81   0.91    1.0   1.14   2000    1.0\n",
      "lambda[60]     1.0  3.0e-3   0.13   0.73   0.92   1.01   1.09   1.25   2000    1.0\n",
      "lambda[61]    1.09  2.8e-3   0.12   0.84   1.01   1.09   1.17   1.34   2000    1.0\n",
      "lambda[62]    1.06  2.8e-3   0.12   0.81   0.99   1.06   1.14   1.32   2000    1.0\n",
      "lambda[63]    0.92  4.1e-3   0.14   0.61   0.83   0.94   1.02   1.17   1234    1.0\n",
      "lambda[64]    1.19  4.6e-3   0.13   0.95   1.11   1.19   1.28   1.46    804    1.0\n",
      "lambda[65]    0.79  6.8e-3   0.17   0.42   0.68   0.81   0.91   1.08    654    1.0\n",
      "lambda[66]    1.09  2.8e-3   0.12   0.84   1.01   1.09   1.17   1.34   2000    1.0\n",
      "lambda[67]    0.98  2.9e-3   0.13   0.71   0.89   0.98   1.07   1.22   2000    1.0\n",
      "lambda[68]    0.92  4.1e-3   0.14   0.61   0.83   0.94   1.02   1.17   1234    1.0\n",
      "lambda[69]    1.06  2.8e-3   0.12   0.82   0.97   1.06   1.14    1.3   2000    1.0\n",
      "lambda[70]    1.01  2.8e-3   0.12   0.77   0.93   1.02   1.09   1.26   2000    1.0\n",
      "lambda[71]     1.0  3.0e-3   0.13   0.73   0.92   1.01   1.09   1.25   2000    1.0\n",
      "lambda[72]    1.17  4.5e-3   0.13   0.93   1.08   1.16   1.26   1.44    848   1.01\n",
      "lambda[73]     0.9  3.1e-3   0.14    0.6   0.81   0.91    1.0   1.14   2000    1.0\n",
      "lambda[74]    0.92  4.1e-3   0.14   0.61   0.83   0.94   1.02   1.17   1234    1.0\n",
      "lambda[75]    0.79  6.8e-3   0.17   0.42   0.68   0.81   0.91   1.08    654    1.0\n",
      "lambda[76]    1.02  2.8e-3   0.12   0.76   0.94   1.02    1.1   1.25   2000    1.0\n",
      "lambda[77]    0.99  2.9e-3   0.13   0.71   0.91   0.99   1.07   1.24   2000    1.0\n",
      "lambda[78]    1.19  4.6e-3   0.13   0.95   1.11   1.19   1.28   1.46    804    1.0\n",
      "lambda[79]    0.92  4.1e-3   0.14   0.61   0.83   0.94   1.02   1.17   1234    1.0\n",
      "lambda[80]    0.79  6.8e-3   0.17   0.42   0.68   0.81   0.91   1.08    654    1.0\n",
      "lambda[81]    1.06  2.8e-3   0.12   0.81   0.99   1.06   1.14   1.32   2000    1.0\n",
      "lambda[82]     1.0  3.0e-3   0.13   0.73   0.92   1.01   1.09   1.25   2000    1.0\n",
      "lambda[83]    1.09  2.8e-3   0.12   0.84   1.01   1.09   1.17   1.34   2000    1.0\n",
      "lambda[84]    0.99  2.9e-3   0.13   0.71   0.91   0.99   1.07   1.24   2000    1.0\n",
      "lambda[85]    1.17  4.5e-3   0.13   0.93   1.08   1.16   1.26   1.44    848   1.01\n",
      "lambda[86]     0.9  3.1e-3   0.14    0.6   0.81   0.91    1.0   1.14   2000    1.0\n",
      "lambda[87]    0.98  2.9e-3   0.13   0.71   0.89   0.98   1.07   1.22   2000    1.0\n",
      "lambda[88]    1.01  2.8e-3   0.12   0.77   0.93   1.02   1.09   1.26   2000    1.0\n",
      "lambda[89]    1.06  2.8e-3   0.12   0.82   0.97   1.06   1.14    1.3   2000    1.0\n",
      "lambda[90]    1.02  2.8e-3   0.12   0.76   0.94   1.02    1.1   1.25   2000    1.0\n",
      "lambda[91]    1.04  2.8e-3   0.13   0.78   0.96   1.04   1.12   1.28   2000    1.0\n",
      "lambda[92]    0.79  6.8e-3   0.17   0.42   0.68   0.81   0.91   1.08    654    1.0\n",
      "lambda[93]    1.09  2.8e-3   0.12   0.84   1.01   1.09   1.17   1.34   2000    1.0\n",
      "lambda[94]    1.04  2.8e-3   0.13   0.78   0.96   1.04   1.12   1.28   2000    1.0\n",
      "lambda[95]    0.92  4.1e-3   0.14   0.61   0.83   0.94   1.02   1.17   1234    1.0\n",
      "lambda[96]    0.99  2.9e-3   0.13   0.71   0.91   0.99   1.07   1.24   2000    1.0\n",
      "lambda[97]    1.19  4.6e-3   0.13   0.95   1.11   1.19   1.28   1.46    804    1.0\n",
      "lambda[98]    1.06  2.8e-3   0.12   0.81   0.99   1.06   1.14   1.32   2000    1.0\n",
      "lambda[99]    0.88  3.9e-3   0.13   0.63   0.79   0.88   0.96   1.13   1031   1.01\n",
      "lambda[100]   0.61  8.1e-3   0.18   0.23    0.5   0.63   0.73   0.91    484   1.01\n",
      "lambda[101]    0.8  4.3e-3   0.13   0.53   0.72    0.8   0.89   1.06    899   1.01\n",
      "lambda[102]   0.79  4.1e-3   0.13   0.52   0.71    0.8   0.89   1.04   1047    1.0\n",
      "lambda[103]   0.74  5.8e-3   0.15   0.42   0.64   0.74   0.85   0.99    646   1.01\n",
      "lambda[104]   0.72  6.4e-3   0.15    0.4   0.62   0.73   0.82   0.97    517   1.01\n",
      "lambda[105]   0.83  4.6e-3   0.13   0.57   0.75   0.84   0.92   1.08    771   1.01\n",
      "lambda[106]   0.83  3.8e-3   0.13   0.59   0.75   0.83   0.92   1.08   1062   1.01\n",
      "lambda[107]   0.99  4.5e-3   0.13   0.74    0.9   0.98   1.08   1.26    866    1.0\n",
      "lambda[108]   0.88  3.8e-3   0.13   0.63    0.8   0.88   0.96   1.14   1143    1.0\n",
      "lambda[109]   1.01  4.9e-3   0.13   0.75   0.93   1.01    1.1   1.28    721    1.0\n",
      "lambda[110]   0.85  3.9e-3   0.13   0.59   0.77   0.86   0.94   1.11   1097    1.0\n",
      "lambda[111]   0.82  3.1e-3   0.14   0.53   0.73   0.83   0.91   1.07   2000   1.01\n",
      "lambda[112]   0.61  8.1e-3   0.18   0.23    0.5   0.63   0.73   0.91    484   1.01\n",
      "lambda[113]   0.79  4.1e-3   0.13   0.52   0.71    0.8   0.89   1.04   1047    1.0\n",
      "lambda[114]   0.83  4.6e-3   0.13   0.57   0.75   0.84   0.92   1.08    771   1.01\n",
      "lambda[115]   0.91  4.3e-3   0.13   0.64   0.82    0.9   0.99   1.17    955    1.0\n",
      "lambda[116]   0.74  5.8e-3   0.15   0.42   0.64   0.74   0.85   0.99    646   1.01\n",
      "lambda[117]    0.8  4.3e-3   0.13   0.53   0.72    0.8   0.89   1.06    899   1.01\n",
      "lambda[118]   0.72  6.4e-3   0.15    0.4   0.62   0.73   0.82   0.97    517   1.01\n",
      "lambda[119]   0.83  3.8e-3   0.13   0.59   0.75   0.83   0.92   1.08   1062   1.01\n",
      "lambda[120]   1.01  4.9e-3   0.13   0.75   0.93   1.01    1.1   1.28    721    1.0\n",
      "lambda[121]   0.79  4.1e-3   0.13   0.52   0.71    0.8   0.89   1.04   1047    1.0\n",
      "lambda[122]   0.91  4.3e-3   0.13   0.64   0.82    0.9   0.99   1.17    955    1.0\n",
      "lambda[123]   0.99  4.5e-3   0.13   0.74    0.9   0.98   1.08   1.26    866    1.0\n",
      "lambda[124]   0.82  3.1e-3   0.14   0.53   0.73   0.83   0.91   1.07   2000   1.01\n",
      "lambda[125]   0.85  3.9e-3   0.13   0.59   0.77   0.86   0.94   1.11   1097    1.0\n",
      "lambda[126]   0.82  3.1e-3   0.14   0.53   0.73   0.83   0.91   1.07   2000   1.01\n",
      "lambda[127]   0.83  4.6e-3   0.13   0.57   0.75   0.84   0.92   1.08    771   1.01\n",
      "lambda[128]   0.88  3.8e-3   0.13   0.63    0.8   0.88   0.96   1.14   1143    1.0\n",
      "lambda[129]   0.74  5.8e-3   0.15   0.42   0.64   0.74   0.85   0.99    646   1.01\n",
      "lambda[130]   0.83  3.8e-3   0.13   0.59   0.75   0.83   0.92   1.08   1062   1.01\n",
      "lambda[131]   0.88  3.9e-3   0.13   0.63   0.79   0.88   0.96   1.13   1031   1.01\n",
      "lambda[132]   0.74  5.8e-3   0.15   0.42   0.64   0.74   0.85   0.99    646   1.01\n",
      "lambda[133]   0.88  3.9e-3   0.13   0.63   0.79   0.88   0.96   1.13   1031   1.01\n",
      "lambda[134]   0.83  3.8e-3   0.13   0.59   0.75   0.83   0.92   1.08   1062   1.01\n",
      "lambda[135]   1.01  4.9e-3   0.13   0.75   0.93   1.01    1.1   1.28    721    1.0\n",
      "lambda[136]   1.01  4.9e-3   0.13   0.75   0.93   1.01    1.1   1.28    721    1.0\n",
      "lambda[137]   0.91  4.3e-3   0.13   0.64   0.82    0.9   0.99   1.17    955    1.0\n",
      "lambda[138]   0.72  6.4e-3   0.15    0.4   0.62   0.73   0.82   0.97    517   1.01\n",
      "lambda[139]   0.79  4.1e-3   0.13   0.52   0.71    0.8   0.89   1.04   1047    1.0\n",
      "lambda[140]   0.85  3.9e-3   0.13   0.59   0.77   0.86   0.94   1.11   1097    1.0\n",
      "lambda[141]   0.61  8.1e-3   0.18   0.23    0.5   0.63   0.73   0.91    484   1.01\n",
      "lambda[142]   0.82  3.1e-3   0.14   0.53   0.73   0.83   0.91   1.07   2000   1.01\n",
      "lambda[143]   0.79  4.1e-3   0.13   0.52   0.71    0.8   0.89   1.04   1047    1.0\n",
      "lambda[144]   1.01  4.9e-3   0.13   0.75   0.93   1.01    1.1   1.28    721    1.0\n",
      "lambda[145]   0.88  3.8e-3   0.13   0.63    0.8   0.88   0.96   1.14   1143    1.0\n",
      "lambda[146]    0.8  4.3e-3   0.13   0.53   0.72    0.8   0.89   1.06    899   1.01\n",
      "lambda[147]   0.99  4.5e-3   0.13   0.74    0.9   0.98   1.08   1.26    866    1.0\n",
      "lambda[148]   0.83  3.8e-3   0.13   0.59   0.75   0.83   0.92   1.08   1062   1.01\n",
      "lambda[149]   0.91  4.3e-3   0.13   0.64   0.82    0.9   0.99   1.17    955    1.0\n",
      "lambda[150]   0.83  4.6e-3   0.13   0.57   0.75   0.84   0.92   1.08    771   1.01\n",
      "lambda[151]   0.82  3.1e-3   0.14   0.53   0.73   0.83   0.91   1.07   2000   1.01\n",
      "lambda[152]   0.74  5.8e-3   0.15   0.42   0.64   0.74   0.85   0.99    646   1.01\n",
      "lambda[153]   0.88  3.8e-3   0.13   0.63    0.8   0.88   0.96   1.14   1143    1.0\n",
      "lambda[154]   0.72  6.4e-3   0.15    0.4   0.62   0.73   0.82   0.97    517   1.01\n",
      "lambda[155]    0.8  4.3e-3   0.13   0.53   0.72    0.8   0.89   1.06    899   1.01\n",
      "lambda[156]   0.83  3.8e-3   0.13   0.59   0.75   0.83   0.92   1.08   1062   1.01\n",
      "lambda[157]    0.8  4.3e-3   0.13   0.53   0.72    0.8   0.89   1.06    899   1.01\n",
      "lambda[158]   0.61  8.1e-3   0.18   0.23    0.5   0.63   0.73   0.91    484   1.01\n",
      "lambda[159]   0.88  3.9e-3   0.13   0.63   0.79   0.88   0.96   1.13   1031   1.01\n",
      "lambda[160]   0.79  4.1e-3   0.13   0.52   0.71    0.8   0.89   1.04   1047    1.0\n",
      "lambda[161]   1.01  4.9e-3   0.13   0.75   0.93   1.01    1.1   1.28    721    1.0\n",
      "lambda[162]   0.85  3.9e-3   0.13   0.59   0.77   0.86   0.94   1.11   1097    1.0\n",
      "lambda[163]   0.79  4.1e-3   0.13   0.52   0.71    0.8   0.89   1.04   1047    1.0\n",
      "lambda[164]    0.8  4.3e-3   0.13   0.53   0.72    0.8   0.89   1.06    899   1.01\n",
      "lambda[165]   0.85  3.9e-3   0.13   0.59   0.77   0.86   0.94   1.11   1097    1.0\n",
      "lambda[166]   1.01  4.9e-3   0.13   0.75   0.93   1.01    1.1   1.28    721    1.0\n",
      "lambda[167]   0.83  4.6e-3   0.13   0.57   0.75   0.84   0.92   1.08    771   1.01\n",
      "lambda[168]   0.99  4.5e-3   0.13   0.74    0.9   0.98   1.08   1.26    866    1.0\n",
      "lambda[169]   0.72  6.4e-3   0.15    0.4   0.62   0.73   0.82   0.97    517   1.01\n",
      "lambda[170]   0.88  3.8e-3   0.13   0.63    0.8   0.88   0.96   1.14   1143    1.0\n",
      "lambda[171]   0.91  4.3e-3   0.13   0.64   0.82    0.9   0.99   1.17    955    1.0\n",
      "lambda[172]   0.88  3.9e-3   0.13   0.63   0.79   0.88   0.96   1.13   1031   1.01\n",
      "lambda[173]    0.8  4.3e-3   0.13   0.53   0.72    0.8   0.89   1.06    899   1.01\n",
      "lambda[174]   0.83  4.6e-3   0.13   0.57   0.75   0.84   0.92   1.08    771   1.01\n",
      "lambda[175]   0.74  5.8e-3   0.15   0.42   0.64   0.74   0.85   0.99    646   1.01\n",
      "lambda[176]   0.61  8.1e-3   0.18   0.23    0.5   0.63   0.73   0.91    484   1.01\n",
      "lambda[177]   0.85  3.9e-3   0.13   0.59   0.77   0.86   0.94   1.11   1097    1.0\n",
      "lambda[178]   0.88  3.9e-3   0.13   0.63   0.79   0.88   0.96   1.13   1031   1.01\n",
      "lambda[179]   0.79  4.1e-3   0.13   0.52   0.71    0.8   0.89   1.04   1047    1.0\n",
      "lambda[180]   0.72  6.4e-3   0.15    0.4   0.62   0.73   0.82   0.97    517   1.01\n",
      "lambda[181]   0.99  4.5e-3   0.13   0.74    0.9   0.98   1.08   1.26    866    1.0\n",
      "lambda[182]   0.83  3.8e-3   0.13   0.59   0.75   0.83   0.92   1.08   1062   1.01\n",
      "lambda[183]   0.83  4.6e-3   0.13   0.57   0.75   0.84   0.92   1.08    771   1.01\n",
      "lambda[184]   1.01  4.9e-3   0.13   0.75   0.93   1.01    1.1   1.28    721    1.0\n",
      "lambda[185]    0.8  4.3e-3   0.13   0.53   0.72    0.8   0.89   1.06    899   1.01\n",
      "lambda[186]   0.82  3.1e-3   0.14   0.53   0.73   0.83   0.91   1.07   2000   1.01\n",
      "lambda[187]   0.74  5.8e-3   0.15   0.42   0.64   0.74   0.85   0.99    646   1.01\n",
      "lambda[188]   0.88  3.8e-3   0.13   0.63    0.8   0.88   0.96   1.14   1143    1.0\n",
      "lambda[189]   0.91  4.3e-3   0.13   0.64   0.82    0.9   0.99   1.17    955    1.0\n",
      "lambda[190]   0.61  8.1e-3   0.18   0.23    0.5   0.63   0.73   0.91    484   1.01\n",
      "lambda[191]   0.99  4.5e-3   0.13   0.74    0.9   0.98   1.08   1.26    866    1.0\n",
      "lambda[192]   0.72  6.4e-3   0.15    0.4   0.62   0.73   0.82   0.97    517   1.01\n",
      "lambda[193]   0.79  4.1e-3   0.13   0.52   0.71    0.8   0.89   1.04   1047    1.0\n",
      "lambda[194]   0.83  3.8e-3   0.13   0.59   0.75   0.83   0.92   1.08   1062   1.01\n",
      "lambda[195]   0.88  3.9e-3   0.13   0.63   0.79   0.88   0.96   1.13   1031   1.01\n",
      "lambda[196]   0.83  4.6e-3   0.13   0.57   0.75   0.84   0.92   1.08    771   1.01\n",
      "lambda[197]   0.82  3.1e-3   0.14   0.53   0.73   0.83   0.91   1.07   2000   1.01\n",
      "dev         744.83    0.21   5.42 735.52 740.81 744.41 748.48 756.61    645   1.01\n",
      "lp__         -5.79     0.3   4.86 -15.39  -8.96  -5.91  -2.82   4.11    256   1.02\n",
      "\n",
      "Samples were drawn using NUTS at Sat Nov  4 17:39:46 2017.\n",
      "For each parameter, n_eff is a crude measure of effective sample size,\n",
      "and Rhat is the potential scale reduction factor on split chains (at \n",
      "convergence, Rhat=1).\n"
     ]
    }
   ],
   "source": [
    "print (fit)"
   ]
  },
  {
   "cell_type": "code",
   "execution_count": 47,
   "metadata": {},
   "outputs": [
    {
     "data": {
      "text/plain": [
       "2.2637362637362637"
      ]
     },
     "execution_count": 47,
     "metadata": {},
     "output_type": "execute_result"
    }
   ],
   "source": [
    "df['VS'].mean()"
   ]
  },
  {
   "cell_type": "code",
   "execution_count": 48,
   "metadata": {},
   "outputs": [
    {
     "data": {
      "text/plain": [
       "2.4040807677171316"
      ]
     },
     "execution_count": 48,
     "metadata": {},
     "output_type": "execute_result"
    }
   ],
   "source": [
    "df['VS'].var()"
   ]
  },
  {
   "cell_type": "code",
   "execution_count": 83,
   "metadata": {},
   "outputs": [
    {
     "data": {
      "text/plain": [
       "2.8076923076923075"
      ]
     },
     "execution_count": 83,
     "metadata": {},
     "output_type": "execute_result"
    }
   ],
   "source": [
    "dfl = df[df['HEMMA'] == 'Färjestad']\n",
    "dfl['HS'].mean()"
   ]
  },
  {
   "cell_type": "code",
   "execution_count": 84,
   "metadata": {},
   "outputs": [
    {
     "data": {
      "text/plain": [
       "2.3076923076923075"
      ]
     },
     "execution_count": 84,
     "metadata": {},
     "output_type": "execute_result"
    }
   ],
   "source": [
    "dfl = df[df['BORTA'] == 'Färjestad']\n",
    "dfl['VS'].mean()"
   ]
  },
  {
   "cell_type": "code",
   "execution_count": 55,
   "metadata": {},
   "outputs": [
    {
     "data": {
      "text/plain": [
       "2.3446153846153845"
      ]
     },
     "execution_count": 55,
     "metadata": {},
     "output_type": "execute_result"
    }
   ],
   "source": [
    "dfl['HS'].var()"
   ]
  },
  {
   "cell_type": "code",
   "execution_count": 59,
   "metadata": {},
   "outputs": [
    {
     "data": {
      "text/plain": [
       "<matplotlib.axes._subplots.AxesSubplot at 0x7fa843c4f668>"
      ]
     },
     "execution_count": 59,
     "metadata": {},
     "output_type": "execute_result"
    },
    {
     "data": {
      "image/png": "[encoded data removed]",
      "text/plain": [
       "<matplotlib.figure.Figure at 0x7fa843ca7278>"
      ]
     },
     "metadata": {},
     "output_type": "display_data"
    }
   ],
   "source": [
    "dfl.set_index('DATUM')\n",
    "dfl['HS'].plot()"
   ]
  },
  {
   "cell_type": "code",
   "execution_count": 65,
   "metadata": {},
   "outputs": [
    {
     "data": {
      "text/plain": [
       "0           HV71\n",
       "1          Växjö\n",
       "2     Karlskrona\n",
       "3          Luleå\n",
       "4     Skellefteå\n",
       "5        Leksand\n",
       "6      Linköping\n",
       "9         Brynäs\n",
       "10         Rögle\n",
       "13         Malmö\n",
       "15        Örebro\n",
       "16    Djurgården\n",
       "18     Färjestad\n",
       "20      Frölunda\n",
       "Name: HEMMA, dtype: object"
      ]
     },
     "execution_count": 65,
     "metadata": {},
     "output_type": "execute_result"
    }
   ],
   "source": [
    "df['HEMMA'].drop_duplicates()"
   ]
  },
  {
   "cell_type": "code",
   "execution_count": 64,
   "metadata": {},
   "outputs": [
    {
     "data": {
      "text/plain": [
       "(26, 7)"
      ]
     },
     "execution_count": 64,
     "metadata": {},
     "output_type": "execute_result"
    }
   ],
   "source": [
    "dfl.shape"
   ]
  }
 ],
 "metadata": {
  "kernelspec": {
   "display_name": "Python 3",
   "language": "python",
   "name": "python3"
  },
  "language_info": {
   "codemirror_mode": {
    "name": "ipython",
    "version": 3
   },
   "file_extension": ".py",
   "mimetype": "text/x-python",
   "name": "python",
   "nbconvert_exporter": "python",
   "pygments_lexer": "ipython3",
   "version": "3.6.2"
  }
 },
 "nbformat": 4,
 "nbformat_minor": 2
}
